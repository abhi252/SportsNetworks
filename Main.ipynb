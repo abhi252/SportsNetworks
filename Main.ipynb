{
 "cells": [
  {
   "cell_type": "markdown",
   "metadata": {},
   "source": [
    "# Football Passing Distributions  - Champions League 2012,2013,2015,2016"
   ]
  },
  {
   "cell_type": "code",
   "execution_count": 1,
   "metadata": {},
   "outputs": [],
   "source": [
    "import networkx as nx\n",
    "import matplotlib.pyplot as plt\n",
    "import csv\n",
    "import re\n",
    "import os\n",
    "from networkx.drawing.nx_agraph import graphviz_layout\n",
    "from bs4 import BeautifulSoup\n",
    "import urllib2\n",
    "import pickle\n",
    "from pyPdf import PdfFileWriter, PdfFileReader\n",
    "from collections import defaultdict\n",
    "import numpy as np\n",
    "from sklearn.linear_model import Ridge\n",
    "from sklearn.metrics import mean_squared_error\n",
    "from sklearn.metrics import mean_absolute_error\n",
    "from sklearn.svm import SVR\n",
    "import matplotlib.pyplot as plt\n",
    "from random import shuffle\n",
    "from sklearn.metrics import r2_score\n",
    "from sklearn.ensemble import RandomForestRegressor, GradientBoostingRegressor\n",
    "from sklearn.decomposition import NMF\n",
    "from itertools import chain\n",
    "from sklearn.cluster import KMeans"
   ]
  },
  {
   "cell_type": "markdown",
   "metadata": {},
   "source": [
    "## Single Game Data Visualisation"
   ]
  },
  {
   "cell_type": "code",
   "execution_count": 2,
   "metadata": {},
   "outputs": [],
   "source": [
    "team = 0\n",
    "team0, team1 = [],[]\n",
    "team0na,team1na = [],[]\n",
    "with open('Data\\game1.csv','rb') as csvfile :\n",
    "    reader = csv.reader(csvfile, delimiter=',')\n",
    "    for row in reader:\n",
    "        if row[0] != 'Total passes received:' and team == 0:\n",
    "            name = re.sub(\"[0-9]\", \" \", row[0]).strip().decode('utf-8',\"ignore\")\n",
    "            team0.append(name)\n",
    "            team0na.append((name,row[-9],row[-8],row[-7],row[-6],row[-5],row[-4],row[-3],row[-2]))\n",
    "        if row[0] == 'Total passes received:' :\n",
    "            team = 1\n",
    "        if row[0] != 'Total passes received:' and team == 1:\n",
    "            name = re.sub(\"[0-9]\", \" \", row[0]).strip().decode('utf-8',\"ignore\")\n",
    "            team1.append(name)"
   ]
  },
  {
   "cell_type": "code",
   "execution_count": 3,
   "metadata": {},
   "outputs": [],
   "source": [
    "team = 0\n",
    "team0_edges, team1_edges = [],[]\n",
    "team0_edge_attr ={}\n",
    "t0count,t1count = 0,0\n",
    "with open('Data\\game1.csv','rb') as csvfile :\n",
    "    reader = csv.reader(csvfile, delimiter=',')\n",
    "    for row in reader:\n",
    "        if row[0] != 'Total passes received:' and team == 0:\n",
    "            l1 = [team0[t0count]]*len(team0)\n",
    "            for x in range(len(row)) :\n",
    "                if row[x] == '-' or row[x] == '' :\n",
    "                    row[x] = 0\n",
    "            out = zip(l1,team0,row[3:len(team0)-3])\n",
    "            t0count+=1\n",
    "            team0_edges += out\n",
    "        if row[0] == 'Total passes received:' :\n",
    "            team = 1\n",
    "        if row[0] != 'Total passes received:' and team == 1:\n",
    "            pass"
   ]
  },
  {
   "cell_type": "code",
   "execution_count": 4,
   "metadata": {
    "collapsed": true
   },
   "outputs": [],
   "source": [
    "G = nx.DiGraph()"
   ]
  },
  {
   "cell_type": "code",
   "execution_count": 5,
   "metadata": {},
   "outputs": [],
   "source": [
    "for x in team0na :\n",
    "    G.add_node(x[0])#,Long_PC=x[1],Long_PA=x[2],Medium_PC=x[3],Medium_PA=x[4],Short_PC=x[5],Short_PA=x[6],Total_PC=x[7],Total_PA=x[8])\n",
    "for x in team0_edges :\n",
    "    G.add_edge(x[0],x[1],weight=int(x[2]))"
   ]
  },
  {
   "cell_type": "code",
   "execution_count": 6,
   "metadata": {},
   "outputs": [
    {
     "name": "stderr",
     "output_type": "stream",
     "text": [
      "C:\\Users\\abhna\\Anaconda2\\lib\\site-packages\\networkx\\drawing\\nx_pylab.py:126: MatplotlibDeprecationWarning: pyplot.hold is deprecated.\n",
      "    Future behavior will be consistent with the long-time default:\n",
      "    plot commands add elements without first clearing the\n",
      "    Axes and/or Figure.\n",
      "  b = plt.ishold()\n",
      "C:\\Users\\abhna\\Anaconda2\\lib\\site-packages\\networkx\\drawing\\nx_pylab.py:138: MatplotlibDeprecationWarning: pyplot.hold is deprecated.\n",
      "    Future behavior will be consistent with the long-time default:\n",
      "    plot commands add elements without first clearing the\n",
      "    Axes and/or Figure.\n",
      "  plt.hold(b)\n",
      "C:\\Users\\abhna\\Anaconda2\\lib\\site-packages\\matplotlib\\__init__.py:917: UserWarning: axes.hold is deprecated. Please remove it from your matplotlibrc and/or style files.\n",
      "  warnings.warn(self.msg_depr_set % key)\n",
      "C:\\Users\\abhna\\Anaconda2\\lib\\site-packages\\matplotlib\\rcsetup.py:152: UserWarning: axes.hold is deprecated, will be removed in 3.0\n",
      "  warnings.warn(\"axes.hold is deprecated, will be removed in 3.0\")\n"
     ]
    }
   ],
   "source": [
    "nx.draw(G)"
   ]
  },
  {
   "cell_type": "code",
   "execution_count": 7,
   "metadata": {},
   "outputs": [
    {
     "data": {
      "text/plain": [
       "[u'Yaroslav Rakitskiy',\n",
       " u'Luiz Adriano',\n",
       " u'Alex Teixeira',\n",
       " u'Ilsinho',\n",
       " u'Tom Hbschman',\n",
       " u'R?zvan Ra?',\n",
       " u'Olexandr Kucher',\n",
       " u'Marko Devi?',\n",
       " u'Henrik Mkhitaryan',\n",
       " u'Fernandinho',\n",
       " u'Willian',\n",
       " u'Douglas Costa',\n",
       " u'Darijo Srna',\n",
       " u'Andriy Pyatov']"
      ]
     },
     "execution_count": 7,
     "metadata": {},
     "output_type": "execute_result"
    }
   ],
   "source": [
    "G.nodes()"
   ]
  },
  {
   "cell_type": "code",
   "execution_count": 8,
   "metadata": {},
   "outputs": [],
   "source": [
    "plt.draw()"
   ]
  },
  {
   "cell_type": "code",
   "execution_count": 9,
   "metadata": {},
   "outputs": [
    {
     "data": {
      "image/png": "[encoded data removed]",
      "text/plain": [
       "<matplotlib.figure.Figure at 0xa24ceb8>"
      ]
     },
     "metadata": {},
     "output_type": "display_data"
    }
   ],
   "source": [
    "plt.show()"
   ]
  },
  {
   "cell_type": "code",
   "execution_count": 23,
   "metadata": {},
   "outputs": [
    {
     "data": {
      "text/plain": [
       "[0.99681763430202142, 0.86406457791134483, 0.7014138803774933, 0.0]"
      ]
     },
     "execution_count": 23,
     "metadata": {},
     "output_type": "execute_result"
    }
   ],
   "source": [
    "adj = nx.to_numpy_matrix(G)\n",
    "model = NMF(n_components=4)\n",
    "W = model.fit_transform(adj)\n",
    "list(W[4])"
   ]
  },
  {
   "cell_type": "code",
   "execution_count": 126,
   "metadata": {},
   "outputs": [
    {
     "name": "stdout",
     "output_type": "stream",
     "text": [
      "{u'Yaroslav Rakitskiy': 0.010714285714285716, u'Luiz Adriano': 0.05290138463371911, u'Alex Teixeira': 0.010714285714285716, u'Ilsinho': 0.010714285714285716, u'Tom Hbschman': 0.16224184476040357, u'R?zvan Ra?': 0.08171759922724815, u'Olexandr Kucher': 0.14172200789729264, u'Marko Devi?': 0.010714285714285716, u'Henrik Mkhitaryan': 0.13158646458582407, u'Fernandinho': 0.15953779899241213, u'Willian': 0.16937934208342798, u'Douglas Costa': 0.010714285714285716, u'Darijo Srna': 0.010714285714285716, u'Andriy Pyatov': 0.03662784353395805} {u'Yaroslav Rakitskiy': 0.6153846153846154, u'Luiz Adriano': 0.5384615384615384, u'Alex Teixeira': 0.6153846153846154, u'Ilsinho': 0.6153846153846154, u'Tom Hbschman': 0.5384615384615384, u'Olexandr Kucher': 0.5384615384615384, u'R?zvan Ra?': 0.5384615384615384, u'Marko Devi?': 0.6153846153846154, u'Henrik Mkhitaryan': 0.5384615384615384, u'Fernandinho': 0.5384615384615384, u'Willian': 0.5384615384615384, u'Douglas Costa': 0.6153846153846154, u'Darijo Srna': 0.6153846153846154, u'Andriy Pyatov': 0.5384615384615384}\n"
     ]
    }
   ],
   "source": [
    "a = nx.pagerank(G)\n",
    "b = nx.centrality.closeness_centrality(G)\n",
    "print a,b"
   ]
  },
  {
   "cell_type": "markdown",
   "metadata": {
    "collapsed": true
   },
   "source": [
    "## Overall Statistics - Data Available"
   ]
  },
  {
   "cell_type": "code",
   "execution_count": 2,
   "metadata": {},
   "outputs": [
    {
     "name": "stdout",
     "output_type": "stream",
     "text": [
      "406958 986 13608 2178\n"
     ]
    }
   ],
   "source": [
    "files = os.listdir('CSVS')\n",
    "totals = 0\n",
    "count = 0\n",
    "playerdict = defaultdict()\n",
    "playercount = 0\n",
    "for x in files :\n",
    "    count += 1\n",
    "    filename = 'CSVS\\\\'+ x\n",
    "    with open(filename,'rb') as csvfile :\n",
    "        reader = csv.reader(csvfile, delimiter=',')\n",
    "        for row in reader :\n",
    "            if row[0] == 'Total passes received:' :\n",
    "                totals+=int(row[-3])\n",
    "            else :\n",
    "                name = re.sub(\"[0-9]\", \" \", row[0]).strip().decode('utf-8',\"ignore\")\n",
    "                playerdict[name] = {'height':0,'position':[]}\n",
    "                playercount+=1\n",
    "print totals,count,playercount,len(playerdict)"
   ]
  },
  {
   "cell_type": "code",
   "execution_count": 66,
   "metadata": {},
   "outputs": [],
   "source": [
    "# print playerdict"
   ]
  },
  {
   "cell_type": "markdown",
   "metadata": {},
   "source": [
    "## Gather Player Position and Height from Google"
   ]
  },
  {
   "cell_type": "code",
   "execution_count": 29,
   "metadata": {},
   "outputs": [],
   "source": [
    "# for player in playerdict :\n",
    "#     temp =  player.encode(\"utf-8\",\"ignore\").replace(\" \",\"+\")\n",
    "#     address = \"http://www.google.com/search?q=\" + temp + \"+footballer+position\"\n",
    "#     request = urllib2.Request(address, None, {'User-Agent':'Mosilla/5.0 (Macintosh; Intel Mac OS X 10_7_4) AppleWebKit/536.11 (KHTML, like Gecko) Chrome/20.0.1132.57 Safari/536.11'})\n",
    "#     urlfile = urllib2.urlopen(request)\n",
    "#     page = urlfile.read()\n",
    "#     soup = BeautifulSoup(page)\n",
    "#     mydivs = soup.findAll(\"div\", { \"class\" : \"_XWk\" })\n",
    "#     mydivs1 = soup.findAll(\"div\", { \"class\" : \"title\" })\n",
    "#     positions = []\n",
    "#     if len(mydivs)!=0 :\n",
    "#         for x in mydivs :\n",
    "#             p = str(x)\n",
    "#             positions.append(re.split('>|<',p)[2])\n",
    "#     else :\n",
    "#         if len(mydivs1)!=0 :\n",
    "#             for x in mydivs1 :\n",
    "#                 p = str(x)\n",
    "#                 positions.append(re.split('>|<',p)[2])\n",
    "#     playerdict[player]['position'] = positions\n",
    "    \n",
    "#     address = \"http://www.google.com/search?q=\" + temp + \"+footballer+height\"\n",
    "#     request = urllib2.Request(address, None, {'User-Agent':'Mosilla/5.0 (Macintosh; Intel Mac OS X 10_7_4) AppleWebKit/536.11 (KHTML, like Gecko) Chrome/20.0.1132.57 Safari/536.11'})\n",
    "#     urlfile = urllib2.urlopen(request)\n",
    "#     page = urlfile.read()\n",
    "#     soup = BeautifulSoup(page)\n",
    "#     mydivs = soup.findAll(\"div\", { \"class\" : \"_XWk\" })\n",
    "#     heights = 0\n",
    "#     if len(mydivs)!=0 :\n",
    "#         for x in mydivs :\n",
    "#             p = str(x)\n",
    "#             p = re.split('>|<| ',p)\n",
    "#             try :\n",
    "#                 heights = (float(p[3][0])+float(p[4][0])/(12.0))\n",
    "#             except ValueError:\n",
    "#                 heights = 0\n",
    "#     playerdict[player]['height'] = heights\n",
    "#     print player,playerdict[player]['height'],playerdict[player]['position']"
   ]
  },
  {
   "cell_type": "code",
   "execution_count": 71,
   "metadata": {
    "collapsed": true
   },
   "outputs": [],
   "source": [
    "# with open('player.pickle', 'wb') as handle:\n",
    "#     pickle.dump(playerdict, handle, protocol=pickle.HIGHEST_PROTOCOL)"
   ]
  },
  {
   "cell_type": "code",
   "execution_count": 2,
   "metadata": {
    "collapsed": true
   },
   "outputs": [],
   "source": [
    "with open('player.pickle', 'rb') as handle:\n",
    "    playerdict =  pickle.load(handle)"
   ]
  },
  {
   "cell_type": "code",
   "execution_count": 31,
   "metadata": {},
   "outputs": [
    {
     "name": "stdout",
     "output_type": "stream",
     "text": [
      "{'closeness': 1.1070858166775097, 'height': 5.583333333333333, 'pagerank': 0.09973258861607952, 'Medium PC': 967, 'position': ['Forward'], 'Long PA': 138, 'Short PC': 618, 'Long PC': 100, 'Short PA': 779, 'betweeness': 0.0, 'Medium PA': 1157}\n"
     ]
    }
   ],
   "source": [
    "print playerdict['Lionel Messi']"
   ]
  },
  {
   "cell_type": "markdown",
   "metadata": {},
   "source": [
    "## Construct Rankings"
   ]
  },
  {
   "cell_type": "code",
   "execution_count": 5,
   "metadata": {},
   "outputs": [],
   "source": [
    "season2012,season2013,season2015,season2016 = defaultdict(),defaultdict(),defaultdict(),defaultdict()\n",
    "csvs = ['2012.csv','2013.csv','2015.csv','2016.csv']\n",
    "for x in csvs :\n",
    "    with open(x,'rb') as csvfile :\n",
    "        reader = csv.reader(csvfile, delimiter=',')\n",
    "        for row in reader :\n",
    "            if x == '2012.csv':\n",
    "                try :\n",
    "                    season2012[row[1]] = int(row[0])\n",
    "                except ValueError :\n",
    "                    pass\n",
    "            elif x == '2013.csv':\n",
    "                try :\n",
    "                    season2013[row[1]] = int(row[0])\n",
    "                except ValueError :\n",
    "                    pass\n",
    "            elif x == '2015.csv':\n",
    "                try :\n",
    "                    season2015[row[1]] = int(row[0])\n",
    "                except ValueError :\n",
    "                    pass\n",
    "            else :\n",
    "                try :\n",
    "                    season2016[row[1]] = int(row[0])\n",
    "                except ValueError:\n",
    "                    pass"
   ]
  },
  {
   "cell_type": "code",
   "execution_count": 8,
   "metadata": {},
   "outputs": [],
   "source": [
    "with open('season2012.pickle', 'wb') as handle:\n",
    "    pickle.dump(season2012, handle, protocol=pickle.HIGHEST_PROTOCOL)\n",
    "with open('season2013.pickle', 'wb') as handle:\n",
    "    pickle.dump(season2013, handle, protocol=pickle.HIGHEST_PROTOCOL)\n",
    "with open('season2015.pickle', 'wb') as handle:\n",
    "    pickle.dump(season2015, handle, protocol=pickle.HIGHEST_PROTOCOL)\n",
    "with open('season2016.pickle', 'wb') as handle:\n",
    "    pickle.dump(season2016, handle, protocol=pickle.HIGHEST_PROTOCOL)"
   ]
  },
  {
   "cell_type": "markdown",
   "metadata": {},
   "source": [
    "## Bulding Player Statistics"
   ]
  },
  {
   "cell_type": "code",
   "execution_count": 25,
   "metadata": {
    "collapsed": true
   },
   "outputs": [],
   "source": [
    "# for a in playerdict :\n",
    "#     playerdict[a]['Long PA'] = 1\n",
    "#     playerdict[a]['Long PC'] = 1\n",
    "#     playerdict[a]['Medium PA'] = 1\n",
    "#     playerdict[a]['Medium PC'] = 1\n",
    "#     playerdict[a]['Short PA'] = 1\n",
    "#     playerdict[a]['Short PC'] = 1"
   ]
  },
  {
   "cell_type": "code",
   "execution_count": null,
   "metadata": {
    "collapsed": true
   },
   "outputs": [],
   "source": [
    "# files = os.listdir('CSVS')\n",
    "# teamcount = 0\n",
    "# for x in files :\n",
    "#     count += 1\n",
    "#     filename = 'CSVS\\\\'+ x\n",
    "#     with open(filename,'rb') as csvfile :\n",
    "#         reader = csv.reader(csvfile, delimiter=',')\n",
    "#         for row in reader :\n",
    "#             name = re.sub(\"[0-9]\", \" \", row[0]).strip().decode('utf-8',\"ignore\")\n",
    "#             for x in range(len(row)) :\n",
    "#                 if row[x] == '-' or row[x] == '' :\n",
    "#                     row[x] = 0\n",
    "#             if name not in playerdict or name == 'Total passes received:':\n",
    "#                 teamcount+=1\n",
    "#                 if name!='Total passes received:':\n",
    "#                     print name\n",
    "#             else :\n",
    "#                 playerdict[name]['Long PA']+=int(row[-8])\n",
    "#                 playerdict[name]['Long PC']+=int(row[-9])\n",
    "#                 playerdict[name]['Medium PA']+=int(row[-6])\n",
    "#                 playerdict[name]['Medium PC']+=int(row[-7])\n",
    "#                 playerdict[name]['Short PA']+=int(row[-4])\n",
    "#                 playerdict[name]['Short PC']+=int(row[-5])"
   ]
  },
  {
   "cell_type": "markdown",
   "metadata": {},
   "source": [
    "## Player Positions - 1hot encoding"
   ]
  },
  {
   "cell_type": "code",
   "execution_count": 6,
   "metadata": {},
   "outputs": [
    {
     "name": "stdout",
     "output_type": "stream",
     "text": [
      "set(['', 'Coach', 'Infielder', 'Defender', 'Forward', 'Midfielder', 'Goalkeeper', 'Winger'])\n"
     ]
    }
   ],
   "source": [
    "allpositions = set()\n",
    "for x in playerdict :\n",
    "    allpositions.update(playerdict[x]['position'])\n",
    "print allpositions"
   ]
  },
  {
   "cell_type": "code",
   "execution_count": 137,
   "metadata": {
    "collapsed": true
   },
   "outputs": [],
   "source": [
    "from sklearn import preprocessing\n",
    "lb = preprocessing.LabelBinarizer()"
   ]
  },
  {
   "cell_type": "code",
   "execution_count": 139,
   "metadata": {},
   "outputs": [
    {
     "data": {
      "text/plain": [
       "LabelBinarizer(neg_label=0, pos_label=1, sparse_output=False)"
      ]
     },
     "execution_count": 139,
     "metadata": {},
     "output_type": "execute_result"
    }
   ],
   "source": [
    "lb.fit(list(allpositions))"
   ]
  },
  {
   "cell_type": "markdown",
   "metadata": {},
   "source": [
    "## Constructing the matrix - Baseline Model\n",
    "###  Initial Feature Set to be used for link prediction\n",
    "Player Height, Player Position, Receiver Position, Short Passes Accuracy, Medium Passes Accuracy, Long Passes Accuracy\n",
    "Team Rank, Opposition Team Rank, Home or Away, Receiver Height, Time Player, Receiver Time Played"
   ]
  },
  {
   "cell_type": "code",
   "execution_count": 8,
   "metadata": {
    "collapsed": true
   },
   "outputs": [],
   "source": [
    "def playertype(a,b):\n",
    "    if b in a:\n",
    "        return 1\n",
    "    else :\n",
    "        return 0"
   ]
  },
  {
   "cell_type": "code",
   "execution_count": 36,
   "metadata": {},
   "outputs": [
    {
     "name": "stderr",
     "output_type": "stream",
     "text": [
      "C:\\Users\\abhna\\Anaconda2\\lib\\site-packages\\ipykernel\\__main__.py:30: UnicodeWarning: Unicode equal comparison failed to convert both arguments to Unicode - interpreting them as being unequal\n",
      "C:\\Users\\abhna\\Anaconda2\\lib\\site-packages\\ipykernel\\__main__.py:26: UnicodeWarning: Unicode equal comparison failed to convert both arguments to Unicode - interpreting them as being unequal\n"
     ]
    },
    {
     "name": "stdout",
     "output_type": "stream",
     "text": [
      "2009488_tpdteam0.csv 1 0\n",
      "2009488_tpdteam1.csv 2 210\n",
      "2009489_tpdteam0.csv 3 420\n",
      "2009489_tpdteam1.csv 4 602\n",
      "2009490_tpdteam0.csv 5 812\n",
      "2009490_tpdteam1.csv 6 1022\n",
      "2009491_tpdteam0.csv 7 1232\n",
      "2009491_tpdteam1.csv 8 1442\n",
      "2009492_tpdteam0.csv 9 1652\n",
      "2009492_tpdteam1.csv 10 1862\n",
      "2009493_tpdteam0.csv 11 2072\n",
      "2009493_tpdteam1.csv 12 2254\n",
      "2009494_tpdteam0.csv 13 2464\n",
      "2009494_tpdteam1.csv 14 2674\n",
      "2009496_tpdteam0.csv 15 2884\n",
      "2009496_tpdteam1.csv 16 3094\n",
      "2009497_tpdteam0.csv 17 3304\n",
      "2009497_tpdteam1.csv 18 3514\n",
      "2009498_tpdteam0.csv 19 3724\n",
      "2009498_tpdteam1.csv 20 3934\n",
      "2009499_tpdteam0.csv 21 4144\n",
      "2009499_tpdteam1.csv 22 4354\n",
      "2009500_tpdteam0.csv 23 4564\n",
      "2009500_tpdteam1.csv 24 4774\n",
      "2009501_tpdteam0.csv 25 4984\n",
      "2009501_tpdteam1.csv 26 5194\n",
      "2009502_tpdteam0.csv 27 5404\n",
      "2009502_tpdteam1.csv 28 5614\n",
      "2009503_tpdteam0.csv 29 5796\n",
      "2009503_tpdteam1.csv 30 6006\n",
      "2009504_tpdteam0.csv 31 6216\n",
      "2009504_tpdteam1.csv 32 6426\n",
      "2009505_tpdteam0.csv 33 6636\n",
      "2009505_tpdteam1.csv 34 6846\n",
      "2009506_tpdteam0.csv 35 7042\n",
      "2009506_tpdteam1.csv 36 7252\n",
      "2009507_tpdteam0.csv 37 7462\n",
      "2009507_tpdteam1.csv 38 7672\n",
      "2009508_tpdteam0.csv 39 7882\n",
      "2009508_tpdteam1.csv 40 8064\n",
      "2009509_tpdteam0.csv 41 8274\n",
      "2009509_tpdteam1.csv 42 8484\n",
      "2009510_tpdteam0.csv 43 8694\n",
      "2009510_tpdteam1.csv 44 8904\n",
      "2009511_tpdteam0.csv 45 9114\n",
      "2009511_tpdteam1.csv 46 9324\n",
      "2009512_tpdteam0.csv 47 9534\n",
      "2009512_tpdteam1.csv 48 9744\n",
      "2009513_tpdteam0.csv 49 9900\n",
      "2009513_tpdteam1.csv 50 10110\n",
      "2009514_tpdteam0.csv 51 10292\n",
      "2009514_tpdteam1.csv 52 10502\n",
      "2009515_tpdteam0.csv 53 10712\n",
      "2009515_tpdteam1.csv 54 10922\n",
      "2009516_tpdteam0.csv 55 11132\n",
      "2009516_tpdteam1.csv 56 11342\n",
      "2009517_tpdteam0.csv 57 11552\n",
      "2009517_tpdteam1.csv 58 11762\n",
      "2009518_tpdteam0.csv 59 11944\n",
      "2009518_tpdteam1.csv 60 12154\n",
      "2009519_tpdteam0.csv 61 12336\n",
      "2009519_tpdteam1.csv 62 12546\n",
      "2009520_tpdteam0.csv 63 12756\n",
      "2009520_tpdteam1.csv 64 12966\n",
      "2009521_tpdteam0.csv 65 13122\n",
      "2009521_tpdteam1.csv 66 13332\n",
      "2009522_tpdteam0.csv 67 13542\n",
      "2009522_tpdteam1.csv 68 13752\n",
      "2009523_tpdteam0.csv 69 13962\n",
      "2009523_tpdteam1.csv 70 14172\n",
      "2009524_tpdteam0.csv 71 14382\n",
      "2009524_tpdteam1.csv 72 14592\n",
      "2009525_tpdteam0.csv 73 14774\n",
      "2009525_tpdteam1.csv 74 14984\n",
      "2009526_tpdteam0.csv 75 15166\n",
      "2009526_tpdteam1.csv 76 15348\n",
      "2009527_tpdteam0.csv 77 15558\n",
      "2009527_tpdteam1.csv 78 15768\n",
      "2009528_tpdteam0.csv 79 15950\n",
      "2009528_tpdteam1.csv 80 16160\n",
      "2009529_tpdteam0.csv 81 16370\n",
      "2009529_tpdteam1.csv 82 16552\n",
      "2009530_tpdteam0.csv 83 16734\n",
      "2009530_tpdteam1.csv 84 16944\n",
      "2009531_tpdteam0.csv 85 17154\n",
      "2009531_tpdteam1.csv 86 17364\n",
      "2009532_tpdteam0.csv 87 17574\n",
      "2009532_tpdteam1.csv 88 17784\n",
      "2009533_tpdteam0.csv 89 17994\n",
      "2009533_tpdteam1.csv 90 18176\n",
      "2009534_tpdteam0.csv 91 18386\n",
      "2009534_tpdteam1.csv 92 18596\n",
      "2009535_tpdteam0.csv 93 18806\n",
      "2009535_tpdteam1.csv 94 18988\n",
      "2009536_tpdteam0.csv 95 19198\n",
      "2009536_tpdteam1.csv 96 19408\n",
      "2009537_tpdteam0.csv 97 19618\n",
      "2009537_tpdteam1.csv 98 19800\n",
      "2009538_tpdteam0.csv 99 19956\n",
      "2009538_tpdteam1.csv 100 20166\n",
      "2009539_tpdteam0.csv 101 20376\n",
      "2009539_tpdteam1.csv 102 20586\n",
      "2009540_tpdteam0.csv 103 20796\n",
      "2009540_tpdteam1.csv 104 21006\n",
      "2009541_tpdteam0.csv 105 21216\n",
      "2009541_tpdteam1.csv 106 21398\n",
      "2009542_tpdteam0.csv 107 21608\n",
      "2009542_tpdteam1.csv 108 21818\n",
      "2009543_tpdteam0.csv 109 22028\n",
      "2009543_tpdteam1.csv 110 22238\n",
      "2009544_tpdteam0.csv 111 22448\n",
      "2009544_tpdteam1.csv 112 22658\n",
      "2009545_tpdteam0.csv 113 22868\n",
      "2009545_tpdteam1.csv 114 23078\n",
      "2009546_tpdteam0.csv 115 23288\n",
      "2009546_tpdteam1.csv 116 23484\n",
      "2009547_tpdteam0.csv 117 23666\n",
      "2009547_tpdteam1.csv 118 23876\n",
      "2009548_tpdteam0.csv 119 24086\n",
      "2009548_tpdteam1.csv 120 24268\n",
      "2009549_tpdteam0.csv 121 24478\n",
      "2009549_tpdteam1.csv 122 24688\n",
      "2009550_tpdteam0.csv 123 24898\n",
      "2009550_tpdteam1.csv 124 25108\n",
      "2009551_tpdteam0.csv 125 25318\n",
      "2009551_tpdteam1.csv 126 25528\n",
      "2009552_tpdteam0.csv 127 25738\n",
      "2009552_tpdteam1.csv 128 25948\n",
      "2009553_tpdteam0.csv 129 26158\n",
      "2009553_tpdteam1.csv 130 26368\n",
      "2009554_tpdteam0.csv 131 26578\n",
      "2009554_tpdteam1.csv 132 26788\n",
      "2009555_tpdteam0.csv 133 26998\n",
      "2009555_tpdteam1.csv 134 27208\n",
      "2009556_tpdteam0.csv 135 27418\n",
      "2009556_tpdteam1.csv 136 27587\n",
      "2009557_tpdteam0.csv 137 27797\n",
      "2009557_tpdteam1.csv 138 28007\n",
      "2009558_tpdteam0.csv 139 28217\n",
      "2009558_tpdteam1.csv 140 28427\n",
      "2009559_tpdteam0.csv 141 28637\n",
      "2009559_tpdteam1.csv 142 28847\n",
      "2009560_tpdteam0.csv 143 29057\n",
      "2009560_tpdteam1.csv 144 29267\n",
      "2009561_tpdteam0.csv 145 29477\n",
      "2009561_tpdteam1.csv 146 29687\n",
      "2009562_tpdteam0.csv 147 29869\n",
      "2009562_tpdteam1.csv 148 30079\n",
      "2009563_tpdteam0.csv 149 30289\n",
      "2009563_tpdteam1.csv 150 30499\n",
      "2009564_tpdteam0.csv 151 30709\n",
      "2009564_tpdteam1.csv 152 30919\n",
      "2009565_tpdteam0.csv 153 31129\n",
      "2009565_tpdteam1.csv 154 31339\n",
      "2009566_tpdteam0.csv 155 31549\n",
      "2009566_tpdteam1.csv 156 31759\n",
      "2009567_tpdteam0.csv 157 31969\n",
      "2009567_tpdteam1.csv 158 32179\n",
      "2009568_tpdteam0.csv 159 32389\n",
      "2009568_tpdteam1.csv 160 32571\n",
      "2009569_tpdteam0.csv 161 32753\n",
      "2009569_tpdteam1.csv 162 32963\n",
      "2009570_tpdteam0.csv 163 33173\n",
      "2009570_tpdteam1.csv 164 33383\n",
      "2009571_tpdteam0.csv 165 33593\n",
      "2009571_tpdteam1.csv 166 33803\n",
      "2009572_tpdteam0.csv 167 34013\n",
      "2009572_tpdteam1.csv 168 34223\n",
      "2009573_tpdteam0.csv 169 34433\n",
      "2009573_tpdteam1.csv 170 34643\n",
      "2009574_tpdteam0.csv 171 34799\n",
      "2009574_tpdteam1.csv 172 35009\n",
      "2009575_tpdteam0.csv 173 35219\n",
      "2009575_tpdteam1.csv 174 35401\n",
      "2009577_tpdteam0.csv 175 35611\n",
      "2009577_tpdteam1.csv 176 35821\n",
      "2009578_tpdteam0.csv 177 36031\n",
      "2009578_tpdteam1.csv 178 36241\n",
      "2009579_tpdteam0.csv 179 36451\n",
      "2009579_tpdteam1.csv 180 36661\n",
      "2009580_tpdteam0.csv 181 36843\n",
      "2009580_tpdteam1.csv 182 37053\n",
      "2009581_tpdteam0.csv 183 37235\n",
      "2009581_tpdteam1.csv 184 37445\n",
      "2009582_tpdteam0.csv 185 37655\n",
      "2009582_tpdteam1.csv 186 37865\n",
      "2009583_tpdteam0.csv 187 38075\n",
      "2009583_tpdteam1.csv 188 38285\n",
      "2009584_tpdteam0.csv 189 38495\n",
      "2009584_tpdteam1.csv 190 38705\n",
      "2009585_tpdteam0.csv 191 38887\n",
      "2009585_tpdteam1.csv 192 39097\n",
      "2009586_tpdteam0.csv 193 39307\n",
      "2009586_tpdteam1.csv 194 39517\n",
      "2009587_tpdteam0.csv 195 39727\n",
      "2009587_tpdteam1.csv 196 39937\n",
      "2009588_tpdteam0.csv 197 40147\n",
      "2009588_tpdteam1.csv 198 40329\n",
      "2009589_tpdteam0.csv 199 40539\n",
      "2009589_tpdteam1.csv 200 40721\n",
      "2009590_tpdteam0.csv 201 40903\n",
      "2009590_tpdteam1.csv 202 41085\n",
      "2009591_tpdteam0.csv 203 41267\n",
      "2009591_tpdteam1.csv 204 41477\n",
      "2009592_tpdteam0.csv 205 41687\n",
      "2009592_tpdteam1.csv 206 41897\n",
      "2009593_tpdteam0.csv 207 42107\n",
      "2009593_tpdteam1.csv 208 42317\n",
      "2009594_tpdteam0.csv 209 42527\n",
      "2009594_tpdteam1.csv 210 42737\n",
      "2009595_tpdteam0.csv 211 42947\n",
      "2009595_tpdteam1.csv 212 43157\n",
      "2009596_tpdteam0.csv 213 43367\n",
      "2009596_tpdteam1.csv 214 43577\n",
      "2009597_tpdteam0.csv 215 43787\n",
      "2009597_tpdteam1.csv 216 43997\n",
      "2009598_tpdteam0.csv 217 44207\n",
      "2009598_tpdteam1.csv 218 44389\n",
      "2009599_tpdteam0.csv 219 44571\n",
      "2009599_tpdteam1.csv 220 44781\n",
      "2009600_tpdteam0.csv 221 44963\n",
      "2009600_tpdteam1.csv 222 45173\n",
      "2009601_tpdteam0.csv 223 45383\n",
      "2009601_tpdteam1.csv 224 45593\n",
      "2009602_tpdteam0.csv 225 45803\n",
      "2009602_tpdteam1.csv 226 46013\n",
      "2009603_tpdteam0.csv 227 46223\n",
      "2009603_tpdteam1.csv 228 46433\n",
      "2009604_tpdteam0.csv 229 46643\n",
      "2009604_tpdteam1.csv 230 46853\n",
      "2009605_tpdteam0.csv 231 47063\n",
      "2009605_tpdteam1.csv 232 47273\n",
      "2009606_tpdteam0.csv 233 47483\n",
      "2009606_tpdteam1.csv 234 47693\n",
      "2009607_tpdteam0.csv 235 47903\n",
      "2009607_tpdteam1.csv 236 48113\n",
      "2009608_tpdteam0.csv 237 48323\n",
      "2009608_tpdteam1.csv 238 48533\n",
      "2009609_tpdteam0.csv 239 48743\n",
      "2009609_tpdteam1.csv 240 48953\n",
      "2009610_tpdteam0.csv 241 49109\n",
      "2009610_tpdteam1.csv 242 49319\n",
      "2009611_tpdteam0.csv 243 49529\n",
      "2009611_tpdteam1.csv 244 49739\n",
      "2009612_tpdteam0.csv 245 49949\n",
      "2009612_tpdteam1.csv 246 50131\n",
      "2011759_tpdteam0.csv 247 50313\n",
      "2011759_tpdteam1.csv 248 50523\n",
      "2011760_tpdteam0.csv 249 50733\n",
      "2011760_tpdteam1.csv 250 50943\n",
      "2011761_tpdteam0.csv 251 51153\n",
      "2011761_tpdteam1.csv 252 51363\n",
      "2011762_tpdteam0.csv 253 51545\n",
      "2011762_tpdteam1.csv 254 51755\n",
      "2011763_tpdteam0.csv 255 51965\n",
      "2011763_tpdteam1.csv 256 52175\n",
      "2011764_tpdteam0.csv 257 52385\n",
      "2011764_tpdteam1.csv 258 52595\n",
      "2011765_tpdteam0.csv 259 52805\n",
      "2011765_tpdteam1.csv 260 53015\n",
      "2011766_tpdteam0.csv 261 53225\n",
      "2011766_tpdteam1.csv 262 53435\n",
      "2011767_tpdteam0.csv 263 53645\n",
      "2011767_tpdteam1.csv 264 53855\n",
      "2011768_tpdteam0.csv 265 54065\n",
      "2011768_tpdteam1.csv 266 54275\n",
      "2011769_tpdteam0.csv 267 54485\n",
      "2011769_tpdteam1.csv 268 54695\n",
      "2011770_tpdteam0.csv 269 54905\n",
      "2011770_tpdteam1.csv 270 55115\n",
      "2011771_tpdteam0.csv 271 55325\n",
      "2011771_tpdteam1.csv 272 55535\n",
      "2011772_tpdteam0.csv 273 55745\n",
      "2011772_tpdteam1.csv 274 55955\n",
      "2011773_tpdteam0.csv 275 56165\n",
      "2011773_tpdteam1.csv 276 56375\n",
      "2011774_tpdteam0.csv 277 56585\n",
      "2011774_tpdteam1.csv 278 56795\n",
      "2011775_tpdteam0.csv 279 57005\n",
      "2011775_tpdteam1.csv 280 57215\n",
      "2011776_tpdteam0.csv 281 57397\n",
      "2011776_tpdteam1.csv 282 57607\n",
      "2011777_tpdteam0.csv 283 57817\n",
      "2011777_tpdteam1.csv 284 58027\n",
      "2011778_tpdteam0.csv 285 58237\n",
      "2011778_tpdteam1.csv 286 58447\n",
      "2011779_tpdteam0.csv 287 58657\n",
      "2011779_tpdteam1.csv 288 58867\n",
      "2011780_tpdteam0.csv 289 59077\n",
      "2011780_tpdteam1.csv 290 59233\n",
      "2011781_tpdteam0.csv 291 59443\n",
      "2011781_tpdteam1.csv 292 59653\n",
      "2011782_tpdteam0.csv 293 59863\n",
      "2011782_tpdteam1.csv 294 60073\n",
      "2011783_tpdteam0.csv 295 60283\n",
      "2011783_tpdteam1.csv 296 60493\n",
      "2011784_tpdteam0.csv 297 60703\n",
      "2011784_tpdteam1.csv 298 60913\n",
      "2011785_tpdteam0.csv 299 61123\n",
      "2011785_tpdteam1.csv 300 61333\n",
      "2011786_tpdteam0.csv 301 61543\n",
      "2011786_tpdteam1.csv 302 61725\n",
      "2011787_tpdteam0.csv 303 61935\n"
     ]
    },
    {
     "name": "stdout",
     "output_type": "stream",
     "text": [
      "2011787_tpdteam1.csv 304 62145\n",
      "2011788_tpdteam0.csv 305 62355\n",
      "2011788_tpdteam1.csv 306 62565\n",
      "2011789_tpdteam0.csv 307 62775\n",
      "2011789_tpdteam1.csv 308 62985\n",
      "2011790_tpdteam0.csv 309 63167\n",
      "2011790_tpdteam1.csv 310 63377\n",
      "2011791_tpdteam0.csv 311 63587\n",
      "2011791_tpdteam1.csv 312 63797\n",
      "2011792_tpdteam0.csv 313 64007\n",
      "2011792_tpdteam1.csv 314 64189\n",
      "2011793_tpdteam0.csv 315 64399\n",
      "2011793_tpdteam1.csv 316 64609\n",
      "2011794_tpdteam0.csv 317 64819\n",
      "2011794_tpdteam1.csv 318 65029\n",
      "2011795_tpdteam0.csv 319 65239\n",
      "2011795_tpdteam1.csv 320 65449\n",
      "2011796_tpdteam0.csv 321 65659\n",
      "2011796_tpdteam1.csv 322 65869\n",
      "2011797_tpdteam0.csv 323 66079\n",
      "2011797_tpdteam1.csv 324 66261\n",
      "2011798_tpdteam0.csv 325 66471\n",
      "2011798_tpdteam1.csv 326 66681\n",
      "2011799_tpdteam0.csv 327 66891\n",
      "2011799_tpdteam1.csv 328 67101\n",
      "2011800_tpdteam0.csv 329 67311\n",
      "2011800_tpdteam1.csv 330 67521\n",
      "2011801_tpdteam0.csv 331 67731\n",
      "2011801_tpdteam1.csv 332 67941\n",
      "2011802_tpdteam0.csv 333 68151\n",
      "2011802_tpdteam1.csv 334 68361\n",
      "2011803_tpdteam0.csv 335 68571\n",
      "2011803_tpdteam1.csv 336 68781\n",
      "2011804_tpdteam0.csv 337 68991\n",
      "2011804_tpdteam1.csv 338 69201\n",
      "2011805_tpdteam0.csv 339 69411\n",
      "2011805_tpdteam1.csv 340 69621\n",
      "2011806_tpdteam0.csv 341 69831\n",
      "2011806_tpdteam1.csv 342 70041\n",
      "2011807_tpdteam0.csv 343 70223\n",
      "2011807_tpdteam1.csv 344 70433\n",
      "2011808_tpdteam0.csv 345 70643\n",
      "2011808_tpdteam1.csv 346 70853\n",
      "2011809_tpdteam0.csv 347 71063\n",
      "2011809_tpdteam1.csv 348 71273\n",
      "2011810_tpdteam0.csv 349 71483\n",
      "2011810_tpdteam1.csv 350 71693\n",
      "2011811_tpdteam0.csv 351 71903\n",
      "2011811_tpdteam1.csv 352 72113\n",
      "2011812_tpdteam0.csv 353 72295\n",
      "2011812_tpdteam1.csv 354 72505\n",
      "2011813_tpdteam0.csv 355 72715\n",
      "2011813_tpdteam1.csv 356 72925\n",
      "2011814_tpdteam0.csv 357 73135\n",
      "2011814_tpdteam1.csv 358 73345\n",
      "2011815_tpdteam0.csv 359 73555\n",
      "2011815_tpdteam1.csv 360 73765\n",
      "2011816_tpdteam0.csv 361 73975\n",
      "2011816_tpdteam1.csv 362 74185\n",
      "2011817_tpdteam0.csv 363 74395\n",
      "2011817_tpdteam1.csv 364 74577\n",
      "2011818_tpdteam0.csv 365 74787\n",
      "2011818_tpdteam1.csv 366 74997\n",
      "2011819_tpdteam0.csv 367 75207\n",
      "2011819_tpdteam1.csv 368 75417\n",
      "2011820_tpdteam0.csv 369 75627\n",
      "2011820_tpdteam1.csv 370 75837\n",
      "2011821_tpdteam0.csv 371 76047\n",
      "2011821_tpdteam1.csv 372 76257\n",
      "2011822_tpdteam0.csv 373 76467\n",
      "2011822_tpdteam1.csv 374 76677\n",
      "2011823_tpdteam0.csv 375 76887\n",
      "2011823_tpdteam1.csv 376 77097\n",
      "2011824_tpdteam0.csv 377 77307\n",
      "2011824_tpdteam1.csv 378 77517\n",
      "2011825_tpdteam0.csv 379 77727\n",
      "2011825_tpdteam1.csv 380 77937\n",
      "2011826_tpdteam0.csv 381 78147\n",
      "2011826_tpdteam1.csv 382 78357\n",
      "2011827_tpdteam0.csv 383 78567\n",
      "2011827_tpdteam1.csv 384 78749\n",
      "2011828_tpdteam0.csv 385 78959\n",
      "2011828_tpdteam1.csv 386 79169\n",
      "2011829_tpdteam0.csv 387 79379\n",
      "2011829_tpdteam1.csv 388 79589\n",
      "2011830_tpdteam0.csv 389 79799\n",
      "2011830_tpdteam1.csv 390 80009\n",
      "2011831_tpdteam0.csv 391 80219\n",
      "2011831_tpdteam1.csv 392 80429\n",
      "2011832_tpdteam0.csv 393 80611\n",
      "2011832_tpdteam1.csv 394 80821\n",
      "2011833_tpdteam0.csv 395 81031\n",
      "2011833_tpdteam1.csv 396 81241\n",
      "2011834_tpdteam0.csv 397 81451\n",
      "2011834_tpdteam1.csv 398 81661\n",
      "2011835_tpdteam0.csv 399 81871\n",
      "2011835_tpdteam1.csv 400 82081\n",
      "2011836_tpdteam0.csv 401 82291\n",
      "2011836_tpdteam1.csv 402 82473\n",
      "2011837_tpdteam0.csv 403 82629\n",
      "2011837_tpdteam1.csv 404 82839\n",
      "2011838_tpdteam0.csv 405 83049\n",
      "2011838_tpdteam1.csv 406 83259\n",
      "2011839_tpdteam0.csv 407 83469\n",
      "2011839_tpdteam1.csv 408 83679\n",
      "2011840_tpdteam0.csv 409 83889\n",
      "2011840_tpdteam1.csv 410 84099\n",
      "2011841_tpdteam0.csv 411 84309\n",
      "2011841_tpdteam1.csv 412 84519\n",
      "2011842_tpdteam0.csv 413 84729\n",
      "2011842_tpdteam1.csv 414 84885\n",
      "2011843_tpdteam0.csv 415 85067\n",
      "2011843_tpdteam1.csv 416 85277\n",
      "2011844_tpdteam0.csv 417 85487\n",
      "2011844_tpdteam1.csv 418 85697\n",
      "2011845_tpdteam0.csv 419 85907\n",
      "2011845_tpdteam1.csv 420 86089\n",
      "2011846_tpdteam0.csv 421 86299\n",
      "2011846_tpdteam1.csv 422 86509\n",
      "2011847_tpdteam0.csv 423 86719\n",
      "2011847_tpdteam1.csv 424 86929\n",
      "2011848_tpdteam0.csv 425 87139\n",
      "2011848_tpdteam1.csv 426 87349\n",
      "2011849_tpdteam0.csv 427 87559\n",
      "2011849_tpdteam1.csv 428 87741\n",
      "2011850_tpdteam0.csv 429 87923\n",
      "2011850_tpdteam1.csv 430 88133\n",
      "2011851_tpdteam0.csv 431 88343\n",
      "2011851_tpdteam1.csv 432 88553\n",
      "2011852_tpdteam0.csv 433 88735\n",
      "2011852_tpdteam1.csv 434 88945\n",
      "2011853_tpdteam0.csv 435 89155\n",
      "2011853_tpdteam1.csv 436 89337\n",
      "2011854_tpdteam0.csv 437 89547\n",
      "2011854_tpdteam1.csv 438 89757\n",
      "2011855_tpdteam0.csv 439 89967\n",
      "2011855_tpdteam1.csv 440 90177\n",
      "2011856_tpdteam0.csv 441 90359\n",
      "2011856_tpdteam1.csv 442 90569\n",
      "2011857_tpdteam0.csv 443 90751\n",
      "2011857_tpdteam1.csv 444 90961\n",
      "2011858_tpdteam0.csv 445 91171\n",
      "2011858_tpdteam1.csv 446 91381\n",
      "2011859_tpdteam0.csv 447 91591\n",
      "2011859_tpdteam1.csv 448 91801\n",
      "2011860_tpdteam0.csv 449 91983\n",
      "2011860_tpdteam1.csv 450 92193\n",
      "2011861_tpdteam0.csv 451 92375\n",
      "2011861_tpdteam1.csv 452 92585\n",
      "2011862_tpdteam0.csv 453 92795\n",
      "2011862_tpdteam1.csv 454 93005\n",
      "2011863_tpdteam0.csv 455 93215\n",
      "2011863_tpdteam1.csv 456 93425\n",
      "2011864_tpdteam0.csv 457 93635\n",
      "2011864_tpdteam1.csv 458 93817\n",
      "2011865_tpdteam0.csv 459 94027\n",
      "2011865_tpdteam1.csv 460 94209\n",
      "2011866_tpdteam0.csv 461 94419\n",
      "2011866_tpdteam1.csv 462 94629\n",
      "2011867_tpdteam0.csv 463 94839\n",
      "2011867_tpdteam1.csv 464 95049\n",
      "2011868_tpdteam0.csv 465 95259\n",
      "2011868_tpdteam1.csv 466 95469\n",
      "2011869_tpdteam0.csv 467 95679\n",
      "2011869_tpdteam1.csv 468 95889\n",
      "2011870_tpdteam0.csv 469 96099\n",
      "2011870_tpdteam1.csv 470 96309\n",
      "2011871_tpdteam0.csv 471 96519\n",
      "2011871_tpdteam1.csv 472 96701\n",
      "2011872_tpdteam0.csv 473 96911\n",
      "2011872_tpdteam1.csv 474 97121\n",
      "2011873_tpdteam0.csv 475 97331\n",
      "2011873_tpdteam1.csv 476 97541\n",
      "2011874_tpdteam0.csv 477 97723\n",
      "2011874_tpdteam1.csv 478 97933\n",
      "2011875_tpdteam0.csv 479 98115\n",
      "2011875_tpdteam1.csv 480 98325\n",
      "2011876_tpdteam0.csv 481 98535\n",
      "2011876_tpdteam1.csv 482 98717\n",
      "2011877_tpdteam0.csv 483 98899\n",
      "2011877_tpdteam1.csv 484 99081\n",
      "2011878_tpdteam0.csv 485 99263\n",
      "2011878_tpdteam1.csv 486 99419\n",
      "2011879_tpdteam0.csv 487 99629\n",
      "2011879_tpdteam1.csv 488 99839\n",
      "2011880_tpdteam0.csv 489 100049\n",
      "2011880_tpdteam1.csv 490 100259\n",
      "2011881_tpdteam0.csv 491 100469\n",
      "2011881_tpdteam1.csv 492 100679\n",
      "2011882_tpdteam0.csv 493 100889\n",
      "2011882_tpdteam1.csv 494 101099\n",
      "2011883_tpdteam0.csv 495 101309\n",
      "2011883_tpdteam1.csv 496 101519\n",
      "2015665_tpdteam0.csv 497 101729\n",
      "2015665_tpdteam1.csv 498 101911\n",
      "2015666_tpdteam0.csv 499 102093\n",
      "2015666_tpdteam1.csv 500 102303\n",
      "2015667_tpdteam0.csv 501 102513\n",
      "2015667_tpdteam1.csv 502 102723\n",
      "2015668_tpdteam0.csv 503 102905\n",
      "2015668_tpdteam1.csv 504 103087\n",
      "2015669_tpdteam0.csv 505 103297\n",
      "2015669_tpdteam1.csv 506 103507\n",
      "2015670_tpdteam0.csv 507 103717\n",
      "2015670_tpdteam1.csv 508 103927\n",
      "2015671_tpdteam0.csv 509 104137\n",
      "2015671_tpdteam1.csv 510 104347\n",
      "2015672_tpdteam0.csv 511 104529\n",
      "2015672_tpdteam1.csv 512 104739\n",
      "2015673_tpdteam0.csv 513 104949\n",
      "2015673_tpdteam1.csv 514 105159\n",
      "2015674_tpdteam0.csv 515 105369\n",
      "2015674_tpdteam1.csv 516 105579\n",
      "2015675_tpdteam0.csv 517 105761\n",
      "2015675_tpdteam1.csv 518 105971\n",
      "2015676_tpdteam0.csv 519 106181\n",
      "2015676_tpdteam1.csv 520 106391\n",
      "2015677_tpdteam0.csv 521 106601\n",
      "2015677_tpdteam1.csv 522 106811\n",
      "2015678_tpdteam0.csv 523 107021\n",
      "2015678_tpdteam1.csv 524 107231\n",
      "2015679_tpdteam0.csv 525 107441\n",
      "2015679_tpdteam1.csv 526 107651\n",
      "2015680_tpdteam0.csv 527 107861\n",
      "2015680_tpdteam1.csv 528 108071\n",
      "2015681_tpdteam0.csv 529 108281\n",
      "2015681_tpdteam1.csv 530 108491\n",
      "2015682_tpdteam0.csv 531 108701\n",
      "2015682_tpdteam1.csv 532 108911\n",
      "2015683_tpdteam0.csv 533 109121\n",
      "2015683_tpdteam1.csv 534 109331\n",
      "2015684_tpdteam0.csv 535 109541\n",
      "2015684_tpdteam1.csv 536 109751\n",
      "2015685_tpdteam0.csv 537 109961\n",
      "2015685_tpdteam1.csv 538 110171\n",
      "2015686_tpdteam0.csv 539 110381\n",
      "2015686_tpdteam1.csv 540 110591\n",
      "2015687_tpdteam0.csv 541 110801\n",
      "2015687_tpdteam1.csv 542 111011\n",
      "2015688_tpdteam0.csv 543 111221\n",
      "2015688_tpdteam1.csv 544 111431\n",
      "2015689_tpdteam0.csv 545 111641\n",
      "2015689_tpdteam1.csv 546 111851\n",
      "2015690_tpdteam0.csv 547 112061\n",
      "2015690_tpdteam1.csv 548 112243\n",
      "2015691_tpdteam0.csv 549 112453\n",
      "2015691_tpdteam1.csv 550 112663\n",
      "2015692_tpdteam0.csv 551 112873\n",
      "2015692_tpdteam1.csv 552 113083\n",
      "2015693_tpdteam0.csv 553 113293\n",
      "2015693_tpdteam1.csv 554 113503\n",
      "2015694_tpdteam0.csv 555 113713\n",
      "2015694_tpdteam1.csv 556 113923\n",
      "2015695_tpdteam0.csv 557 114133\n",
      "2015695_tpdteam1.csv 558 114343\n",
      "2015696_tpdteam0.csv 559 114553\n",
      "2015696_tpdteam1.csv 560 114763\n",
      "2015697_tpdteam0.csv 561 114973\n",
      "2015697_tpdteam1.csv 562 115183\n",
      "2015698_tpdteam0.csv 563 115393\n",
      "2015698_tpdteam1.csv 564 115603\n",
      "2015699_tpdteam0.csv 565 115813\n",
      "2015699_tpdteam1.csv 566 116023\n",
      "2015700_tpdteam0.csv 567 116205\n",
      "2015700_tpdteam1.csv 568 116415\n",
      "2015701_tpdteam0.csv 569 116625\n"
     ]
    },
    {
     "name": "stdout",
     "output_type": "stream",
     "text": [
      "2015701_tpdteam1.csv 570 116835\n",
      "2015702_tpdteam0.csv 571 117045\n",
      "2015702_tpdteam1.csv 572 117227\n",
      "2015703_tpdteam0.csv 573 117383\n",
      "2015703_tpdteam1.csv 574 117593\n",
      "2015704_tpdteam0.csv 575 117803\n",
      "2015704_tpdteam1.csv 576 118013\n",
      "2015705_tpdteam0.csv 577 118169\n",
      "2015705_tpdteam1.csv 578 118351\n",
      "2015706_tpdteam0.csv 579 118533\n",
      "2015706_tpdteam1.csv 580 118743\n",
      "2015707_tpdteam0.csv 581 118925\n",
      "2015707_tpdteam1.csv 582 119135\n",
      "2015708_tpdteam0.csv 583 119345\n",
      "2015708_tpdteam1.csv 584 119555\n",
      "2015709_tpdteam0.csv 585 119765\n",
      "2015709_tpdteam1.csv 586 119975\n",
      "2015710_tpdteam0.csv 587 120185\n",
      "2015710_tpdteam1.csv 588 120395\n",
      "2015711_tpdteam0.csv 589 120605\n",
      "2015711_tpdteam1.csv 590 120815\n",
      "2015712_tpdteam0.csv 591 121025\n",
      "2015712_tpdteam1.csv 592 121235\n",
      "2015713_tpdteam0.csv 593 121445\n",
      "2015713_tpdteam1.csv 594 121655\n",
      "2015714_tpdteam0.csv 595 121865\n",
      "2015714_tpdteam1.csv 596 122075\n",
      "2015715_tpdteam0.csv 597 122257\n",
      "2015715_tpdteam1.csv 598 122467\n",
      "2015716_tpdteam0.csv 599 122677\n",
      "2015716_tpdteam1.csv 600 122887\n",
      "2015717_tpdteam0.csv 601 123097\n",
      "2015717_tpdteam1.csv 602 123307\n",
      "2015718_tpdteam0.csv 603 123517\n",
      "2015718_tpdteam1.csv 604 123727\n",
      "2015719_tpdteam0.csv 605 123937\n",
      "2015719_tpdteam1.csv 606 124093\n",
      "2015720_tpdteam0.csv 607 124303\n",
      "2015720_tpdteam1.csv 608 124513\n",
      "2015721_tpdteam0.csv 609 124723\n",
      "2015721_tpdteam1.csv 610 124933\n",
      "2015722_tpdteam0.csv 611 125143\n",
      "2015722_tpdteam1.csv 612 125353\n",
      "2015723_tpdteam0.csv 613 125563\n",
      "2015723_tpdteam1.csv 614 125773\n",
      "2015724_tpdteam0.csv 615 125983\n",
      "2015724_tpdteam1.csv 616 126193\n",
      "2015725_tpdteam0.csv 617 126403\n",
      "2015725_tpdteam1.csv 618 126613\n",
      "2015726_tpdteam0.csv 619 126823\n",
      "2015726_tpdteam1.csv 620 127033\n",
      "2015727_tpdteam0.csv 621 127215\n",
      "2015727_tpdteam1.csv 622 127425\n",
      "2015728_tpdteam0.csv 623 127635\n",
      "2015728_tpdteam1.csv 624 127845\n",
      "2015729_tpdteam0.csv 625 128055\n",
      "2015729_tpdteam1.csv 626 128265\n",
      "2015730_tpdteam0.csv 627 128447\n",
      "2015730_tpdteam1.csv 628 128657\n",
      "2015731_tpdteam0.csv 629 128867\n",
      "2015731_tpdteam1.csv 630 129077\n",
      "2015732_tpdteam0.csv 631 129287\n",
      "2015732_tpdteam1.csv 632 129497\n",
      "2015733_tpdteam0.csv 633 129707\n",
      "2015733_tpdteam1.csv 634 129917\n",
      "2015734_tpdteam0.csv 635 130127\n",
      "2015734_tpdteam1.csv 636 130337\n",
      "2015735_tpdteam0.csv 637 130547\n",
      "2015735_tpdteam1.csv 638 130757\n",
      "2015736_tpdteam0.csv 639 130967\n",
      "2015736_tpdteam1.csv 640 131177\n",
      "2015737_tpdteam0.csv 641 131387\n",
      "2015737_tpdteam1.csv 642 131597\n",
      "2015738_tpdteam0.csv 643 131807\n",
      "2015738_tpdteam1.csv 644 132017\n",
      "2015739_tpdteam0.csv 645 132227\n",
      "2015739_tpdteam1.csv 646 132437\n",
      "2015740_tpdteam0.csv 647 132647\n",
      "2015740_tpdteam1.csv 648 132857\n",
      "2015741_tpdteam0.csv 649 133039\n",
      "2015741_tpdteam1.csv 650 133249\n",
      "2015742_tpdteam0.csv 651 133459\n",
      "2015742_tpdteam1.csv 652 133669\n",
      "2015743_tpdteam0.csv 653 133879\n",
      "2015743_tpdteam1.csv 654 134089\n",
      "2015744_tpdteam0.csv 655 134299\n",
      "2015744_tpdteam1.csv 656 134509\n",
      "2015745_tpdteam0.csv 657 134719\n",
      "2015745_tpdteam1.csv 658 134929\n",
      "2015746_tpdteam0.csv 659 135139\n",
      "2015746_tpdteam1.csv 660 135349\n",
      "2015747_tpdteam0.csv 661 135559\n",
      "2015747_tpdteam1.csv 662 135769\n",
      "2015748_tpdteam0.csv 663 135979\n",
      "2015748_tpdteam1.csv 664 136135\n",
      "2015749_tpdteam0.csv 665 136267\n",
      "2015749_tpdteam1.csv 666 136449\n",
      "2015750_tpdteam0.csv 667 136659\n",
      "2015750_tpdteam1.csv 668 136869\n",
      "2015751_tpdteam0.csv 669 137079\n",
      "2015751_tpdteam1.csv 670 137289\n",
      "2015752_tpdteam0.csv 671 137499\n",
      "2015752_tpdteam1.csv 672 137709\n",
      "2015753_tpdteam0.csv 673 137865\n",
      "2015753_tpdteam1.csv 674 138075\n",
      "2015754_tpdteam0.csv 675 138257\n",
      "2015754_tpdteam1.csv 676 138439\n",
      "2015755_tpdteam0.csv 677 138649\n",
      "2015755_tpdteam1.csv 678 138859\n",
      "2015756_tpdteam0.csv 679 139069\n",
      "2015756_tpdteam1.csv 680 139279\n",
      "2015757_tpdteam0.csv 681 139489\n",
      "2015757_tpdteam1.csv 682 139699\n",
      "2015758_tpdteam0.csv 683 139909\n",
      "2015758_tpdteam1.csv 684 140119\n",
      "2015759_tpdteam0.csv 685 140329\n",
      "2015759_tpdteam1.csv 686 140539\n",
      "2015760_tpdteam0.csv 687 140749\n",
      "2015760_tpdteam1.csv 688 140959\n",
      "2015761_tpdteam0.csv 689 141169\n",
      "2015761_tpdteam1.csv 690 141379\n",
      "2015762_tpdteam0.csv 691 141589\n",
      "2015762_tpdteam1.csv 692 141799\n",
      "2015763_tpdteam0.csv 693 142009\n",
      "2015763_tpdteam1.csv 694 142191\n",
      "2015764_tpdteam0.csv 695 142401\n",
      "2015764_tpdteam1.csv 696 142611\n",
      "2015765_tpdteam0.csv 697 142767\n",
      "2015765_tpdteam1.csv 698 142977\n",
      "2015766_tpdteam0.csv 699 143133\n",
      "2015766_tpdteam1.csv 700 143343\n",
      "2015767_tpdteam0.csv 701 143475\n",
      "2015767_tpdteam1.csv 702 143685\n",
      "2015768_tpdteam0.csv 703 143867\n",
      "2015768_tpdteam1.csv 704 144077\n",
      "2015769_tpdteam0.csv 705 144259\n",
      "2015769_tpdteam1.csv 706 144469\n",
      "2015770_tpdteam0.csv 707 144679\n",
      "2015770_tpdteam1.csv 708 144889\n",
      "2015771_tpdteam0.csv 709 145099\n",
      "2015771_tpdteam1.csv 710 145309\n",
      "2015772_tpdteam0.csv 711 145519\n",
      "2015772_tpdteam1.csv 712 145729\n",
      "2015773_tpdteam0.csv 713 145939\n",
      "2015773_tpdteam1.csv 714 146149\n",
      "2015774_tpdteam0.csv 715 146359\n",
      "2015774_tpdteam1.csv 716 146569\n",
      "2015775_tpdteam0.csv 717 146779\n",
      "2015775_tpdteam1.csv 718 146961\n",
      "2015776_tpdteam0.csv 719 147171\n",
      "2015776_tpdteam1.csv 720 147353\n",
      "2015777_tpdteam0.csv 721 147563\n",
      "2015777_tpdteam1.csv 722 147773\n",
      "2015778_tpdteam0.csv 723 147983\n",
      "2015778_tpdteam1.csv 724 148193\n",
      "2015779_tpdteam0.csv 725 148403\n",
      "2015779_tpdteam1.csv 726 148613\n",
      "2015780_tpdteam0.csv 727 148823\n",
      "2015780_tpdteam1.csv 728 149005\n",
      "2015781_tpdteam0.csv 729 149215\n",
      "2015781_tpdteam1.csv 730 149425\n",
      "2015782_tpdteam0.csv 731 149607\n",
      "2015782_tpdteam1.csv 732 149817\n",
      "2015783_tpdteam0.csv 733 149999\n",
      "2015783_tpdteam1.csv 734 150181\n",
      "2015784_tpdteam0.csv 735 150391\n",
      "2015784_tpdteam1.csv 736 150601\n",
      "2015785_tpdteam0.csv 737 150811\n",
      "2015785_tpdteam1.csv 738 150993\n",
      "2015786_tpdteam0.csv 739 151175\n",
      "2015786_tpdteam1.csv 740 151331\n",
      "2015787_tpdteam0.csv 741 151541\n",
      "2015787_tpdteam1.csv 742 151697\n",
      "2015788_tpdteam0.csv 743 151907\n",
      "2015788_tpdteam1.csv 744 152117\n",
      "2015789_tpdteam0.csv 745 152327\n",
      "2015789_tpdteam1.csv 746 152537\n",
      "2019282_tpdteam0.csv 747 152747\n",
      "2019282_tpdteam1.csv 748 152957\n",
      "2019283_tpdteam0.csv 749 153167\n",
      "2019283_tpdteam1.csv 750 153377\n",
      "2019284_tpdteam0.csv 751 153587\n",
      "2019284_tpdteam1.csv 752 153797\n",
      "2019285_tpdteam0.csv 753 154007\n",
      "2019285_tpdteam1.csv 754 154189\n",
      "2019286_tpdteam0.csv 755 154399\n",
      "2019286_tpdteam1.csv 756 154581\n",
      "2019287_tpdteam0.csv 757 154791\n",
      "2019287_tpdteam1.csv 758 155001\n",
      "2019288_tpdteam0.csv 759 155211\n",
      "2019288_tpdteam1.csv 760 155421\n",
      "2019289_tpdteam0.csv 761 155603\n",
      "2019289_tpdteam1.csv 762 155813\n",
      "2019290_tpdteam0.csv 763 156023\n",
      "2019290_tpdteam1.csv 764 156233\n",
      "2019291_tpdteam0.csv 765 156443\n",
      "2019291_tpdteam1.csv 766 156653\n",
      "2019292_tpdteam0.csv 767 156835\n",
      "2019292_tpdteam1.csv 768 157045\n",
      "2019293_tpdteam0.csv 769 157255\n",
      "2019293_tpdteam1.csv 770 157465\n",
      "2019294_tpdteam0.csv 771 157675\n",
      "2019294_tpdteam1.csv 772 157885\n",
      "2019295_tpdteam0.csv 773 158095\n",
      "2019295_tpdteam1.csv 774 158305\n",
      "2019296_tpdteam0.csv 775 158515\n",
      "2019296_tpdteam1.csv 776 158725\n",
      "2019297_tpdteam0.csv 777 158935\n",
      "2019297_tpdteam1.csv 778 159145\n",
      "2019298_tpdteam0.csv 779 159355\n",
      "2019298_tpdteam1.csv 780 159565\n",
      "2019299_tpdteam0.csv 781 159775\n",
      "2019299_tpdteam1.csv 782 159957\n",
      "2019300_tpdteam0.csv 783 160139\n",
      "2019300_tpdteam1.csv 784 160349\n",
      "2019301_tpdteam0.csv 785 160531\n",
      "2019301_tpdteam1.csv 786 160741\n",
      "2019302_tpdteam0.csv 787 160951\n",
      "2019302_tpdteam1.csv 788 161161\n",
      "2019303_tpdteam0.csv 789 161371\n",
      "2019303_tpdteam1.csv 790 161581\n",
      "2019304_tpdteam0.csv 791 161791\n",
      "2019304_tpdteam1.csv 792 162001\n",
      "2019305_tpdteam0.csv 793 162211\n",
      "2019305_tpdteam1.csv 794 162421\n",
      "2019306_tpdteam0.csv 795 162631\n",
      "2019306_tpdteam1.csv 796 162813\n",
      "2019307_tpdteam0.csv 797 163023\n",
      "2019307_tpdteam1.csv 798 163233\n",
      "2019308_tpdteam0.csv 799 163443\n",
      "2019308_tpdteam1.csv 800 163653\n",
      "2019309_tpdteam0.csv 801 163863\n",
      "2019309_tpdteam1.csv 802 164073\n",
      "2019310_tpdteam0.csv 803 164283\n",
      "2019310_tpdteam1.csv 804 164493\n",
      "2019311_tpdteam0.csv 805 164675\n",
      "2019311_tpdteam1.csv 806 164885\n",
      "2019312_tpdteam0.csv 807 165067\n",
      "2019312_tpdteam1.csv 808 165277\n",
      "2019313_tpdteam0.csv 809 165487\n",
      "2019313_tpdteam1.csv 810 165669\n",
      "2019314_tpdteam0.csv 811 165851\n",
      "2019314_tpdteam1.csv 812 166061\n",
      "2019315_tpdteam0.csv 813 166271\n",
      "2019315_tpdteam1.csv 814 166481\n",
      "2019316_tpdteam0.csv 815 166691\n",
      "2019316_tpdteam1.csv 816 166901\n",
      "2019317_tpdteam0.csv 817 167111\n",
      "2019317_tpdteam1.csv 818 167321\n",
      "2019318_tpdteam0.csv 819 167531\n",
      "2019318_tpdteam1.csv 820 167741\n",
      "2019319_tpdteam0.csv 821 167951\n",
      "2019319_tpdteam1.csv 822 168161\n",
      "2019320_tpdteam0.csv 823 168371\n",
      "2019320_tpdteam1.csv 824 168581\n",
      "2019321_tpdteam0.csv 825 168763\n",
      "2019321_tpdteam1.csv 826 168973\n",
      "2019322_tpdteam0.csv 827 169183\n",
      "2019322_tpdteam1.csv 828 169393\n",
      "2019323_tpdteam0.csv 829 169575\n",
      "2019323_tpdteam1.csv 830 169785\n",
      "2019324_tpdteam0.csv 831 169995\n",
      "2019324_tpdteam1.csv 832 170205\n",
      "2019325_tpdteam0.csv 833 170415\n",
      "2019325_tpdteam1.csv 834 170625\n",
      "2019326_tpdteam0.csv 835 170835\n",
      "2019326_tpdteam1.csv 836 171045\n",
      "2019327_tpdteam0.csv 837 171227\n",
      "2019327_tpdteam1.csv 838 171437\n",
      "2019328_tpdteam0.csv 839 171647\n",
      "2019328_tpdteam1.csv 840 171829\n",
      "2019329_tpdteam0.csv 841 172039\n",
      "2019329_tpdteam1.csv 842 172249\n",
      "2019330_tpdteam0.csv 843 172459\n",
      "2019330_tpdteam1.csv 844 172615\n",
      "2019331_tpdteam0.csv 845 172825\n",
      "2019331_tpdteam1.csv 846 173035\n",
      "2019332_tpdteam0.csv 847 173245\n",
      "2019332_tpdteam1.csv 848 173427\n",
      "2019333_tpdteam0.csv 849 173637\n",
      "2019333_tpdteam1.csv 850 173847\n",
      "2019334_tpdteam0.csv 851 174057\n",
      "2019334_tpdteam1.csv 852 174267\n",
      "2019335_tpdteam0.csv 853 174477\n",
      "2019335_tpdteam1.csv 854 174687\n",
      "2019336_tpdteam0.csv 855 174869\n",
      "2019336_tpdteam1.csv 856 175051\n",
      "2019337_tpdteam0.csv 857 175261\n",
      "2019337_tpdteam1.csv 858 175471\n",
      "2019338_tpdteam0.csv 859 175681\n",
      "2019338_tpdteam1.csv 860 175891\n",
      "2019339_tpdteam0.csv 861 176101\n",
      "2019339_tpdteam1.csv 862 176311\n",
      "2019340_tpdteam0.csv 863 176521\n",
      "2019340_tpdteam1.csv 864 176731\n",
      "2019341_tpdteam0.csv 865 176941\n",
      "2019341_tpdteam1.csv 866 177151\n"
     ]
    },
    {
     "name": "stdout",
     "output_type": "stream",
     "text": [
      "2019342_tpdteam0.csv 867 177361\n",
      "2019342_tpdteam1.csv 868 177543\n",
      "2019343_tpdteam0.csv 869 177699\n",
      "2019343_tpdteam1.csv 870 177909\n",
      "2019344_tpdteam0.csv 871 178119\n",
      "2019344_tpdteam1.csv 872 178329\n",
      "2019345_tpdteam0.csv 873 178539\n",
      "2019345_tpdteam1.csv 874 178749\n",
      "2019346_tpdteam0.csv 875 178931\n",
      "2019346_tpdteam1.csv 876 179113\n",
      "2019347_tpdteam0.csv 877 179323\n",
      "2019347_tpdteam1.csv 878 179533\n",
      "2019348_tpdteam0.csv 879 179743\n",
      "2019348_tpdteam1.csv 880 179953\n",
      "2019349_tpdteam0.csv 881 180163\n",
      "2019349_tpdteam1.csv 882 180373\n",
      "2019350_tpdteam0.csv 883 180583\n",
      "2019350_tpdteam1.csv 884 180793\n",
      "2019351_tpdteam0.csv 885 181003\n",
      "2019351_tpdteam1.csv 886 181185\n",
      "2019352_tpdteam0.csv 887 181367\n",
      "2019352_tpdteam1.csv 888 181577\n",
      "2019353_tpdteam0.csv 889 181787\n",
      "2019353_tpdteam1.csv 890 181969\n",
      "2019354_tpdteam0.csv 891 182179\n",
      "2019354_tpdteam1.csv 892 182389\n",
      "2019355_tpdteam0.csv 893 182571\n",
      "2019355_tpdteam1.csv 894 182781\n",
      "2019356_tpdteam0.csv 895 182991\n",
      "2019356_tpdteam1.csv 896 183201\n",
      "2019357_tpdteam0.csv 897 183411\n",
      "2019357_tpdteam1.csv 898 183621\n",
      "2019358_tpdteam0.csv 899 183831\n",
      "2019358_tpdteam1.csv 900 184041\n",
      "2019359_tpdteam0.csv 901 184251\n",
      "2019359_tpdteam1.csv 902 184461\n",
      "2019360_tpdteam0.csv 903 184617\n",
      "2019360_tpdteam1.csv 904 184827\n",
      "2019361_tpdteam0.csv 905 185009\n",
      "2019361_tpdteam1.csv 906 185191\n",
      "2019362_tpdteam0.csv 907 185401\n",
      "2019362_tpdteam1.csv 908 185611\n",
      "2019363_tpdteam0.csv 909 185821\n",
      "2019363_tpdteam1.csv 910 186031\n",
      "2019364_tpdteam0.csv 911 186241\n",
      "2019364_tpdteam1.csv 912 186451\n",
      "2019365_tpdteam0.csv 913 186661\n",
      "2019365_tpdteam1.csv 914 186871\n",
      "2019366_tpdteam0.csv 915 187081\n",
      "2019366_tpdteam1.csv 916 187263\n",
      "2019367_tpdteam0.csv 917 187473\n",
      "2019367_tpdteam1.csv 918 187629\n",
      "2019368_tpdteam0.csv 919 187811\n",
      "2019368_tpdteam1.csv 920 188021\n",
      "2019369_tpdteam0.csv 921 188231\n",
      "2019369_tpdteam1.csv 922 188441\n",
      "2019370_tpdteam0.csv 923 188651\n",
      "2019370_tpdteam1.csv 924 188861\n",
      "2019371_tpdteam0.csv 925 189071\n",
      "2019371_tpdteam1.csv 926 189281\n",
      "2019372_tpdteam0.csv 927 189491\n",
      "2019372_tpdteam1.csv 928 189673\n",
      "2019373_tpdteam0.csv 929 189883\n",
      "2019373_tpdteam1.csv 930 190093\n",
      "2019374_tpdteam0.csv 931 190303\n",
      "2019374_tpdteam1.csv 932 190485\n",
      "2019375_tpdteam0.csv 933 190695\n",
      "2019375_tpdteam1.csv 934 190905\n",
      "2019376_tpdteam0.csv 935 191115\n",
      "2019376_tpdteam1.csv 936 191325\n",
      "2019377_tpdteam0.csv 937 191507\n",
      "2019377_tpdteam1.csv 938 191717\n",
      "2019613_tpdteam0.csv 939 191927\n",
      "2019613_tpdteam1.csv 940 192137\n",
      "2019614_tpdteam0.csv 941 192347\n",
      "2019614_tpdteam1.csv 942 192557\n",
      "2019615_tpdteam0.csv 943 192739\n",
      "2019615_tpdteam1.csv 944 192949\n",
      "2019616_tpdteam0.csv 945 193131\n",
      "2019616_tpdteam1.csv 946 193313\n",
      "2019617_tpdteam0.csv 947 193495\n",
      "2019617_tpdteam1.csv 948 193705\n",
      "2019618_tpdteam0.csv 949 193915\n",
      "2019618_tpdteam1.csv 950 194125\n",
      "2019619_tpdteam0.csv 951 194335\n",
      "2019619_tpdteam1.csv 952 194545\n",
      "2019620_tpdteam0.csv 953 194755\n",
      "2019620_tpdteam1.csv 954 194965\n",
      "2019621_tpdteam0.csv 955 195175\n",
      "2019621_tpdteam1.csv 956 195385\n",
      "2019622_tpdteam0.csv 957 195595\n",
      "2019622_tpdteam1.csv 958 195777\n",
      "2019623_tpdteam0.csv 959 195987\n",
      "2019623_tpdteam1.csv 960 196197\n",
      "2019624_tpdteam0.csv 961 196353\n",
      "2019624_tpdteam1.csv 962 196563\n",
      "2019625_tpdteam0.csv 963 196773\n",
      "2019625_tpdteam1.csv 964 196983\n",
      "2019626_tpdteam0.csv 965 197193\n",
      "2019626_tpdteam1.csv 966 197375\n",
      "2019627_tpdteam0.csv 967 197585\n",
      "2019627_tpdteam1.csv 968 197795\n",
      "2019628_tpdteam0.csv 969 198005\n",
      "2019628_tpdteam1.csv 970 198215\n",
      "2019629_tpdteam0.csv 971 198425\n",
      "2019629_tpdteam1.csv 972 198607\n",
      "2019630_tpdteam0.csv 973 198789\n",
      "2019630_tpdteam1.csv 974 198971\n",
      "2019631_tpdteam0.csv 975 199153\n",
      "2019631_tpdteam1.csv 976 199363\n",
      "2019632_tpdteam0.csv 977 199573\n",
      "2019632_tpdteam1.csv 978 199783\n",
      "2019633_tpdteam0.csv 979 199939\n",
      "2019633_tpdteam1.csv 980 200149\n",
      "2019634_tpdteam0.csv 981 200359\n",
      "2019634_tpdteam1.csv 982 200541\n",
      "2019635_tpdteam0.csv 983 200751\n",
      "2019635_tpdteam1.csv 984 200961\n",
      "2019636_tpdteam0.csv 985 201171\n",
      "2019636_tpdteam1.csv 986 201381\n"
     ]
    }
   ],
   "source": [
    "files = os.listdir('CSVS')\n",
    "teamdir = defaultdict()\n",
    "buildgraphs = {}\n",
    "out =[]\n",
    "count = 0\n",
    "for x in files :\n",
    "    count+=1\n",
    "    filename = 'CSVS\\\\'+ x\n",
    "    pdfname = re.sub(\"team[0-1].csv\",\".pdf\",x)\n",
    "    pdfpath = 'Data\\\\'+pdfname\n",
    "    with open(pdfpath,'rb') as f:\n",
    "        temp = PdfFileReader(f)\n",
    "        team = temp.getDocumentInfo().title\n",
    "    buildgraphs[x] = []\n",
    "    #Team Creation\n",
    "    if 'team0' in x and team!=None:\n",
    "        my_team = team.split(\"_\")[2]\n",
    "        opp_team = team.split(\"_\")[3]\n",
    "        homeoraway = 1\n",
    "    elif team!=None :\n",
    "        my_team = team.split(\"_\")[3]\n",
    "        opp_team = team.split(\"_\")[2]\n",
    "        homeoraway = 0\n",
    "    #Rank Selection\n",
    "    if '2009' in x :\n",
    "        if my_team in season2012 :\n",
    "            my_rank = season2012[my_team]\n",
    "        else :\n",
    "            my_rank = 100\n",
    "        if opp_team in season2012 :\n",
    "            opp_rank = season2012[opp_team]\n",
    "        else :\n",
    "            opp_rank = 100\n",
    "    elif '2011' in x :\n",
    "        if my_team in season2013 :\n",
    "            my_rank = season2013[my_team]\n",
    "        else :\n",
    "            my_rank = 100\n",
    "        if opp_team in season2013 :\n",
    "            opp_rank = season2013[opp_team]\n",
    "        else :\n",
    "            opp_rank = 100\n",
    "    elif '2015' in x :\n",
    "        if my_team in season2015 :\n",
    "            my_rank = season2015[my_team]\n",
    "        else :\n",
    "            my_rank = 100\n",
    "        if opp_team in season2015 :\n",
    "            opp_rank = season2015[opp_team]\n",
    "        else :\n",
    "            opp_rank = 100\n",
    "    elif '2019' in x :\n",
    "        if my_team in season2016 :\n",
    "            my_rank = season2016[my_team]\n",
    "        else :\n",
    "            my_rank = 100\n",
    "        if opp_team in season2016 :\n",
    "            opp_rank = season2016[opp_team]\n",
    "        else :\n",
    "            opp_rank = 100\n",
    "    \n",
    "    ptcount = 0\n",
    "    tplayers = []\n",
    "    \n",
    "    #Using 1 hot encoding\n",
    "    isdefender, isinfielder, isforward,ismidfielder,isgoalkeeper,iswinger =[],[],[],[],[],[]\n",
    "    timeplayed = []\n",
    "    passheight = []\n",
    "    with open(filename,'rb') as csvfile :\n",
    "        reader = csv.reader(csvfile, delimiter=',')\n",
    "        for row in reader :\n",
    "            if row[0] != 'Total passes received:':\n",
    "                name = re.sub(\"[0-9]\", \" \", row[0]).strip().decode('utf-8',\"ignore\")\n",
    "                tplayers.append(name)\n",
    "                isdefender.append(playertype(playerdict[name]['position'],'Defender'))\n",
    "                isforward.append(playertype(playerdict[name]['position'],'Forward'))\n",
    "                ismidfielder.append(playertype(playerdict[name]['position'],'Midfielder'))\n",
    "                isgoalkeeper.append(playertype(playerdict[name]['position'],'Goalkeeper'))\n",
    "                isinfielder.append(playertype(playerdict[name]['position'],'Infielder'))\n",
    "                iswinger.append(playertype(playerdict[name]['position'],'Winger'))\n",
    "                passheight.append(playerdict[name]['height'])\n",
    "                try :\n",
    "                    timeplayed.append(int(re.split(r\"\\'\",row[1])[0]))\n",
    "                except ValueError:\n",
    "                    timeplayed.append(1)\n",
    "                    \n",
    "    print x,count,len(out)\n",
    "    \n",
    "    with open(filename,'rb') as csvfile :\n",
    "        reader = csv.reader(csvfile, delimiter=',')\n",
    "        partial_out = []\n",
    "        for row in reader :\n",
    "            if row[0] != 'Total passes received:' and row[0]!=None:\n",
    "                playerlist = [tplayers[ptcount]]*len(tplayers)\n",
    "                try :\n",
    "                    mytimeplayed = [int(re.split(r\"\\'\",row[1])[0])]*len(tplayers)\n",
    "                except ValueError:\n",
    "                    mytimeplayed = [0]*len(tplayers)\n",
    "                my_teamlist = [my_team]*len(tplayers)\n",
    "                mydefender = [playertype(playerdict[tplayers[ptcount]]['position'],'Defender')]*len(tplayers)\n",
    "                mymidfielder = [playertype(playerdict[tplayers[ptcount]]['position'],'Midfielder')]*len(tplayers)\n",
    "                mywinger = [playertype(playerdict[tplayers[ptcount]]['position'],'Winger')]*len(tplayers)\n",
    "                myforward = [playertype(playerdict[tplayers[ptcount]]['position'],'Forward')]*len(tplayers)\n",
    "                myinfielder = [playertype(playerdict[tplayers[ptcount]]['position'],'Infielder')]*len(tplayers)\n",
    "                mygoalkeeper = [playertype(playerdict[tplayers[ptcount]]['position'],'Goalkeeper')]*len(tplayers)\n",
    "                my_ranklist = [my_rank]*len(tplayers)\n",
    "                opp_ranklist = [opp_rank]*len(tplayers)\n",
    "                height_list = [playerdict[tplayers[ptcount]]['height']]*len(tplayers)\n",
    "                prlist = [playerdict[tplayers[ptcount]]['pagerank']]*len(tplayers)\n",
    "                cllist = [playerdict[tplayers[ptcount]]['closeness']]*len(tplayers)\n",
    "                btlist = [playerdict[tplayers[ptcount]]['betweeness']]*len(tplayers)\n",
    "                homeoraway_list = [homeoraway]*len(tplayers)\n",
    "                shortpa_accuracy = float(float(playerdict[tplayers[ptcount]]['Short PC'])/float(playerdict[tplayers[ptcount]]['Short PA']))\n",
    "                mediumpa_accuracy = float(float(playerdict[tplayers[ptcount]]['Medium PC'])/float(playerdict[tplayers[ptcount]]['Medium PA']))\n",
    "                longpa_accuracy = float(float(playerdict[tplayers[ptcount]]['Long PC'])/float(playerdict[tplayers[ptcount]]['Long PA']))\n",
    "                percentlong = float(playerdict[tplayers[ptcount]]['Long PC'])/(float(playerdict[tplayers[ptcount]]['Long PC']) + float(playerdict[tplayers[ptcount]]['Medium PC']) + float(playerdict[tplayers[ptcount]]['Short PC']))\n",
    "                percentmedium = float(playerdict[tplayers[ptcount]]['Medium PC'])/(float(playerdict[tplayers[ptcount]]['Long PC']) + float(playerdict[tplayers[ptcount]]['Medium PC']) + float(playerdict[tplayers[ptcount]]['Short PC']))\n",
    "                percentshort = float(playerdict[tplayers[ptcount]]['Short PC'])/(float(playerdict[tplayers[ptcount]]['Long PC']) + float(playerdict[tplayers[ptcount]]['Medium PC']) + float(playerdict[tplayers[ptcount]]['Short PC']))\n",
    "                shortpa_list = [shortpa_accuracy]*len(tplayers)\n",
    "                mediumpa_list = [mediumpa_accuracy]*len(tplayers)\n",
    "                longpa_list = [longpa_accuracy]*len(tplayers)\n",
    "                plonglist = [percentlong]*len(tplayers)\n",
    "                pmediumlist = [percentmedium]*len(tplayers)\n",
    "                pshortlist = [percentshort]*len(tplayers)\n",
    "#                 playerfeatures = list(playerdata[tplayers[ptcount]]['totals'][0])\n",
    "#                 myteamfeatures = list(teamdata[my_team]['features'][0])\n",
    "#                 oppteamfeatures = list(teamdata[opp_team]['features'][0])\n",
    "                for q in range(len(row)) :\n",
    "                    if row[q] == '-' or row[q] == '' :\n",
    "                        row[q] = 0\n",
    "                buildgraphs[x].extend(zip(playerlist,tplayers,row[3:len(tplayers)+3],my_ranklist,opp_ranklist,mytimeplayed,my_teamlist))\n",
    "                temp_out = zip(shortpa_list,mediumpa_list,longpa_list,plonglist,pshortlist,pmediumlist,mydefender,mymidfielder,mywinger,myforward,myinfielder,mygoalkeeper,my_ranklist,mytimeplayed,timeplayed,opp_ranklist,height_list,passheight,homeoraway_list,isdefender,isinfielder,ismidfielder,isgoalkeeper,iswinger,isforward,prlist,cllist,btlist,row[3:len(tplayers)+3])\n",
    "#                 temp1_out = []\n",
    "#                 for x in temp_out :\n",
    "#                     x = list(x)\n",
    "#                     x[-2:-2] = playerdict[tplayers[ptcount]]['features']\n",
    "#                     #x[-2:-2] = myteamfeatures\n",
    "#                     #x[-2:-2] = oppteamfeatures\n",
    "#                     temp1_out.append(x)\n",
    "            ptcount+=1\n",
    "            partial_out += temp_out\n",
    "    out += partial_out\n",
    "        "
   ]
  },
  {
   "cell_type": "code",
   "execution_count": 10,
   "metadata": {},
   "outputs": [],
   "source": [
    "# with open('matrixdata', 'wb') as handle:\n",
    "#     pickle.dump(out, handle, protocol=pickle.HIGHEST_PROTOCOL)\n",
    "# # with open('buildgraphs', 'wb') as handle:\n",
    "# #     pickle.dump(buildgraphs, handle, protocol=pickle.HIGHEST_PROTOCOL)"
   ]
  },
  {
   "cell_type": "code",
   "execution_count": 308,
   "metadata": {},
   "outputs": [],
   "source": [
    "with open('matrixdata', 'rb') as handle:\n",
    "    out = pickle.load(handle)\n",
    "with open('buildgraphs', 'rb') as handle:\n",
    "    buildgraphs = pickle.load(handle)"
   ]
  },
  {
   "cell_type": "code",
   "execution_count": 37,
   "metadata": {},
   "outputs": [
    {
     "name": "stdout",
     "output_type": "stream",
     "text": [
      "201591\n"
     ]
    }
   ],
   "source": [
    "shuffle(out)\n",
    "print len(out)"
   ]
  },
  {
   "cell_type": "code",
   "execution_count": 38,
   "metadata": {
    "collapsed": true
   },
   "outputs": [],
   "source": [
    "trial = np.matrix(out[:160000])\n",
    "test = np.matrix(out[160000:])"
   ]
  },
  {
   "cell_type": "code",
   "execution_count": 39,
   "metadata": {},
   "outputs": [
    {
     "data": {
      "text/plain": [
       "(160000L, 29L)"
      ]
     },
     "execution_count": 39,
     "metadata": {},
     "output_type": "execute_result"
    }
   ],
   "source": [
    "trial.shape"
   ]
  },
  {
   "cell_type": "code",
   "execution_count": 40,
   "metadata": {},
   "outputs": [
    {
     "name": "stdout",
     "output_type": "stream",
     "text": [
      "[['1.0' '0.727272727273' '1.0' '0.0909090909091' '0.181818181818'\n",
      "  '0.727272727273' '0' '1' '0' '0' '0' '0' '8' '14' '94' '25'\n",
      "  '5.08333333333' '6.5' '0' '1' '0' '0' '0' '0' '0' '0.462624748996'\n",
      "  '26.2857142857' '0.0' '1']]\n"
     ]
    }
   ],
   "source": [
    "print trial[0][0]"
   ]
  },
  {
   "cell_type": "code",
   "execution_count": 46,
   "metadata": {},
   "outputs": [
    {
     "name": "stdout",
     "output_type": "stream",
     "text": [
      "[[  1.00000000e+00   7.27272727e-01   1.00000000e+00   9.09090909e-02\n",
      "    1.81818182e-01   7.27272727e-01   0.00000000e+00   1.00000000e+00\n",
      "    0.00000000e+00   0.00000000e+00   0.00000000e+00   0.00000000e+00\n",
      "    8.00000000e+00   1.40000000e+01   9.40000000e+01   2.50000000e+01\n",
      "    5.08333333e+00   6.50000000e+00   0.00000000e+00   1.00000000e+00\n",
      "    0.00000000e+00   0.00000000e+00   0.00000000e+00   0.00000000e+00\n",
      "    0.00000000e+00   4.62624749e-01   2.62857143e+01   0.00000000e+00]]\n",
      "[[ 1.]]\n"
     ]
    }
   ],
   "source": [
    "x,y = np.split(trial,[28],axis=1)\n",
    "x = x.astype('float')\n",
    "y = y.astype('float')\n",
    "print x[0]\n",
    "print y[0]"
   ]
  },
  {
   "cell_type": "code",
   "execution_count": 93,
   "metadata": {},
   "outputs": [],
   "source": [
    "with open('matrixX', 'wb') as handle:\n",
    "    pickle.dump(x, handle, protocol=pickle.HIGHEST_PROTOCOL)\n",
    "with open('matrixY', 'wb') as handle:\n",
    "    pickle.dump(y, handle, protocol=pickle.HIGHEST_PROTOCOL)"
   ]
  },
  {
   "cell_type": "code",
   "execution_count": 47,
   "metadata": {},
   "outputs": [],
   "source": [
    "theta,residuals,rank,s = np.linalg.lstsq(x, y)"
   ]
  },
  {
   "cell_type": "code",
   "execution_count": 48,
   "metadata": {},
   "outputs": [
    {
     "name": "stdout",
     "output_type": "stream",
     "text": [
      "[[  1.44431464e+00   1.07141474e+00   9.85854826e-01  -6.52441074e+00\n",
      "   -6.38437980e+00  -4.32343208e+00  -9.58624600e-03   1.83588166e-01\n",
      "   -2.53266984e-01  -3.50872255e-01  -1.20285682e+00  -1.09436677e+00\n",
      "   -5.08960334e-03   2.85742187e-02   2.84588199e-02   4.11959697e-03\n",
      "    2.95711645e-02   2.30456615e-02   6.60318040e-02  -1.59579216e-01\n",
      "    1.16031451e+00   3.26543680e-01  -1.84768565e+00  -1.60856512e-01\n",
      "   -3.74594928e-01   4.34401861e+00  -5.45396432e-02   0.00000000e+00]]\n"
     ]
    }
   ],
   "source": [
    "print theta.transpose()\n",
    "#Features - mydefender,mymidfielder,mywinger,myforward,myinfielder,mygoalkeeper,my_ranklist,mytimeplayed,timeplayed,opp_ranklist,height_list,passheight,homeoraway_list,shortpa_list,mediumpa_list,longpa_list,isdefender,isinfielder,ismidfielder,isgoalkeeper,iswinger,isforward"
   ]
  },
  {
   "cell_type": "code",
   "execution_count": 18,
   "metadata": {},
   "outputs": [
    {
     "name": "stdout",
     "output_type": "stream",
     "text": [
      "[]\n"
     ]
    }
   ],
   "source": [
    "print residuals"
   ]
  },
  {
   "cell_type": "code",
   "execution_count": 49,
   "metadata": {},
   "outputs": [
    {
     "name": "stdout",
     "output_type": "stream",
     "text": [
      "10.7724537059\n",
      "15.0158447741\n",
      "0.236032852862\n",
      "-2.43612766835e-05\n",
      "-0.393945241184\n"
     ]
    }
   ],
   "source": [
    "testx,testy = np.split(test,[28],axis=1)\n",
    "testx = testx.astype('float')\n",
    "testy = testy.astype('float')\n",
    "predicttesty = np.matmul(testx,theta)\n",
    "mean_squared_error(testy,predicttesty)\n",
    "zero = np.zeros((41591,1))\n",
    "mean_squared_error(testy,zero)\n",
    "total = float(sum(y)*1.0/len(y))\n",
    "total = [total]*len(predicttesty)\n",
    "print mean_squared_error(total,testy)\n",
    "print mean_squared_error(zero,testy)\n",
    "print r2_score(testy,predicttesty)\n",
    "print r2_score(testy,total)\n",
    "print r2_score(testy,zero)"
   ]
  },
  {
   "cell_type": "code",
   "execution_count": 50,
   "metadata": {},
   "outputs": [
    {
     "name": "stdout",
     "output_type": "stream",
     "text": [
      "1.0\n"
     ]
    }
   ],
   "source": [
    "gbr = GradientBoostingRegressor()\n",
    "gbr.fit(x,y)\n",
    "gbrpredict = gbr.predict(testx)\n",
    "for a in gbrpredict:\n",
    "    if a<0 :\n",
    "        a=0\n",
    "print gbr.score(testx,gbrpredict)"
   ]
  },
  {
   "cell_type": "code",
   "execution_count": 51,
   "metadata": {},
   "outputs": [
    {
     "name": "stdout",
     "output_type": "stream",
     "text": [
      "0.315167829148\n",
      "7.37714314021\n"
     ]
    }
   ],
   "source": [
    "print r2_score(testy,gbrpredict)\n",
    "print mean_squared_error(testy,gbrpredict)"
   ]
  },
  {
   "cell_type": "code",
   "execution_count": 52,
   "metadata": {},
   "outputs": [
    {
     "name": "stderr",
     "output_type": "stream",
     "text": [
      "C:\\Users\\abhna\\Anaconda2\\lib\\site-packages\\ipykernel\\__main__.py:2: DataConversionWarning: A column-vector y was passed when a 1d array was expected. Please change the shape of y to (n_samples,), for example using ravel().\n",
      "  from ipykernel import kernelapp as app\n"
     ]
    },
    {
     "name": "stdout",
     "output_type": "stream",
     "text": [
      "1.0\n",
      "0.303650495545\n",
      "7.50121006084\n"
     ]
    }
   ],
   "source": [
    "rf = RandomForestRegressor()\n",
    "rf.fit(x,y)\n",
    "rfpredict = rf.predict(testx)\n",
    "for a in rfpredict :\n",
    "    if a<0 :\n",
    "        a=0\n",
    "print rf.score(testx,rfpredict)\n",
    "print r2_score(testy,rfpredict)\n",
    "print mean_squared_error(testy,rfpredict)"
   ]
  },
  {
   "cell_type": "code",
   "execution_count": 53,
   "metadata": {},
   "outputs": [
    {
     "name": "stdout",
     "output_type": "stream",
     "text": [
      "1.0\n",
      "0.0954888731018\n",
      "9.74356687528\n"
     ]
    }
   ],
   "source": [
    "baselinex,throw = np.split(x,[6],axis=1)\n",
    "baselinetestx,throw = np.split(testx,[6],axis=1)\n",
    "gbrbase = GradientBoostingRegressor()\n",
    "gbrbase.fit(baselinex,y)\n",
    "gbrbasepredict = gbrbase.predict(baselinetestx)\n",
    "for a in gbrbasepredict:\n",
    "    if a<0 :\n",
    "        a=0\n",
    "print gbrbase.score(baselinetestx,gbrbasepredict)\n",
    "print r2_score(testy,gbrbasepredict)\n",
    "print mean_squared_error(testy,gbrbasepredict)"
   ]
  },
  {
   "cell_type": "code",
   "execution_count": 241,
   "metadata": {},
   "outputs": [
    {
     "data": {
      "text/plain": [
       "10.684271977500002"
      ]
     },
     "execution_count": 241,
     "metadata": {},
     "output_type": "execute_result"
    }
   ],
   "source": [
    "np.var(y)"
   ]
  },
  {
   "cell_type": "code",
   "execution_count": null,
   "metadata": {},
   "outputs": [],
   "source": [
    "# clf = Ridge(alpha=1.0)\n",
    "# clf.fit(x,y)"
   ]
  },
  {
   "cell_type": "code",
   "execution_count": 13,
   "metadata": {},
   "outputs": [
    {
     "data": {
      "text/plain": [
       "8.4841626164410417"
      ]
     },
     "execution_count": 13,
     "metadata": {},
     "output_type": "execute_result"
    }
   ],
   "source": [
    "# predicty = clf.predict(x)\n",
    "# mean_squared_error(y,predicty)\n",
    "# print r2_score()"
   ]
  },
  {
   "cell_type": "code",
   "execution_count": 14,
   "metadata": {},
   "outputs": [
    {
     "data": {
      "text/plain": [
       "1.8943057973818276"
      ]
     },
     "execution_count": 14,
     "metadata": {},
     "output_type": "execute_result"
    }
   ],
   "source": [
    "# predicty = np.around(predicty)\n",
    "# mean_absolute_error(y,predicty)"
   ]
  },
  {
   "cell_type": "code",
   "execution_count": null,
   "metadata": {},
   "outputs": [],
   "source": [
    "# svr = SVR()\n",
    "# svr.fit(x,y)"
   ]
  },
  {
   "cell_type": "code",
   "execution_count": null,
   "metadata": {},
   "outputs": [],
   "source": [
    "# svrpredicty = svr.predict(x)\n",
    "# mean_squared_error(y,svrpredicty)\n",
    "# svrpredicty = np.around(svrpredicty)\n",
    "# mean_absolute_error(y,svrpredicty)"
   ]
  },
  {
   "cell_type": "code",
   "execution_count": 23,
   "metadata": {},
   "outputs": [
    {
     "data": {
      "text/plain": [
       "[<matplotlib.lines.Line2D at 0x1ed4d390>]"
      ]
     },
     "execution_count": 23,
     "metadata": {},
     "output_type": "execute_result"
    }
   ],
   "source": [
    "plt.plot(range(len(predicty)),predicty)"
   ]
  },
  {
   "cell_type": "code",
   "execution_count": 24,
   "metadata": {},
   "outputs": [
    {
     "data": {
      "text/plain": [
       "[<matplotlib.lines.Line2D at 0x1fc50470>]"
      ]
     },
     "execution_count": 24,
     "metadata": {},
     "output_type": "execute_result"
    }
   ],
   "source": [
    "plt.plot(range(len(y)),y)"
   ]
  },
  {
   "cell_type": "code",
   "execution_count": 25,
   "metadata": {},
   "outputs": [
    {
     "data": {
      "image/png": "[encoded data removed]",
      "text/plain": [
       "<matplotlib.figure.Figure at 0x1fc45e10>"
      ]
     },
     "metadata": {},
     "output_type": "display_data"
    }
   ],
   "source": [
    "plt.show()"
   ]
  },
  {
   "cell_type": "code",
   "execution_count": null,
   "metadata": {},
   "outputs": [],
   "source": []
  },
  {
   "cell_type": "code",
   "execution_count": 28,
   "metadata": {},
   "outputs": [
    {
     "name": "stderr",
     "output_type": "stream",
     "text": [
      "C:\\Users\\abhna\\Anaconda2\\lib\\site-packages\\networkx\\generators\\stochastic.py:56: UserWarning: zero out-degree for node Oguzhan Aynaoglu\n",
      "  warnings.warn('zero out-degree for node %s' % u)\n",
      "C:\\Users\\abhna\\Anaconda2\\lib\\site-packages\\networkx\\generators\\stochastic.py:56: UserWarning: zero out-degree for node Andrija Pavlovi?\n",
      "  warnings.warn('zero out-degree for node %s' % u)\n",
      "C:\\Users\\abhna\\Anaconda2\\lib\\site-packages\\networkx\\generators\\stochastic.py:56: UserWarning: zero out-degree for node Laurent Bonnart\n",
      "  warnings.warn('zero out-degree for node %s' % u)\n",
      "C:\\Users\\abhna\\Anaconda2\\lib\\site-packages\\networkx\\generators\\stochastic.py:56: UserWarning: zero out-degree for node Nolan Roux\n",
      "  warnings.warn('zero out-degree for node %s' % u)\n",
      "C:\\Users\\abhna\\Anaconda2\\lib\\site-packages\\networkx\\generators\\stochastic.py:56: UserWarning: zero out-degree for node Vitinho\n",
      "  warnings.warn('zero out-degree for node %s' % u)\n",
      "C:\\Users\\abhna\\Anaconda2\\lib\\site-packages\\networkx\\generators\\stochastic.py:56: UserWarning: zero out-degree for node eksandr Karnitski\n",
      "  warnings.warn('zero out-degree for node %s' % u)\n",
      "C:\\Users\\abhna\\Anaconda2\\lib\\site-packages\\networkx\\generators\\stochastic.py:56: UserWarning: zero out-degree for node Jonathan Tinhan\n",
      "  warnings.warn('zero out-degree for node %s' % u)\n",
      "C:\\Users\\abhna\\Anaconda2\\lib\\site-packages\\networkx\\generators\\stochastic.py:56: UserWarning: zero out-degree for node Francis Coquelin\n",
      "  warnings.warn('zero out-degree for node %s' % u)\n",
      "C:\\Users\\abhna\\Anaconda2\\lib\\site-packages\\networkx\\generators\\stochastic.py:56: UserWarning: zero out-degree for node Georgi Zhukov\n",
      "  warnings.warn('zero out-degree for node %s' % u)\n",
      "C:\\Users\\abhna\\Anaconda2\\lib\\site-packages\\networkx\\generators\\stochastic.py:56: UserWarning: zero out-degree for node Denys Dedechko\n",
      "  warnings.warn('zero out-degree for node %s' % u)\n",
      "C:\\Users\\abhna\\Anaconda2\\lib\\site-packages\\networkx\\generators\\stochastic.py:56: UserWarning: zero out-degree for node Aleksei Schetkin\n",
      "  warnings.warn('zero out-degree for node %s' % u)\n",
      "C:\\Users\\abhna\\Anaconda2\\lib\\site-packages\\networkx\\generators\\stochastic.py:56: UserWarning: zero out-degree for node Andrea Raggi\n",
      "  warnings.warn('zero out-degree for node %s' % u)\n",
      "C:\\Users\\abhna\\Anaconda2\\lib\\site-packages\\networkx\\generators\\stochastic.py:56: UserWarning: zero out-degree for node Moses Simon\n",
      "  warnings.warn('zero out-degree for node %s' % u)\n",
      "C:\\Users\\abhna\\Anaconda2\\lib\\site-packages\\networkx\\generators\\stochastic.py:56: UserWarning: zero out-degree for node Andrea Barzagli\n",
      "  warnings.warn('zero out-degree for node %s' % u)\n",
      "C:\\Users\\abhna\\Anaconda2\\lib\\site-packages\\networkx\\generators\\stochastic.py:56: UserWarning: zero out-degree for node leksandr Ryazantsev\n",
      "  warnings.warn('zero out-degree for node %s' % u)\n",
      "C:\\Users\\abhna\\Anaconda2\\lib\\site-packages\\networkx\\generators\\stochastic.py:56: UserWarning: zero out-degree for node Gervinho\n",
      "  warnings.warn('zero out-degree for node %s' % u)\n",
      "C:\\Users\\abhna\\Anaconda2\\lib\\site-packages\\networkx\\generators\\stochastic.py:56: UserWarning: zero out-degree for node Ivan Perii?\n",
      "  warnings.warn('zero out-degree for node %s' % u)\n",
      "C:\\Users\\abhna\\Anaconda2\\lib\\site-packages\\networkx\\generators\\stochastic.py:56: UserWarning: zero out-degree for node Rubin Okotie\n",
      "  warnings.warn('zero out-degree for node %s' % u)\n",
      "C:\\Users\\abhna\\Anaconda2\\lib\\site-packages\\networkx\\generators\\stochastic.py:56: UserWarning: zero out-degree for node Javier Hernndez\n",
      "  warnings.warn('zero out-degree for node %s' % u)\n",
      "C:\\Users\\abhna\\Anaconda2\\lib\\site-packages\\networkx\\generators\\stochastic.py:56: UserWarning: zero out-degree for node Ibrahima Traor\n",
      "  warnings.warn('zero out-degree for node %s' % u)\n",
      "C:\\Users\\abhna\\Anaconda2\\lib\\site-packages\\networkx\\generators\\stochastic.py:56: UserWarning: zero out-degree for node xlade-Chamberlain\n",
      "  warnings.warn('zero out-degree for node %s' % u)\n",
      "C:\\Users\\abhna\\Anaconda2\\lib\\site-packages\\networkx\\generators\\stochastic.py:56: UserWarning: zero out-degree for node Saeid Ezatolahi\n",
      "  warnings.warn('zero out-degree for node %s' % u)\n",
      "C:\\Users\\abhna\\Anaconda2\\lib\\site-packages\\networkx\\generators\\stochastic.py:56: UserWarning: zero out-degree for node Tom Wgner\n",
      "  warnings.warn('zero out-degree for node %s' % u)\n",
      "C:\\Users\\abhna\\Anaconda2\\lib\\site-packages\\networkx\\generators\\stochastic.py:56: UserWarning: zero out-degree for node Umut Bulut\n",
      "  warnings.warn('zero out-degree for node %s' % u)\n",
      "C:\\Users\\abhna\\Anaconda2\\lib\\site-packages\\networkx\\generators\\stochastic.py:56: UserWarning: zero out-degree for node Alessandro Matri\n",
      "  warnings.warn('zero out-degree for node %s' % u)\n",
      "C:\\Users\\abhna\\Anaconda2\\lib\\site-packages\\networkx\\generators\\stochastic.py:56: UserWarning: zero out-degree for node Tanat Nuserbayev\n",
      "  warnings.warn('zero out-degree for node %s' % u)\n",
      "C:\\Users\\abhna\\Anaconda2\\lib\\site-packages\\networkx\\generators\\stochastic.py:56: UserWarning: zero out-degree for node Mikhail Sivakov\n",
      "  warnings.warn('zero out-degree for node %s' % u)\n",
      "C:\\Users\\abhna\\Anaconda2\\lib\\site-packages\\networkx\\generators\\stochastic.py:56: UserWarning: zero out-degree for node Artem Kontsevoi\n",
      "  warnings.warn('zero out-degree for node %s' % u)\n",
      "C:\\Users\\abhna\\Anaconda2\\lib\\site-packages\\networkx\\generators\\stochastic.py:56: UserWarning: zero out-degree for node Roman Vasilyuk\n",
      "  warnings.warn('zero out-degree for node %s' % u)\n",
      "C:\\Users\\abhna\\Anaconda2\\lib\\site-packages\\networkx\\generators\\stochastic.py:56: UserWarning: zero out-degree for node Ola John\n",
      "  warnings.warn('zero out-degree for node %s' % u)\n",
      "C:\\Users\\abhna\\Anaconda2\\lib\\site-packages\\networkx\\generators\\stochastic.py:56: UserWarning: zero out-degree for node Z Luis\n",
      "  warnings.warn('zero out-degree for node %s' % u)\n",
      "C:\\Users\\abhna\\Anaconda2\\lib\\site-packages\\networkx\\generators\\stochastic.py:56: UserWarning: zero out-degree for node Kostas Mitroglou\n",
      "  warnings.warn('zero out-degree for node %s' % u)\n",
      "C:\\Users\\abhna\\Anaconda2\\lib\\site-packages\\networkx\\generators\\stochastic.py:56: UserWarning: zero out-degree for node  Mara Gimnez\n",
      "  warnings.warn('zero out-degree for node %s' % u)\n",
      "C:\\Users\\abhna\\Anaconda2\\lib\\site-packages\\networkx\\generators\\stochastic.py:56: UserWarning: zero out-degree for node Gary Cahill\n",
      "  warnings.warn('zero out-degree for node %s' % u)\n",
      "C:\\Users\\abhna\\Anaconda2\\lib\\site-packages\\networkx\\generators\\stochastic.py:56: UserWarning: zero out-degree for node Javier Ros\n",
      "  warnings.warn('zero out-degree for node %s' % u)\n",
      "C:\\Users\\abhna\\Anaconda2\\lib\\site-packages\\networkx\\generators\\stochastic.py:56: UserWarning: zero out-degree for node Claudiu Ke?er\n",
      "  warnings.warn('zero out-degree for node %s' % u)\n",
      "C:\\Users\\abhna\\Anaconda2\\lib\\site-packages\\networkx\\generators\\stochastic.py:56: UserWarning: zero out-degree for node ngelo Henrquez\n",
      "  warnings.warn('zero out-degree for node %s' % u)\n",
      "C:\\Users\\abhna\\Anaconda2\\lib\\site-packages\\networkx\\generators\\stochastic.py:56: UserWarning: zero out-degree for node Tobias Sana\n",
      "  warnings.warn('zero out-degree for node %s' % u)\n",
      "C:\\Users\\abhna\\Anaconda2\\lib\\site-packages\\networkx\\generators\\stochastic.py:56: UserWarning: zero out-degree for node Juan Bernat\n",
      "  warnings.warn('zero out-degree for node %s' % u)\n",
      "C:\\Users\\abhna\\Anaconda2\\lib\\site-packages\\networkx\\generators\\stochastic.py:56: UserWarning: zero out-degree for node Mario Gtze\n",
      "  warnings.warn('zero out-degree for node %s' % u)\n",
      "C:\\Users\\abhna\\Anaconda2\\lib\\site-packages\\networkx\\generators\\stochastic.py:56: UserWarning: zero out-degree for node uciano Narsingh\n",
      "  warnings.warn('zero out-degree for node %s' % u)\n",
      "C:\\Users\\abhna\\Anaconda2\\lib\\site-packages\\networkx\\generators\\stochastic.py:56: UserWarning: zero out-degree for node Facundo Ferreyra\n",
      "  warnings.warn('zero out-degree for node %s' % u)\n",
      "C:\\Users\\abhna\\Anaconda2\\lib\\site-packages\\networkx\\generators\\stochastic.py:56: UserWarning: zero out-degree for node Marquinhos\n",
      "  warnings.warn('zero out-degree for node %s' % u)\n",
      "C:\\Users\\abhna\\Anaconda2\\lib\\site-packages\\networkx\\generators\\stochastic.py:56: UserWarning: zero out-degree for node Antonio Valencia\n",
      "  warnings.warn('zero out-degree for node %s' % u)\n",
      "C:\\Users\\abhna\\Anaconda2\\lib\\site-packages\\networkx\\generators\\stochastic.py:56: UserWarning: zero out-degree for node Anderson\n",
      "  warnings.warn('zero out-degree for node %s' % u)\n",
      "C:\\Users\\abhna\\Anaconda2\\lib\\site-packages\\networkx\\generators\\stochastic.py:56: UserWarning: zero out-degree for node Amido Bald\n",
      "  warnings.warn('zero out-degree for node %s' % u)\n",
      "C:\\Users\\abhna\\Anaconda2\\lib\\site-packages\\networkx\\generators\\stochastic.py:56: UserWarning: zero out-degree for node Daniel Amartey\n",
      "  warnings.warn('zero out-degree for node %s' % u)\n",
      "C:\\Users\\abhna\\Anaconda2\\lib\\site-packages\\networkx\\generators\\stochastic.py:56: UserWarning: zero out-degree for node Joel Campbell\n",
      "  warnings.warn('zero out-degree for node %s' % u)\n",
      "C:\\Users\\abhna\\Anaconda2\\lib\\site-packages\\networkx\\generators\\stochastic.py:56: UserWarning: zero out-degree for node Jos Rodrguez\n",
      "  warnings.warn('zero out-degree for node %s' % u)\n",
      "C:\\Users\\abhna\\Anaconda2\\lib\\site-packages\\networkx\\generators\\stochastic.py:56: UserWarning: zero out-degree for node Daniel Sturridge\n",
      "  warnings.warn('zero out-degree for node %s' % u)\n",
      "C:\\Users\\abhna\\Anaconda2\\lib\\site-packages\\networkx\\generators\\stochastic.py:56: UserWarning: zero out-degree for node Raphal Varane\n",
      "  warnings.warn('zero out-degree for node %s' % u)\n",
      "C:\\Users\\abhna\\Anaconda2\\lib\\site-packages\\networkx\\generators\\stochastic.py:56: UserWarning: zero out-degree for node Phil Jones\n",
      "  warnings.warn('zero out-degree for node %s' % u)\n",
      "C:\\Users\\abhna\\Anaconda2\\lib\\site-packages\\networkx\\generators\\stochastic.py:56: UserWarning: zero out-degree for node bastian Giovinco\n",
      "  warnings.warn('zero out-degree for node %s' % u)\n",
      "C:\\Users\\abhna\\Anaconda2\\lib\\site-packages\\networkx\\generators\\stochastic.py:56: UserWarning: zero out-degree for node Ciprian Marica\n",
      "  warnings.warn('zero out-degree for node %s' % u)\n",
      "C:\\Users\\abhna\\Anaconda2\\lib\\site-packages\\networkx\\generators\\stochastic.py:56: UserWarning: zero out-degree for node Ryo Miyaichi\n",
      "  warnings.warn('zero out-degree for node %s' % u)\n"
     ]
    },
    {
     "name": "stderr",
     "output_type": "stream",
     "text": [
      "C:\\Users\\abhna\\Anaconda2\\lib\\site-packages\\networkx\\generators\\stochastic.py:56: UserWarning: zero out-degree for node Paul Pogba\n",
      "  warnings.warn('zero out-degree for node %s' % u)\n",
      "C:\\Users\\abhna\\Anaconda2\\lib\\site-packages\\networkx\\generators\\stochastic.py:56: UserWarning: zero out-degree for node Klber\n",
      "  warnings.warn('zero out-degree for node %s' % u)\n",
      "C:\\Users\\abhna\\Anaconda2\\lib\\site-packages\\networkx\\generators\\stochastic.py:56: UserWarning: zero out-degree for node Roman Kienast\n",
      "  warnings.warn('zero out-degree for node %s' % u)\n",
      "C:\\Users\\abhna\\Anaconda2\\lib\\site-packages\\networkx\\generators\\stochastic.py:56: UserWarning: zero out-degree for node Admir Mehmedi\n",
      "  warnings.warn('zero out-degree for node %s' % u)\n",
      "C:\\Users\\abhna\\Anaconda2\\lib\\site-packages\\networkx\\generators\\stochastic.py:56: UserWarning: zero out-degree for node Manuel da Costa\n",
      "  warnings.warn('zero out-degree for node %s' % u)\n",
      "C:\\Users\\abhna\\Anaconda2\\lib\\site-packages\\networkx\\generators\\stochastic.py:56: UserWarning: zero out-degree for node Manolo Gabbiadini\n",
      "  warnings.warn('zero out-degree for node %s' % u)\n",
      "C:\\Users\\abhna\\Anaconda2\\lib\\site-packages\\networkx\\generators\\stochastic.py:56: UserWarning: zero out-degree for node tis Papastathopoulos\n",
      "  warnings.warn('zero out-degree for node %s' % u)\n",
      "C:\\Users\\abhna\\Anaconda2\\lib\\site-packages\\networkx\\generators\\stochastic.py:56: UserWarning: zero out-degree for node abio Quagliarella\n",
      "  warnings.warn('zero out-degree for node %s' % u)\n",
      "C:\\Users\\abhna\\Anaconda2\\lib\\site-packages\\networkx\\generators\\stochastic.py:56: UserWarning: zero out-degree for node Nicklas Bendtner\n",
      "  warnings.warn('zero out-degree for node %s' % u)\n",
      "C:\\Users\\abhna\\Anaconda2\\lib\\site-packages\\networkx\\generators\\stochastic.py:56: UserWarning: zero out-degree for node omas Vermaelen\n",
      "  warnings.warn('zero out-degree for node %s' % u)\n",
      "C:\\Users\\abhna\\Anaconda2\\lib\\site-packages\\networkx\\generators\\stochastic.py:56: UserWarning: zero out-degree for node Wilfried Bony\n",
      "  warnings.warn('zero out-degree for node %s' % u)\n",
      "C:\\Users\\abhna\\Anaconda2\\lib\\site-packages\\networkx\\generators\\stochastic.py:56: UserWarning: zero out-degree for node adwo Asamoah\n",
      "  warnings.warn('zero out-degree for node %s' % u)\n",
      "C:\\Users\\abhna\\Anaconda2\\lib\\site-packages\\networkx\\generators\\stochastic.py:56: UserWarning: zero out-degree for node Chinedu Obasi\n",
      "  warnings.warn('zero out-degree for node %s' % u)\n",
      "C:\\Users\\abhna\\Anaconda2\\lib\\site-packages\\networkx\\generators\\stochastic.py:56: UserWarning: zero out-degree for node Jermaine Jones\n",
      "  warnings.warn('zero out-degree for node %s' % u)\n",
      "C:\\Users\\abhna\\Anaconda2\\lib\\site-packages\\networkx\\generators\\stochastic.py:56: UserWarning: zero out-degree for node Dominik Kohr\n",
      "  warnings.warn('zero out-degree for node %s' % u)\n",
      "C:\\Users\\abhna\\Anaconda2\\lib\\site-packages\\networkx\\generators\\stochastic.py:56: UserWarning: zero out-degree for node Jrgen Locadia\n",
      "  warnings.warn('zero out-degree for node %s' % u)\n",
      "C:\\Users\\abhna\\Anaconda2\\lib\\site-packages\\networkx\\generators\\stochastic.py:56: UserWarning: zero out-degree for node David Albelda\n",
      "  warnings.warn('zero out-degree for node %s' % u)\n",
      "C:\\Users\\abhna\\Anaconda2\\lib\\site-packages\\networkx\\generators\\stochastic.py:56: UserWarning: zero out-degree for node Andrea Petagna\n",
      "  warnings.warn('zero out-degree for node %s' % u)\n",
      "C:\\Users\\abhna\\Anaconda2\\lib\\site-packages\\networkx\\generators\\stochastic.py:56: UserWarning: zero out-degree for node Welliton\n",
      "  warnings.warn('zero out-degree for node %s' % u)\n",
      "C:\\Users\\abhna\\Anaconda2\\lib\\site-packages\\networkx\\generators\\stochastic.py:56: UserWarning: zero out-degree for node Andreas Samaris\n",
      "  warnings.warn('zero out-degree for node %s' % u)\n",
      "C:\\Users\\abhna\\Anaconda2\\lib\\site-packages\\networkx\\generators\\stochastic.py:56: UserWarning: zero out-degree for node Lo Baptisto\n",
      "  warnings.warn('zero out-degree for node %s' % u)\n",
      "C:\\Users\\abhna\\Anaconda2\\lib\\site-packages\\networkx\\generators\\stochastic.py:56: UserWarning: zero out-degree for node Rafinha\n",
      "  warnings.warn('zero out-degree for node %s' % u)\n",
      "C:\\Users\\abhna\\Anaconda2\\lib\\site-packages\\networkx\\generators\\stochastic.py:56: UserWarning: zero out-degree for node Olexandr Gladkiy\n",
      "  warnings.warn('zero out-degree for node %s' % u)\n",
      "C:\\Users\\abhna\\Anaconda2\\lib\\site-packages\\networkx\\generators\\stochastic.py:56: UserWarning: zero out-degree for node Oliver Kirch\n",
      "  warnings.warn('zero out-degree for node %s' % u)\n",
      "C:\\Users\\abhna\\Anaconda2\\lib\\site-packages\\networkx\\generators\\stochastic.py:56: UserWarning: zero out-degree for node iralem Sulejmani\n",
      "  warnings.warn('zero out-degree for node %s' % u)\n",
      "C:\\Users\\abhna\\Anaconda2\\lib\\site-packages\\networkx\\generators\\stochastic.py:56: UserWarning: zero out-degree for node Wesley\n",
      "  warnings.warn('zero out-degree for node %s' % u)\n",
      "C:\\Users\\abhna\\Anaconda2\\lib\\site-packages\\networkx\\generators\\stochastic.py:56: UserWarning: zero out-degree for node Julian Schieber\n",
      "  warnings.warn('zero out-degree for node %s' % u)\n",
      "C:\\Users\\abhna\\Anaconda2\\lib\\site-packages\\networkx\\generators\\stochastic.py:56: UserWarning: zero out-degree for node Gastn Sauro\n",
      "  warnings.warn('zero out-degree for node %s' % u)\n",
      "C:\\Users\\abhna\\Anaconda2\\lib\\site-packages\\networkx\\generators\\stochastic.py:56: UserWarning: zero out-degree for node Kirill Panchenko\n",
      "  warnings.warn('zero out-degree for node %s' % u)\n",
      "C:\\Users\\abhna\\Anaconda2\\lib\\site-packages\\networkx\\generators\\stochastic.py:56: UserWarning: zero out-degree for node Dzenis Burnic\n",
      "  warnings.warn('zero out-degree for node %s' % u)\n",
      "C:\\Users\\abhna\\Anaconda2\\lib\\site-packages\\networkx\\generators\\stochastic.py:56: UserWarning: zero out-degree for node lechi Iheanacho\n",
      "  warnings.warn('zero out-degree for node %s' % u)\n",
      "C:\\Users\\abhna\\Anaconda2\\lib\\site-packages\\networkx\\generators\\stochastic.py:56: UserWarning: zero out-degree for node Jardel\n",
      "  warnings.warn('zero out-degree for node %s' % u)\n",
      "C:\\Users\\abhna\\Anaconda2\\lib\\site-packages\\networkx\\generators\\stochastic.py:56: UserWarning: zero out-degree for node andr Ryazantsev\n",
      "  warnings.warn('zero out-degree for node %s' % u)\n",
      "C:\\Users\\abhna\\Anaconda2\\lib\\site-packages\\networkx\\generators\\stochastic.py:56: UserWarning: zero out-degree for node Marc Janko\n",
      "  warnings.warn('zero out-degree for node %s' % u)\n",
      "C:\\Users\\abhna\\Anaconda2\\lib\\site-packages\\networkx\\generators\\stochastic.py:56: UserWarning: zero out-degree for node Talisca\n",
      "  warnings.warn('zero out-degree for node %s' % u)\n",
      "C:\\Users\\abhna\\Anaconda2\\lib\\site-packages\\networkx\\generators\\stochastic.py:56: UserWarning: zero out-degree for node Marek Bako\n",
      "  warnings.warn('zero out-degree for node %s' % u)\n",
      "C:\\Users\\abhna\\Anaconda2\\lib\\site-packages\\networkx\\generators\\stochastic.py:56: UserWarning: zero out-degree for node Andr Schrrle\n",
      "  warnings.warn('zero out-degree for node %s' % u)\n",
      "C:\\Users\\abhna\\Anaconda2\\lib\\site-packages\\networkx\\generators\\stochastic.py:56: UserWarning: zero out-degree for node ndrija Pavlovi?\n",
      "  warnings.warn('zero out-degree for node %s' % u)\n",
      "C:\\Users\\abhna\\Anaconda2\\lib\\site-packages\\networkx\\generators\\stochastic.py:56: UserWarning: zero out-degree for node nuele Giaccherini\n",
      "  warnings.warn('zero out-degree for node %s' % u)\n",
      "C:\\Users\\abhna\\Anaconda2\\lib\\site-packages\\networkx\\generators\\stochastic.py:56: UserWarning: zero out-degree for node Joe Ledley\n",
      "  warnings.warn('zero out-degree for node %s' % u)\n",
      "C:\\Users\\abhna\\Anaconda2\\lib\\site-packages\\networkx\\generators\\stochastic.py:56: UserWarning: zero out-degree for node Oscar\n",
      "  warnings.warn('zero out-degree for node %s' % u)\n",
      "C:\\Users\\abhna\\Anaconda2\\lib\\site-packages\\networkx\\generators\\stochastic.py:56: UserWarning: zero out-degree for node boubakar Keita\n",
      "  warnings.warn('zero out-degree for node %s' % u)\n",
      "C:\\Users\\abhna\\Anaconda2\\lib\\site-packages\\networkx\\generators\\stochastic.py:56: UserWarning: zero out-degree for node Tom Hgli\n",
      "  warnings.warn('zero out-degree for node %s' % u)\n",
      "C:\\Users\\abhna\\Anaconda2\\lib\\site-packages\\networkx\\generators\\stochastic.py:56: UserWarning: zero out-degree for node Pablo Osvaldo\n",
      "  warnings.warn('zero out-degree for node %s' % u)\n",
      "C:\\Users\\abhna\\Anaconda2\\lib\\site-packages\\networkx\\generators\\stochastic.py:56: UserWarning: zero out-degree for node Joshua Onomah\n",
      "  warnings.warn('zero out-degree for node %s' % u)\n",
      "C:\\Users\\abhna\\Anaconda2\\lib\\site-packages\\networkx\\generators\\stochastic.py:56: UserWarning: zero out-degree for node Carl Medjani\n",
      "  warnings.warn('zero out-degree for node %s' % u)\n",
      "C:\\Users\\abhna\\Anaconda2\\lib\\site-packages\\networkx\\generators\\stochastic.py:56: UserWarning: zero out-degree for node Mario Gomez\n",
      "  warnings.warn('zero out-degree for node %s' % u)\n",
      "C:\\Users\\abhna\\Anaconda2\\lib\\site-packages\\networkx\\generators\\stochastic.py:56: UserWarning: zero out-degree for node Xherdan Shaqiri\n",
      "  warnings.warn('zero out-degree for node %s' % u)\n",
      "C:\\Users\\abhna\\Anaconda2\\lib\\site-packages\\networkx\\generators\\stochastic.py:56: UserWarning: zero out-degree for node Jan Kirchhoff\n",
      "  warnings.warn('zero out-degree for node %s' % u)\n",
      "C:\\Users\\abhna\\Anaconda2\\lib\\site-packages\\networkx\\generators\\stochastic.py:56: UserWarning: zero out-degree for node iandomenico Mesto\n",
      "  warnings.warn('zero out-degree for node %s' % u)\n",
      "C:\\Users\\abhna\\Anaconda2\\lib\\site-packages\\networkx\\generators\\stochastic.py:56: UserWarning: zero out-degree for node Kenneth Saief\n",
      "  warnings.warn('zero out-degree for node %s' % u)\n",
      "C:\\Users\\abhna\\Anaconda2\\lib\\site-packages\\networkx\\generators\\stochastic.py:56: UserWarning: zero out-degree for node lambos Lykogiannis\n",
      "  warnings.warn('zero out-degree for node %s' % u)\n",
      "C:\\Users\\abhna\\Anaconda2\\lib\\site-packages\\networkx\\generators\\stochastic.py:56: UserWarning: zero out-degree for node Kalifa Coulibaly\n",
      "  warnings.warn('zero out-degree for node %s' % u)\n",
      "C:\\Users\\abhna\\Anaconda2\\lib\\site-packages\\networkx\\generators\\stochastic.py:56: UserWarning: zero out-degree for node Carlo\n",
      "  warnings.warn('zero out-degree for node %s' % u)\n",
      "C:\\Users\\abhna\\Anaconda2\\lib\\site-packages\\networkx\\generators\\stochastic.py:56: UserWarning: zero out-degree for node -Kvin Augustin\n",
      "  warnings.warn('zero out-degree for node %s' % u)\n",
      "C:\\Users\\abhna\\Anaconda2\\lib\\site-packages\\networkx\\generators\\stochastic.py:56: UserWarning: zero out-degree for node Nolito\n",
      "  warnings.warn('zero out-degree for node %s' % u)\n",
      "C:\\Users\\abhna\\Anaconda2\\lib\\site-packages\\networkx\\generators\\stochastic.py:56: UserWarning: zero out-degree for node Leonardo Bittencourt\n",
      "  warnings.warn('zero out-degree for node %s' % u)\n",
      "C:\\Users\\abhna\\Anaconda2\\lib\\site-packages\\networkx\\generators\\stochastic.py:56: UserWarning: zero out-degree for node Ceyhun Glselam\n",
      "  warnings.warn('zero out-degree for node %s' % u)\n"
     ]
    },
    {
     "name": "stderr",
     "output_type": "stream",
     "text": [
      "C:\\Users\\abhna\\Anaconda2\\lib\\site-packages\\networkx\\generators\\stochastic.py:56: UserWarning: zero out-degree for node Robbie Kruse\n",
      "  warnings.warn('zero out-degree for node %s' % u)\n",
      "C:\\Users\\abhna\\Anaconda2\\lib\\site-packages\\networkx\\generators\\stochastic.py:56: UserWarning: zero out-degree for node Tony Watt\n",
      "  warnings.warn('zero out-degree for node %s' % u)\n",
      "C:\\Users\\abhna\\Anaconda2\\lib\\site-packages\\networkx\\generators\\stochastic.py:56: UserWarning: zero out-degree for node Filip Benkovi?\n",
      "  warnings.warn('zero out-degree for node %s' % u)\n",
      "C:\\Users\\abhna\\Anaconda2\\lib\\site-packages\\networkx\\generators\\stochastic.py:56: UserWarning: zero out-degree for node orz Krychowiak\n",
      "  warnings.warn('zero out-degree for node %s' % u)\n",
      "C:\\Users\\abhna\\Anaconda2\\lib\\site-packages\\networkx\\generators\\stochastic.py:56: UserWarning: zero out-degree for node Vincent Kompany\n",
      "  warnings.warn('zero out-degree for node %s' % u)\n",
      "C:\\Users\\abhna\\Anaconda2\\lib\\site-packages\\networkx\\generators\\stochastic.py:56: UserWarning: zero out-degree for node Mario Lemina\n",
      "  warnings.warn('zero out-degree for node %s' % u)\n",
      "C:\\Users\\abhna\\Anaconda2\\lib\\site-packages\\networkx\\generators\\stochastic.py:56: UserWarning: zero out-degree for node Marc Bartra\n",
      "  warnings.warn('zero out-degree for node %s' % u)\n",
      "C:\\Users\\abhna\\Anaconda2\\lib\\site-packages\\networkx\\generators\\stochastic.py:56: UserWarning: zero out-degree for node Ivan Cavaleiro\n",
      "  warnings.warn('zero out-degree for node %s' % u)\n",
      "C:\\Users\\abhna\\Anaconda2\\lib\\site-packages\\networkx\\generators\\stochastic.py:56: UserWarning: zero out-degree for node Rodrigo\n",
      "  warnings.warn('zero out-degree for node %s' % u)\n",
      "C:\\Users\\abhna\\Anaconda2\\lib\\site-packages\\networkx\\generators\\stochastic.py:56: UserWarning: zero out-degree for node Arlind Ajeti\n",
      "  warnings.warn('zero out-degree for node %s' % u)\n",
      "C:\\Users\\abhna\\Anaconda2\\lib\\site-packages\\networkx\\generators\\stochastic.py:56: UserWarning: zero out-degree for node Andr Hahn\n",
      "  warnings.warn('zero out-degree for node %s' % u)\n",
      "C:\\Users\\abhna\\Anaconda2\\lib\\site-packages\\networkx\\generators\\stochastic.py:56: UserWarning: zero out-degree for node Edoardo Soleri\n",
      "  warnings.warn('zero out-degree for node %s' % u)\n",
      "C:\\Users\\abhna\\Anaconda2\\lib\\site-packages\\networkx\\generators\\stochastic.py:56: UserWarning: zero out-degree for node Maxwel Cornet\n",
      "  warnings.warn('zero out-degree for node %s' % u)\n",
      "C:\\Users\\abhna\\Anaconda2\\lib\\site-packages\\networkx\\generators\\stochastic.py:56: UserWarning: zero out-degree for node Aleksandr Karnitski\n",
      "  warnings.warn('zero out-degree for node %s' % u)\n",
      "C:\\Users\\abhna\\Anaconda2\\lib\\site-packages\\networkx\\generators\\stochastic.py:56: UserWarning: zero out-degree for node Johan Elmander\n",
      "  warnings.warn('zero out-degree for node %s' % u)\n",
      "C:\\Users\\abhna\\Anaconda2\\lib\\site-packages\\networkx\\generators\\stochastic.py:56: UserWarning: zero out-degree for node ngel Correa\n",
      "  warnings.warn('zero out-degree for node %s' % u)\n",
      "C:\\Users\\abhna\\Anaconda2\\lib\\site-packages\\networkx\\generators\\stochastic.py:56: UserWarning: zero out-degree for node Pablo Zabaleta\n",
      "  warnings.warn('zero out-degree for node %s' % u)\n",
      "C:\\Users\\abhna\\Anaconda2\\lib\\site-packages\\networkx\\generators\\stochastic.py:56: UserWarning: zero out-degree for node Nelson Valdez\n",
      "  warnings.warn('zero out-degree for node %s' % u)\n",
      "C:\\Users\\abhna\\Anaconda2\\lib\\site-packages\\networkx\\generators\\stochastic.py:56: UserWarning: zero out-degree for node Kelechi Iheanacho\n",
      "  warnings.warn('zero out-degree for node %s' % u)\n",
      "C:\\Users\\abhna\\Anaconda2\\lib\\site-packages\\networkx\\generators\\stochastic.py:56: UserWarning: zero out-degree for node ksei Berezutski\n",
      "  warnings.warn('zero out-degree for node %s' % u)\n",
      "C:\\Users\\abhna\\Anaconda2\\lib\\site-packages\\networkx\\generators\\stochastic.py:56: UserWarning: zero out-degree for node no Andr Coelho\n",
      "  warnings.warn('zero out-degree for node %s' % u)\n",
      "C:\\Users\\abhna\\Anaconda2\\lib\\site-packages\\networkx\\generators\\stochastic.py:56: UserWarning: zero out-degree for node Djamal\n",
      "  warnings.warn('zero out-degree for node %s' % u)\n",
      "C:\\Users\\abhna\\Anaconda2\\lib\\site-packages\\networkx\\generators\\stochastic.py:56: UserWarning: zero out-degree for node Mitchell Weiser\n",
      "  warnings.warn('zero out-degree for node %s' % u)\n",
      "C:\\Users\\abhna\\Anaconda2\\lib\\site-packages\\networkx\\generators\\stochastic.py:56: UserWarning: zero out-degree for node Papadopoulos\n",
      "  warnings.warn('zero out-degree for node %s' % u)\n",
      "C:\\Users\\abhna\\Anaconda2\\lib\\site-packages\\networkx\\generators\\stochastic.py:56: UserWarning: zero out-degree for node acundo Ferreyra\n",
      "  warnings.warn('zero out-degree for node %s' % u)\n",
      "C:\\Users\\abhna\\Anaconda2\\lib\\site-packages\\networkx\\generators\\stochastic.py:56: UserWarning: zero out-degree for node stavo Campanharo\n",
      "  warnings.warn('zero out-degree for node %s' % u)\n",
      "C:\\Users\\abhna\\Anaconda2\\lib\\site-packages\\networkx\\generators\\stochastic.py:56: UserWarning: zero out-degree for node Igor Plastun\n",
      "  warnings.warn('zero out-degree for node %s' % u)\n",
      "C:\\Users\\abhna\\Anaconda2\\lib\\site-packages\\networkx\\generators\\stochastic.py:56: UserWarning: zero out-degree for node Tom Kalas\n",
      "  warnings.warn('zero out-degree for node %s' % u)\n",
      "C:\\Users\\abhna\\Anaconda2\\lib\\site-packages\\networkx\\generators\\stochastic.py:56: UserWarning: zero out-degree for node Juan Cuadrado\n",
      "  warnings.warn('zero out-degree for node %s' % u)\n",
      "C:\\Users\\abhna\\Anaconda2\\lib\\site-packages\\networkx\\generators\\stochastic.py:56: UserWarning: zero out-degree for node Seba\n",
      "  warnings.warn('zero out-degree for node %s' % u)\n",
      "C:\\Users\\abhna\\Anaconda2\\lib\\site-packages\\networkx\\generators\\stochastic.py:56: UserWarning: zero out-degree for node ke van der Hoorn\n",
      "  warnings.warn('zero out-degree for node %s' % u)\n",
      "C:\\Users\\abhna\\Anaconda2\\lib\\site-packages\\networkx\\generators\\stochastic.py:56: UserWarning: zero out-degree for node Sebastian Kehl\n",
      "  warnings.warn('zero out-degree for node %s' % u)\n",
      "C:\\Users\\abhna\\Anaconda2\\lib\\site-packages\\networkx\\generators\\stochastic.py:56: UserWarning: zero out-degree for node Tranquillo Barnetta\n",
      "  warnings.warn('zero out-degree for node %s' % u)\n",
      "C:\\Users\\abhna\\Anaconda2\\lib\\site-packages\\networkx\\generators\\stochastic.py:56: UserWarning: zero out-degree for node Jonas Hofmann\n",
      "  warnings.warn('zero out-degree for node %s' % u)\n",
      "C:\\Users\\abhna\\Anaconda2\\lib\\site-packages\\networkx\\generators\\stochastic.py:56: UserWarning: zero out-degree for node Maxime Lestienne\n",
      "  warnings.warn('zero out-degree for node %s' % u)\n",
      "C:\\Users\\abhna\\Anaconda2\\lib\\site-packages\\networkx\\generators\\stochastic.py:56: UserWarning: zero out-degree for node ntelis Kapetanos\n",
      "  warnings.warn('zero out-degree for node %s' % u)\n",
      "C:\\Users\\abhna\\Anaconda2\\lib\\site-packages\\networkx\\generators\\stochastic.py:56: UserWarning: zero out-degree for node Ral Albiol\n",
      "  warnings.warn('zero out-degree for node %s' % u)\n",
      "C:\\Users\\abhna\\Anaconda2\\lib\\site-packages\\networkx\\generators\\stochastic.py:56: UserWarning: zero out-degree for node Nabil Ghilas\n",
      "  warnings.warn('zero out-degree for node %s' % u)\n",
      "C:\\Users\\abhna\\Anaconda2\\lib\\site-packages\\networkx\\generators\\stochastic.py:56: UserWarning: zero out-degree for node Youri Tielemans\n",
      "  warnings.warn('zero out-degree for node %s' % u)\n",
      "C:\\Users\\abhna\\Anaconda2\\lib\\site-packages\\networkx\\generators\\stochastic.py:56: UserWarning: zero out-degree for node Bram Nuytinck\n",
      "  warnings.warn('zero out-degree for node %s' % u)\n",
      "C:\\Users\\abhna\\Anaconda2\\lib\\site-packages\\networkx\\generators\\stochastic.py:56: UserWarning: zero out-degree for node Nen\n",
      "  warnings.warn('zero out-degree for node %s' % u)\n",
      "C:\\Users\\abhna\\Anaconda2\\lib\\site-packages\\networkx\\generators\\stochastic.py:56: UserWarning: zero out-degree for node Jack Rodwell\n",
      "  warnings.warn('zero out-degree for node %s' % u)\n",
      "C:\\Users\\abhna\\Anaconda2\\lib\\site-packages\\networkx\\generators\\stochastic.py:56: UserWarning: zero out-degree for node Stefan Savi?\n",
      "  warnings.warn('zero out-degree for node %s' % u)\n",
      "C:\\Users\\abhna\\Anaconda2\\lib\\site-packages\\networkx\\generators\\stochastic.py:56: UserWarning: zero out-degree for node Derk Boerrigter\n",
      "  warnings.warn('zero out-degree for node %s' % u)\n",
      "C:\\Users\\abhna\\Anaconda2\\lib\\site-packages\\networkx\\generators\\stochastic.py:56: UserWarning: zero out-degree for node Ezequiel Lavezzi\n",
      "  warnings.warn('zero out-degree for node %s' % u)\n",
      "C:\\Users\\abhna\\Anaconda2\\lib\\site-packages\\networkx\\generators\\stochastic.py:56: UserWarning: zero out-degree for node Praxitelis Vouros\n",
      "  warnings.warn('zero out-degree for node %s' % u)\n",
      "C:\\Users\\abhna\\Anaconda2\\lib\\site-packages\\networkx\\generators\\stochastic.py:56: UserWarning: zero out-degree for node Sal guez\n",
      "  warnings.warn('zero out-degree for node %s' % u)\n",
      "C:\\Users\\abhna\\Anaconda2\\lib\\site-packages\\networkx\\generators\\stochastic.py:56: UserWarning: zero out-degree for node ladlen Yurchenko\n",
      "  warnings.warn('zero out-degree for node %s' % u)\n",
      "C:\\Users\\abhna\\Anaconda2\\lib\\site-packages\\networkx\\generators\\stochastic.py:56: UserWarning: zero out-degree for node Ahmed Musa\n",
      "  warnings.warn('zero out-degree for node %s' % u)\n",
      "C:\\Users\\abhna\\Anaconda2\\lib\\site-packages\\networkx\\generators\\stochastic.py:56: UserWarning: zero out-degree for node Demarai Gray\n",
      "  warnings.warn('zero out-degree for node %s' % u)\n",
      "C:\\Users\\abhna\\Anaconda2\\lib\\site-packages\\networkx\\generators\\stochastic.py:56: UserWarning: zero out-degree for node Emanuel Herrera\n",
      "  warnings.warn('zero out-degree for node %s' % u)\n"
     ]
    },
    {
     "name": "stderr",
     "output_type": "stream",
     "text": [
      "C:\\Users\\abhna\\Anaconda2\\lib\\site-packages\\networkx\\generators\\stochastic.py:56: UserWarning: zero out-degree for node Mario Musa\n",
      "  warnings.warn('zero out-degree for node %s' % u)\n",
      "C:\\Users\\abhna\\Anaconda2\\lib\\site-packages\\networkx\\generators\\stochastic.py:56: UserWarning: zero out-degree for node ?ukasz Teodorczyk\n",
      "  warnings.warn('zero out-degree for node %s' % u)\n",
      "C:\\Users\\abhna\\Anaconda2\\lib\\site-packages\\networkx\\generators\\stochastic.py:56: UserWarning: zero out-degree for node Carlos Strandberg\n",
      "  warnings.warn('zero out-degree for node %s' % u)\n",
      "C:\\Users\\abhna\\Anaconda2\\lib\\site-packages\\networkx\\generators\\stochastic.py:56: UserWarning: zero out-degree for node Cristian Rodrguez\n",
      "  warnings.warn('zero out-degree for node %s' % u)\n",
      "C:\\Users\\abhna\\Anaconda2\\lib\\site-packages\\networkx\\generators\\stochastic.py:56: UserWarning: zero out-degree for node Mariano Daz\n",
      "  warnings.warn('zero out-degree for node %s' % u)\n",
      "C:\\Users\\abhna\\Anaconda2\\lib\\site-packages\\networkx\\generators\\stochastic.py:56: UserWarning: zero out-degree for node Andrei Prepeli??\n",
      "  warnings.warn('zero out-degree for node %s' % u)\n",
      "C:\\Users\\abhna\\Anaconda2\\lib\\site-packages\\networkx\\generators\\stochastic.py:56: UserWarning: zero out-degree for node Luka Jovi?\n",
      "  warnings.warn('zero out-degree for node %s' % u)\n",
      "C:\\Users\\abhna\\Anaconda2\\lib\\site-packages\\networkx\\generators\\stochastic.py:56: UserWarning: zero out-degree for node Adama Traor\n",
      "  warnings.warn('zero out-degree for node %s' % u)\n",
      "C:\\Users\\abhna\\Anaconda2\\lib\\site-packages\\networkx\\generators\\stochastic.py:56: UserWarning: zero out-degree for node Benito Raman\n",
      "  warnings.warn('zero out-degree for node %s' % u)\n",
      "C:\\Users\\abhna\\Anaconda2\\lib\\site-packages\\networkx\\generators\\stochastic.py:56: UserWarning: zero out-degree for node Michael Lumb\n",
      "  warnings.warn('zero out-degree for node %s' % u)\n",
      "C:\\Users\\abhna\\Anaconda2\\lib\\site-packages\\networkx\\generators\\stochastic.py:56: UserWarning: zero out-degree for node lexandr Gladkiy\n",
      "  warnings.warn('zero out-degree for node %s' % u)\n",
      "C:\\Users\\abhna\\Anaconda2\\lib\\site-packages\\networkx\\generators\\stochastic.py:56: UserWarning: zero out-degree for node Bakaye Traor\n",
      "  warnings.warn('zero out-degree for node %s' % u)\n",
      "C:\\Users\\abhna\\Anaconda2\\lib\\site-packages\\networkx\\generators\\stochastic.py:56: UserWarning: zero out-degree for node Adnan Januzaj\n",
      "  warnings.warn('zero out-degree for node %s' % u)\n",
      "C:\\Users\\abhna\\Anaconda2\\lib\\site-packages\\networkx\\generators\\stochastic.py:56: UserWarning: zero out-degree for node ristian Rodrguez\n",
      "  warnings.warn('zero out-degree for node %s' % u)\n",
      "C:\\Users\\abhna\\Anaconda2\\lib\\site-packages\\networkx\\generators\\stochastic.py:56: UserWarning: zero out-degree for node Barak Itzhaki\n",
      "  warnings.warn('zero out-degree for node %s' % u)\n",
      "C:\\Users\\abhna\\Anaconda2\\lib\\site-packages\\networkx\\generators\\stochastic.py:56: UserWarning: zero out-degree for node Jamie Vardy\n",
      "  warnings.warn('zero out-degree for node %s' % u)\n",
      "C:\\Users\\abhna\\Anaconda2\\lib\\site-packages\\networkx\\generators\\stochastic.py:56: UserWarning: zero out-degree for node Nico Elvedi\n",
      "  warnings.warn('zero out-degree for node %s' % u)\n",
      "C:\\Users\\abhna\\Anaconda2\\lib\\site-packages\\networkx\\generators\\stochastic.py:56: UserWarning: zero out-degree for node Leigh Griffiths\n",
      "  warnings.warn('zero out-degree for node %s' % u)\n",
      "C:\\Users\\abhna\\Anaconda2\\lib\\site-packages\\networkx\\generators\\stochastic.py:56: UserWarning: zero out-degree for node nolo Gabbiadini\n",
      "  warnings.warn('zero out-degree for node %s' % u)\n",
      "C:\\Users\\abhna\\Anaconda2\\lib\\site-packages\\networkx\\generators\\stochastic.py:56: UserWarning: zero out-degree for node Julian Draxler\n",
      "  warnings.warn('zero out-degree for node %s' % u)\n",
      "C:\\Users\\abhna\\Anaconda2\\lib\\site-packages\\networkx\\generators\\stochastic.py:56: UserWarning: zero out-degree for node Ionu? Rada\n",
      "  warnings.warn('zero out-degree for node %s' % u)\n",
      "C:\\Users\\abhna\\Anaconda2\\lib\\site-packages\\networkx\\generators\\stochastic.py:56: UserWarning: zero out-degree for node Loc Rmy\n",
      "  warnings.warn('zero out-degree for node %s' % u)\n",
      "C:\\Users\\abhna\\Anaconda2\\lib\\site-packages\\networkx\\generators\\stochastic.py:56: UserWarning: zero out-degree for node natoliy Tymoshchuk\n",
      "  warnings.warn('zero out-degree for node %s' % u)\n",
      "C:\\Users\\abhna\\Anaconda2\\lib\\site-packages\\networkx\\generators\\stochastic.py:56: UserWarning: zero out-degree for node artn Demichelis\n",
      "  warnings.warn('zero out-degree for node %s' % u)\n"
     ]
    }
   ],
   "source": [
    "# Build Graphs and get Centralities\n",
    "playergraphdata = {}\n",
    "playerdata = {}\n",
    "teamdata = {}\n",
    "count = 0\n",
    "edgedict = {}\n",
    "for x in playerdict:\n",
    "    playergraphdata[x] = []\n",
    "    playerdata[x] = {}\n",
    "    playerdata[x]['totals'] = np.zeros((1,4))\n",
    "    playerdata[x]['length'] = 0\n",
    "\n",
    "for x in buildgraphs:\n",
    "    G = nx.DiGraph()\n",
    "    timepl = {}\n",
    "    mrank = {}\n",
    "    orank = {}\n",
    "    for a in buildgraphs[x] :\n",
    "#         if G.has_edge(a[0],a[1]):\n",
    "#             G[a[0]][a[1]]['weight']+=int(a[2])\n",
    "#             edgedict[(a[0],a[1])] +=1\n",
    "#         else :\n",
    "        G.add_edge(a[0],a[1],weight=int(a[2]))\n",
    "#             edgedict[(a[0],a[1])] =1\n",
    "        count+=int(a[2])\n",
    "        timepl[a[0]] = int(a[5])\n",
    "        mrank[a[0]] = int(a[3])\n",
    "        orank[a[0]] = int(a[4])\n",
    "        my_team = a[6]\n",
    "    pgc = nx.pagerank(G)\n",
    "    closec = nx.closeness_centrality(G)\n",
    "    betweenc = nx.betweenness_centrality(G)\n",
    "    players = G.nodes()\n",
    "#     adj = nx.to_numpy_matrix(G)\n",
    "#     model = NMF(n_components=4)\n",
    "#     W = model.fit_transform(adj)\n",
    "#     teamf = NMF(n_components=1)\n",
    "#     teamf.fit(adj)\n",
    "#     features = list(teamf.components_[0])[:14]\n",
    "#     print len(features)\n",
    "#     if len(features)<14 :\n",
    "#         while len(features)<14:\n",
    "#             features.extend([0])\n",
    "#         print \"After Correction\", len(features)\n",
    "    for m in range(len(players)) :\n",
    "        playergraphdata[players[m]].append((pgc[players[m]],closec[players[m]],betweenc[players[m]],timepl[players[m]],mrank[players[m]],orank[players[m]]))\n",
    "        \n",
    "#         playerdata[players[m]]['totals'] = np.add(playerdata[players[m]]['totals'],W[m])\n",
    "#         playerdata[players[m]]['length']+=1\n",
    "#     if my_team in teamdata :\n",
    "#         teamdata[my_team]['features'] = np.add(teamdata[my_team]['features'],features)\n",
    "#         teamdata[my_team]['length'] +=1\n",
    "#     else :\n",
    "#         teamdata[my_team] = {}\n",
    "#         teamdata[my_team]['features'] = np.add(np.zeros((1,14)),features)\n",
    "#         teamdata[my_team]['length'] =1        "
   ]
  },
  {
   "cell_type": "code",
   "execution_count": 304,
   "metadata": {},
   "outputs": [
    {
     "name": "stderr",
     "output_type": "stream",
     "text": [
      "C:\\Users\\abhna\\Anaconda2\\lib\\site-packages\\ipykernel\\__main__.py:5: RuntimeWarning: invalid value encountered in divide\n"
     ]
    }
   ],
   "source": [
    "for x in teamdata:\n",
    "    teamdata[x]['features'] = teamdata[x]['features']/teamdata[x]['length']\n",
    "    teamdata[x]['length'] = 1\n",
    "for x in playerdata :\n",
    "    playerdata[x]['totals'] = playerdata[x]['totals']/playerdata[x]['length']\n",
    "    playerdata[x]['length'] = 1"
   ]
  },
  {
   "cell_type": "markdown",
   "metadata": {},
   "source": [
    "## Refined Player Data"
   ]
  },
  {
   "cell_type": "code",
   "execution_count": 33,
   "metadata": {},
   "outputs": [],
   "source": [
    "for x in playergraphdata :\n",
    "    b,c,p = 0,0,0\n",
    "    for a in playergraphdata[x]:\n",
    "        try :\n",
    "            p+= a[0]*1.0*92.0/a[3]\n",
    "            c+= a[1]*1.0*92.0/a[3]\n",
    "            b+= a[2]*1.0*92.0/a[3]\n",
    "        except ZeroDivisionError :\n",
    "            p+= a[0]*1.0*92.0/1.0\n",
    "            c+= a[1]*1.0*92.0/1.0\n",
    "            b+= a[2]*1.0*92.0/1.0\n",
    "    p = p*1.0/len(playergraphdata[x])\n",
    "    c = c*1.0/len(playergraphdata[x])\n",
    "    b = b*1.0/len(playergraphdata[x])\n",
    "    playerdict[x]['pagerank'] = p\n",
    "    playerdict[x]['closeness'] = c\n",
    "    playerdict[x]['betweeness'] = b"
   ]
  },
  {
   "cell_type": "code",
   "execution_count": 35,
   "metadata": {},
   "outputs": [
    {
     "name": "stdout",
     "output_type": "stream",
     "text": [
      "[(0.08738117395574765, 1.0, 0.0, 94, 3, 5), (0.12321290592165778, 1.0, 0.0, 94, 3, 10), (0.10670174686653369, 1.0, 0.0, 94, 27, 4), (0.08191913208878229, 1.0, 0.0, 95, 27, 4), (0.09624530843944411, 1.0, 0.0, 93, 27, 4), (0.10303486048196261, 1.0, 0.0, 93, 2, 22), (0.10635742037831687, 1.0, 0.0, 95, 3, 47), (0.07614321940360068, 1.0, 0.0, 96, 1, 9), (0.11598645017806959, 1.0, 0.0, 95, 3, 12), (0.07771574643458783, 1.0, 0.0, 94, 2, 30), (0.10440394868404522, 1.0, 0.0, 90, 3, 51), (0.08249506391724423, 1.0, 0.0, 96, 3, 4), (0.11059975294194807, 1.0, 0.0, 92, 2, 11), (0.1027740354060679, 1.0, 0.0, 94, 1, 62), (0.1293571873215685, 1.0, 0.0, 94, 3, 5), (0.11866182350123007, 1.0, 0.0, 92, 3, 47), (0.08003076586947525, 1.0, 0.0, 94, 2, 7), (0.07902662208866665, 1.0, 0.0, 94, 1, 58), (0.10693037417311767, 1.0, 0.0, 95, 3, 18), (0.030514411291768705, 1.0, 0.0, 37, 1, 9), (0.06703038208259171, 1.0, 0.0, 46, 27, 4), (0.08202303558048367, 1.0, 0.0, 94, 3, 100), (0.08505538908161939, 1.0, 0.0, 95, 1, 58), (0.0937788155466496, 1.0, 0.0, 96, 1, 62), (0.1040756570652846, 1.0, 0.0, 100, 3, 100), (0.09561057035252771, 1.0, 0.0, 93, 3, 12), (0.1314108013578303, 1.0, 0.0, 93, 3, 10), (0.037439627641363334, 1.0, 0.0, 32, 27, 4), (0.08988782151611313, 1.0, 0.0, 91, 3, 100), (0.1401410947190021, 1.0, 0.0, 96, 3, 51), (0.09295229216947203, 1.0, 0.0, 96, 2, 7), (0.1422374479685924, 1.0, 0.0, 97, 3, 4), (0.11598206994205469, 1.0, 0.0, 93, 2, 11), (0.08466698434990308, 1.0, 0.0, 93, 2, 22)]\n",
      "{'closeness': 1.1070858166775097, 'height': 5.583333333333333, 'pagerank': 0.09973258861607952, 'Medium PC': 967, 'position': ['Forward'], 'Long PA': 138, 'Short PC': 618, 'Long PC': 100, 'Short PA': 779, 'betweeness': 0.0, 'Medium PA': 1157}\n"
     ]
    }
   ],
   "source": [
    "print playergraphdata['Lionel Messi']\n",
    "print playerdict['Lionel Messi']"
   ]
  },
  {
   "cell_type": "code",
   "execution_count": 184,
   "metadata": {},
   "outputs": [],
   "source": [
    "degree_sequence=sorted(nx.degree(G).values(),reverse=True) # degree sequence"
   ]
  },
  {
   "cell_type": "code",
   "execution_count": 216,
   "metadata": {},
   "outputs": [
    {
     "data": {
      "image/png": "[encoded data removed]",
      "text/plain": [
       "<matplotlib.figure.Figure at 0x2f1d2438>"
      ]
     },
     "metadata": {},
     "output_type": "display_data"
    }
   ],
   "source": [
    "helpplot = {}\n",
    "for x in degree_sequence :\n",
    "    if x in helpplot:\n",
    "        helpplot[x]+=1\n",
    "    else :\n",
    "        helpplot[x]=1\n",
    "lists = sorted(helpplot.items())\n",
    "x, y = zip(*lists)\n",
    "plt.ylabel('Number of Players')\n",
    "plt.xlabel('In Degree + Out Degree')\n",
    "plt.title('Power Law!')\n",
    "plt.loglog(x,y,'ro')\n",
    "plt.show()"
   ]
  },
  {
   "cell_type": "code",
   "execution_count": 317,
   "metadata": {},
   "outputs": [
    {
     "data": {
      "text/plain": [
       "56776"
      ]
     },
     "execution_count": 317,
     "metadata": {},
     "output_type": "execute_result"
    }
   ],
   "source": [
    "G.number_of_edges()"
   ]
  },
  {
   "cell_type": "code",
   "execution_count": 318,
   "metadata": {},
   "outputs": [
    {
     "name": "stderr",
     "output_type": "stream",
     "text": [
      "C:\\Users\\abhna\\Anaconda2\\lib\\site-packages\\networkx\\generators\\stochastic.py:56: UserWarning: zero out-degree for node Marvin Schulz\n",
      "  warnings.warn('zero out-degree for node %s' % u)\n",
      "C:\\Users\\abhna\\Anaconda2\\lib\\site-packages\\networkx\\generators\\stochastic.py:56: UserWarning: zero out-degree for node ksim Kanunnikov\n",
      "  warnings.warn('zero out-degree for node %s' % u)\n",
      "C:\\Users\\abhna\\Anaconda2\\lib\\site-packages\\networkx\\generators\\stochastic.py:56: UserWarning: zero out-degree for node Anders Christiansen\n",
      "  warnings.warn('zero out-degree for node %s' % u)\n",
      "C:\\Users\\abhna\\Anaconda2\\lib\\site-packages\\networkx\\generators\\stochastic.py:56: UserWarning: zero out-degree for node Georg Margreitter\n",
      "  warnings.warn('zero out-degree for node %s' % u)\n",
      "C:\\Users\\abhna\\Anaconda2\\lib\\site-packages\\networkx\\generators\\stochastic.py:56: UserWarning: zero out-degree for node orten Nordstrand\n",
      "  warnings.warn('zero out-degree for node %s' % u)\n"
     ]
    }
   ],
   "source": [
    "page = nx.pagerank(G)\n",
    "bet = nx.betweenness_centrality(G)\n",
    "close = nx.closeness_centrality(G)\n",
    "for x in playerdict:\n",
    "    playerdict[x]['pagerank'] = page[x]\n",
    "    playerdict[x]['closeness'] = close[x]\n",
    "    playerdict[x]['betweeness'] = bet[x]"
   ]
  },
  {
   "cell_type": "code",
   "execution_count": 195,
   "metadata": {},
   "outputs": [
    {
     "name": "stdout",
     "output_type": "stream",
     "text": [
      "1590\n"
     ]
    }
   ],
   "source": [
    "player = G.nodes()\n",
    "adj = nx.to_numpy_matrix(G)\n",
    "ind = player.index('Lionel Messi')"
   ]
  },
  {
   "cell_type": "code",
   "execution_count": 320,
   "metadata": {},
   "outputs": [],
   "source": [
    "adj = nx.to_numpy_matrix(G)\n",
    "model = NMF(n_components=4)\n",
    "W = model.fit_transform(adj)"
   ]
  },
  {
   "cell_type": "code",
   "execution_count": 321,
   "metadata": {},
   "outputs": [],
   "source": [
    "count = 0\n",
    "for x in player:\n",
    "    playerdict[x]['features'] = list(W[count])\n",
    "    count+=1"
   ]
  },
  {
   "cell_type": "code",
   "execution_count": 322,
   "metadata": {},
   "outputs": [
    {
     "data": {
      "text/plain": [
       "{'Long PA': 138,\n",
       " 'Long PC': 100,\n",
       " 'Medium PA': 1157,\n",
       " 'Medium PC': 967,\n",
       " 'Short PA': 779,\n",
       " 'Short PC': 618,\n",
       " 'betweeness': 0.0021951010540888893,\n",
       " 'closeness': 0.2874423951343643,\n",
       " 'features': [0.0, 0.0, 1.7683824814036708, 0.0],\n",
       " 'height': 5.583333333333333,\n",
       " 'pagerank': 0.0012244714603758483,\n",
       " 'position': ['Forward']}"
      ]
     },
     "execution_count": 322,
     "metadata": {},
     "output_type": "execute_result"
    }
   ],
   "source": [
    "playerdict['Lionel Messi']"
   ]
  },
  {
   "cell_type": "code",
   "execution_count": 329,
   "metadata": {},
   "outputs": [],
   "source": [
    "okay = KMeans(n_clusters=10)\n",
    "okay = okay.fit_predict(W)"
   ]
  },
  {
   "cell_type": "code",
   "execution_count": 330,
   "metadata": {},
   "outputs": [],
   "source": [
    "clubbings = {}\n",
    "for x in range(len(player)):\n",
    "    if okay[x] in clubbings :\n",
    "        name = player[x]\n",
    "        clubbings[okay[x]].append(name)\n",
    "    else :\n",
    "        clubbings[okay[x]] = []"
   ]
  },
  {
   "cell_type": "code",
   "execution_count": 331,
   "metadata": {},
   "outputs": [
    {
     "name": "stdout",
     "output_type": "stream",
     "text": [
      "1935\n",
      "0\n",
      "0\n",
      "16\n",
      "10\n",
      "85\n",
      "22\n",
      "23\n",
      "56\n",
      "21\n"
     ]
    }
   ],
   "source": [
    "for x in clubbings:\n",
    "    print len(clubbings[x])"
   ]
  },
  {
   "cell_type": "code",
   "execution_count": 310,
   "metadata": {},
   "outputs": [],
   "source": [
    "# for x in clubbings :\n",
    "#     print len(clubbings[x])"
   ]
  },
  {
   "cell_type": "code",
   "execution_count": 347,
   "metadata": {},
   "outputs": [
    {
     "name": "stdout",
     "output_type": "stream",
     "text": [
      "[u'Aleksei Evseev', u'Rachid Ghezzal', u'dwig Augustinsson', u'Mauricio Isla', u'Kurt Zouma', u'Natanael', u'Bjrn Engels', u'Mathias Jrgensen', u'Wilfrid Kaptoum', u'Ryan Bertrand', u'hristian Clemens', u'Josip Drmic', u'heslav Shevchuk', u'cheslav Malafeev', u'ha? Kucharczyk', u'ariano Ferreira', u'Matz Sels', u'Olexandr Kucher', u'Moritz Leitner', u'Gastn Pereiro', u'Emre olak', u'erick Aubameyang', u'ikhail Gordeichuk', u'Camora', u'Thomas', u'Helton', u'italiy Buyalskiy', u'Aldo Kalulu', u'Tomas Simkovic', u'Lazar Markovi?', u'Vadis Odjidja', u'ksandr Gatskan', u'Luka Djordjevi?', u'athieu Valbuena', u'Timmy Simons', u'Praxitelis Vouros', u'Georgi Zhukov', u'David Fuster', u'ackson Martinez', u'Maciej Rybus', u'Jordan Ferri', u'Carlos Vela', u'Hamit Alt?ntop', u'Alexis Snchez', u'Jlio Baptista', u'Christian Maggio', u'Youri Tielemans', u'Claudio Pizarro', u'Roberto Pereyra', u'Robin Olsen', u'Iasmin Latovlevici', u'Ryan Mendes', u'lambos Lykogiannis', u'Leigh Griffiths', u'Jes', u'Domagoj Antoli?', u'Mikel Arteta', u'Yann Sommer', u'ihail Alexandrov', u'Frantiek Rajtoral', u'Lucas Andersen', u'ssine Cadamuro', u'Thomas Kaminski', u'Maksim Bordachev', u'Balzs Megyeri', u'Mitchell Langerak', u'Sergio Canales', u'olbeinn Sigthrsson', u'Tolgay Arslan', u'Valter Birsa', u'Tobias Sana', u'Jonathan Viera', u'ndr Shovkovskiy', u'?ukasz Szuka?a', u'Andrey Arshavin', u'Yaya Tour', u'Petr ?ech', u'ndrija ivkovi?', u'O?uzhan zyakup', u'Lic', u'Olexandr Rybka', u'Yacine Brahimi', u'Bibras Natcho', u'Hans Vanaken', u'Rai Vloet', u'Gerard Gumbau', u'Guillaume Gillet', u'Miranda', u'Laurent Koscielny', u'Georgi Milanov', u'Eden Hazard', u' Luis Palomino', u'mar Elabdellaoui', u'Jonathan Ligali', u'merick Aubameyang', u'Vladimr Weiss', u'Lucas Hernndez', u'Georgi Schennikov', u'Giorgios Samaras', u'Marvin Pourie', u'Christian Atsu', u'Mossor', u'John Terry', u'Sebastian Jung', u'urent Koscielny', u'Luuk de Jong', u'Alessandro Florenzi', u'recht Dejaegere', u'Willy', u'Michal ?uri', u'Kolo Tour', u'ladlen Yurchenko', u'Luca Marrone', u'Taras Mikhalik', u'Fedor Chalov', u'Jack Wilshere', u'Jeff Schlupp', u'leksandar Dragovi?', u'Daniel Georgievski', u'bastian Giovinco', u'Tom Rogic', u'Jess Navas', u'William Kvist', u'Micha? Pazdan', u'Nicolae Stanciu', u'Lucas Biglia', u'rlos Strandberg', u'Alex Telles', u'Jrmy Morel', u'Sebastian Giovinco', u'Mark Gundelach', u'Kri rnason', u'Frank Lampard', u'Marco Ruben', u'Weligton', u'Ruben Loftus-Cheek', u'vo Campanharo', u'Ahmed Musa', u'Piotr Zieli?ski', u'Steven Zuber', u'omas Kristensen', u'Claudemir', u'Juan Quintero', u'oussef Toutouh', u'Hugo Viana', u'Olivier Deschacht', u'Schweinsteiger', u'Willian', u'Robin Knoche', u'smane Dembl', u'Seydou Keita', u'Tobias Strobl', u'Artem Gromov', u'ranco Vzquez', u'sandar Prijovic', u'Henri Bedimo', u'Bas Dost', u'Ricardo van Rhijn', u'enneth Vermeer', u'Sven Kums', u'illiam Vainqueur', u'Lucho Gonzlez', u'Ayd?n Y?lmaz', u'lexandre Lacazette', u'manuele Giaccherini', u'Mirko Vu?ini?', u'rzegorz Krychowiak', u'Ciprian T?t?ru?anu', u'Chris Smalling', u'teven Bergwijn', u'Fabian Delph', u'sim Zhavnerchik', u'unior Kabananga', u'Hiroshi Kiyotake', u'Hctor Moreno', u'Otvio', u'gnjen Vukojevi?', u'Nicolas Pareja', u'Vasyl Kobin', u'Ilya Aleksievich', u'ssandro Florenzi', u'Marvin Martin', u'Massimo Bruno', u'Tanat Nuserbayev', u'Abdou Diallo', u'rikzhan Muzhikov', u'Maksim Grigoryev', u'stantin Troyanov', u'Jos Gay', u'Marek Hamk', u'Allan', u'Johan Wiland', u'Marcos Rojo', u'Seb', u'Franz Brorsson', u'Christian Noboa', u'Pablo Contreras', u'Ante ?ori?', u'Idrissa Gueye', u'Lisandro Lpez', u'Aurlien Chedjou', u' Antonio Reyes', u'Nemanja Milunovi?', u'Roger Caas', u'Scott Sinclair', u'Derlis Gonzlez', u'Fabri', u'Steeven Langil', u'ikkel Beckmann', u'abio Quagliarella', u'Igor Stasevich', u'Alfred Finnbogason', u'Aleksandar Kolarov', u'ola Maksimovi?', u'Jardel', u'Cristian Zaccardo', u'Santiago Arias', u'Marco van Ginkel', u'Benjamin Stambouli', u'Juan Insaurralde', u'Benito Raman', u'Gonzalo Higuan', u'Radamel Falcao', u'Jn Gregu', u'Olexandr Yakovenko', u'Ruud Vormer', u'Daniel Schwaab', u'Kasper Hmlinen', u'Gatan Charbonnier', u'Anton Kanibolotskiy', u'Rben Micael', u'Lesley de Sa', u'Koen Casteels', u'Jos Antonio Reyes', u'Fred', u'Rben Vezo', u'icolas Isimat-Mirin', u'ke van der Hoorn', u'yp Kozhamberdy', u'Giorgos Samaras', u'arco van Ginkel', u'Rasmus Elm', u'Ederson', u'Sidney Sam', u'Jel Veltman', u'Wanderson', u'Ivo Pinto', u'Neto', u'uel ngel Moy', u'Hctor Bellern', u'stavo Campanharo', u'Rodrigo', u'gei Ignashevich', u'thony Limbombe', u'masz Jod?owiec', u'Guilherme', u'hancel Mbemba', u'Jack Rodwell', u'Anderson', u'Milan Petrela', u'Ivan Perii?', u'Nicolai Jrgensen', u'Ivan Ordets', u'Viktor Kovalenko', u'homas Kaminski', u'Dion Cools', u'Nosa Igiebor', u'Alan Dzagoev', u'ander Fransson', u'Edoardo Soleri', u'Clment Grenier', u'Paolo De Ceglie', u'Miralem Sulejmani', u'Joshua John', u'Rui Pedro', u'Luis Surez', u'Enzo Perz', u'Jores Okore', u'Jrmy Toulalan', u'Viktor Vasin', u'Gastn Sauro', u'Miguel Lopes', u'Vitali Gaiduchik', u'Aleksandr Hleb', u'Rami Gershon', u'Jesper Hansen', u'Lassad Nouioui', u'allum McGregor', u'Milan Borjan', u'Anthony Limbombe', u'Diogo Jota', u'Roel Brouwers', u'Rafael Cabral', u'Miguel Layn', u'Roland Juhsz', u'Abzal Beysebekov', u'Callum McGregor', u'Jan Oblak', u'elechi Iheanacho', u'Koke', u'Fernando Llorente', u'Danny Welbeck', u'Almamy Tour', u'not Trmoulinas', u'Valre Germain', u'Taras Stepanenko', u'Kenedy', u'rio Fernandes', u'Mathieu Valbuena', u'Jrmy Taravel', u'Patrick Herrmann', u'Antoine Griezmann', u'hristian Pulii?', u'Evandro', u'Mitchell Weiser', u'Aleksandr Gatskan', u'mitri Likhtarovich', u'Giannelli Imbula', u'Alessandro Matri', u'Niko Kranj?ar', u'ver Banega', u'Andr Silva', u'vlo Orikhovskiy', u'Carlos Delgado', u'Marlon', u'Matteo Darmian', u'hen Konoplyanka', u'Nlson Semedo', u'Santi Mina', u'ccardo Montolivo', u'Diego Perotti', u'Vicente Guaita', u'Bruno Csar', u'gnacio Camacho', u'Ervin Zukanovic', u'sandar Kolarov', u'Jos Mara Gimnez', u'Andr Andr', u'evin De Bruyne', u'erico Fernndez', u'Aly Cissokho', u'Roberto', u'Luis Hernandez', u'am Ben Yedder', u'Wilfred Ndidi', u'Ignacio Camacho', u'Thomas Meunier', u'Demarai Gray', u'Marin Leovac', u\"es-Kvin N'Koudou\", u'Filipe Lus', u'Antunes', u'Tlio De Melo', u'Per Mertesacker', u'Hilton', u'Jonny Evans', u'Emmanuel Ebou', u'Nolan Roux', u'Ricardo', u'Pablo Piatti', u'Luca Antonini', u'Hugo Lloris', u'Serikzhan Muzhikov', u'Yegor Filipenko', u'Fabinho', u'Leonardo Bittencourt', u'Oscar', u'Pablo Osvaldo', u'Jrgen Locadia', u'Marin ?iovsk', u'Didier Drogba', u'Olof Mellberg', u'Mikkel Beckmann', u'Jos ngel', u'ernando Muslera', u'Josip imuni?', u'Gabriel', u'Barak Itzhaki', u\"M'Baye Niang\", u'Kostas Fortounis', u'Kalifa Traor', u'ndro Domnguez', u'Kevin Gameiro', u'eban Cambiasso', u'Ari', u'Robert Huth', u'Philippe Mexs', u'gusto Fernndez', u'Thomas Kristensen', u'axime Lestienne', u'Mario Musa', u'Lorenzo Insigne', u'homas Meunier', u'Remko Pasveer', u'Vladislav Stoyanov', u'Hector Herrera', u'Yoshimar Yotn', u'Renato Steffen', u'Joe Ledley', u'Pajtim Kasami', u'Fernando Torres', u'abriel Boschilia', u'Simon Kroon', u'nik Vestergaard', u'Timou Bakayoko', u'Santi Cazorla', u'Vlad Chiriche?', u'Aubameyang', u'Maksim Zhavnerchik', u'Fabian Koch', u'Adam Maher', u'Alphonse Arola', u'Christian Trsch', u'Z Luis', u'Markus Suttner', u'Aleksandr Golovin', u'Nemanja Nikoli?', u'irkir Bjarnason', u'Claudio Beauvue', u'Gelson Martins', u'ximilian Wagener', u'Jozo imunovi?', u'itchell Langerak', u'Federico Piovaccari', u'Keylor Navas', u'Carlos Kameni', u'gan Schneiderlin', u'Yuri Zhirkov', u'rkadiusz Malarz', u'ndrija Pavlovi?', u'James Forrest', u'Marc Janko', u'Sergio Snchez', u'Milo Joji?', u'Foxi Kthvoama', u'Gil Vermouth', u'Pato', u'andru Bourceanu', u'Abdel El Kaoutari', u'Christoph Kramer', u'Lucas Mendes', u'Arkadiusz Malarz', u'Emmanuel Emenike', u'leksandr Kokorin', u'Suleyman Camara', u'Wesley Sneijder', u'Diego Alves', u'Nanitamo Ikone', u'emanja Nikoli?', u'Eduardo Salvio', u'Nenad Eri?', u'Andreas Beck', u'Guillaume Hoarau', u'Ideye Brown', u'Milan Bievac', u'Nicols Otamendi', u'andr Ryazantsev', u'ackson Martnez', u'tas Aguirregaray', u'Valentin Stocker', u'Josu', u'Lerin Duarte', u'sandr Bukharov', u'Benot Trmoulinas', u'Sergei Pesyakov', u'uctar Diakhaby', u'Vladlen Yurchenko', u'lphonse Arola', u'Rben Neves', u'Tony Watt', u'Ryan Giggs', u'Felipe Melo', u'Umut Bulut', u'Denis Terentyev', u'Mrcio Azevedo', u'Oxlade-Chamberlain', u'Danijel Milicevic', u'Felice Piccolo', u'njamin Stambouli', u'Andr Ayew', u'omagoj Pavi?i?', u'Engin Baytar', u'Andriy Yarmolenko', u'emanja Maksimovi?', u'James Milner', u'Oguzhan Aynaoglu', u'Nana Asare', u'Vasili Berezutski', u'Ilsinho', u'Stevan Joveti?', u'Jonas Martin', u'Corentin Jean', u'onalo Guedes', u'Younes Belhanda', u'Kalidou Koulibaly', u'Rben Amorim', u'Luke Shaw', u'Harvey Barnes', u'Dmytro Chygrynskiy', u'Facundo Ferreyra', u'Jos Holebas', u'Diego Benaglio', u'iyar Bilyaletdinov', u'ntelis Kapetanos', u'Marouane Fellaini', u'arkus Rosenberg', u'eydou Doumbia', u'Leandro Greco', u'leksandr Ryazantsev', u'heslav Karavaev', u'scar Cardozo', u'Matas Surez', u'Olexandr Gladkiy', u'leymane Camara', u'Charles Arnguiz', u'axime Gonalons', u'ickal Landreau', u'Pa Konate', u'Javier Saviola', u'Davy Prpper', u'Juan Mata', u'ul Baba Rahman', u'Svetoslav Dyakov', u'Renato Neto', u'thony Vanden Borre', u'Carlos Garca', u'ucas Hernndez', u'Kirill Kombarov', u'Cosmin Mo?i', u'nnick Carrasco', u'Ludovic Butelle', u'man Eremenko', u'ernando Llorente', u'Luciano Narsingh', u'Kirill Panchenko', u'B?aszczykowski', u'anny Drinkwater', u'imofei Kalachev', u'Welliton', u'rgan De Sanctis', u'Maksim Kanunnikov', u'Jnior Moraes', u'Michael Carrick', u'icklas Pedersen', u'Steeve Elana', u'Marko Simi?', u'Marvin Schulz', u'leksandr Volodko', u'os Papadopoulos', u'Jelle Vossen', u'ksandar Mitrovi?', u'Vasile Maftei', u'ohamed Elneny', u'Dennis Praet', u'wadwo Asamoah', u'asili Berezutski', u'hristopher Nkunku', u'r Gordyushenko', u'andre Lacazette', u'Markel Bergara', u'Djamel Abdoun', u'lexandr Shovkovskiy', u'Ricardo Quaresma', u'Kostas Mitroglou', u'bastien Squillaci', u'Riyad Mahrez', u'Anthony Annan', u'Andrea Petagna', u'Tom Rosick', u'Lars Bender', u'Aleksandr Kozlov', u'Lucas Vzquez', u'Sren Christensen', u'Pizzi', u'Elseid Hysaj', u\"Nicolas N'Koulou\", u'rancis Coquelin', u'Fabian Schr', u'Steven Bergwijn', u'Branko Ili?', u'orentin Tolisso', u'Wojciech Szcz?sny', u'Ronny Rodelin', u'Tal Ben Haim', u'Andr Horta', u\"Steven N'Zonzi\", u'Karim At-Fana', u'Nir Biton', u'Ramires', u'Denys Garmash', u'sar Azpilicueta', u'tephan El Shaarawy', u'anuel Ortlechner', u'Federico Peluso', u'Marko Stankovic', u'adamel Falcao', u'Niklas Moisander', u'Pablo Sarabia', u'Arda Turan', u'Daniel Sturridge', u\"Samuel Eto'o\", u'Luka Jovi?', u'Kak', u'Oriol Romeu', u'gnar Sigurdsson', u'Raheem Sterling', u'acundo Ferreyra', u'Benot Cheyrou', u'onzalo Higuan', u'Yannick Carrasco', u'Milan Jovanovi?', u'Nick Powell', u'Konstantin Bazelyuk', u'athieu Debuchy', u'Fabio Quagliarella', u'Rhodolfo', u'Calum Chambers', u'Nemanja Vidi?', u'Bryan Carrasco', u'Wesley', u'Kyle Walker', u'rick Aubameyang', u'iego Buonanotte', u'Presnel Kimpembe', u'iam Henderson', u'Petar Stojanovi?', u'Davy Klaassen', u'Yekta Kurtulu?', u'Kelvin Wilson', u'Daniele Bonera', u'osakhare Igiebor', u'Kaan Ayhan', u'Rodrigo De Paul', u'Jos Luis Palomino', u'nrikh Mkhitaryan', u'Marko Pjaca', u'Hernanes', u'Kenneth Saief', u'Taison', u'Dimitris Siovas', u'Nicolas Isimat-Mirin', u'Stijn Schaars', u'Sal guez', u'Duda', u'Mathieu Debuchy', u'ha? Kopczy?ski', u'Dor Peretz', u'Dudu', u'Nacho Monreal', u'Joshua Onomah', u'Baumgartlinger', u'Jernade Meade', u'Jakub Rze?niczak', u'Andr Hahn', u'Felipe', u'Lacina Traor', u'Michael Lang', u'Silvestre Varela', u'Roman Weidenfeller', u'Filip Djuri?i?', u'Matas Kranevitter', u'lvaro Negredo', u'Markus Rosenberg', u'Paul Pogba', u'Bertrand Traor', u'Sammir', u'Enoch Kofi Adu', u'icardo Rodriguez', u'Edin Deko', u'Vitinha', u'Tom Hbschman', u'Vitinho', u'olas Isimat-Mirin', u'hkodran Mustafi', u'Derk Boerrigter', u'Arlind Ajeti', u'Omar Elabdellaoui', u'Stefan Mitrovi?', u'Fernando Canesin', u'Radosav Petrovi?', u'Guillermo Varela', u'Guido Carrillo', u'Eaut Zubikarai', u'Nico Schulz', u'icolai Jrgensen', u'ksim Kanunnikov', u'abriel Mercado', u'Ljubomir Fejsa', u'ouleymane Diawara', u'Moses Simon', u'Andr-Pierre Gignac', u'Florent Balmont', u'Vitaliy Buyalskiy', u'sandar Dragovic', u'Andr Carrillo', u'Melgarejo', u'Kaja Rogulj', u'thias Jrgensen', u'aximilian Arnold', u'Jackson Martnez', u'Kirill Nababkin', u'Dieudonn Mbokani', u'Ola John', u'Esteban Granero', u'Ivan Runje', u'Stefan Reinartz', u'Vincent Aboubakar', u'on Schildenfeld', u'Sergei Chernik', u'Nicols Gaitn', u'Gal Clichy', u'Michael Krohn-Dehli', u'Denys Dedechko', u'Vctor Ruiz', u'Tom Jun', u'Rui Patrcio', u'anuele Giaccherini', u'Abdoulay Diaby', u'Javier Hernndez', u'Mattia De Sciglio', u'nton Tinnerholm', u'Marc Cardona', u'amed Elyounoussi', u'Adrian Popa', u'Emir Spahi?', u'enrik Mkhitaryan', u'cardo van Rhijn', u'Julian Brandt', u'Amadou Diawara', u'dislav Stoyanov', u'Kaspars Dubra', u'rouane Chamakh', u'Riccardo Montolivo', u'rancesco Acerbi', u'Jemerson', u'Patrick Roberts', u'Leandro Tatu', u'Taulant Xhaka', u'ren Christensen', u'Scott Brown', u'Antonio Rdiger', u'Javier Ros', u'no Andr Coelho', u'Sylvain Armand', u'Borna Sosa', u'Urby Emanuelson', u'Keisuke Honda', u'iorgios Samaras', u'Vclav Prochzka', u'Ryo Miyaichi', u'Jos Manuel Jurado', u'Kasper Schmeichel', u'hael Krohn-Dehli', u'Nelson Valdez', u'Valeriy Fedorchuk', u'Yuval Shpungin', u'Rio Mavuba', u'Gkhan Gnl', u'Andr Almeida', u'Josip Pivari?', u'Jose Rodriguez', u'Vieirinha', u'Victor Lindelf', u'Daniel Braaten', u'Artur Yusupov', u'aras Stepanenko', u'Rio Ferdinand', u'Mariano Ferreira', u'Fernando Muslera', u'ancisco Soares', u'Avraham Rikan', u'Wes Morgan', u'Jonas', u'Tal Ben Haim I', u'Tom Hgli', u'David Silva', u'Dele Alli', u'etar Stojanovi?', u'Jorrit Hendrix', u'Igor Pikalkin', u'Phil Jones', u'Juanfran', u'Ignazio Abate', u'ksandr Erokhin', u'irzhan Kulbekov', u'Maciej D?browski', u'Carlos Martnez', u'Daniel Congr', u'Matas Aguirregaray', u'Lasse Schne', u'Marek Bako', u'Gkhan Zan', u'Kanu', u'Simone Padoin', u'Ganso', u'Stefano Sturaro', u'Lars Stindl', u'Jan Vertonghen', u'ndreas Samaris', u'mitri Mozolevski', u'Adrian emper', u'Roman Eremenko', u'equiel Schelotto', u'Ivan Krstanovi?', u'Cristian T?nase', u'Sergio Agero', u'Danny Simpson', u'han Dzholchiyev', u'Olivier Giroud', u'David Ospina', u'avier Hernndez', u'Romulo', u'Thulani Serero', u'lexandru Bourceanu', u'Rafik Djebbour', u'Arijan Ademi', u'Andy King', u'Olcan Ad?n', u'Birkir Bjarnason', u'Roy Carroll', u'Vladimir Granat', u'Dominik Kohr', u'Francis Coquelin', u'ntus Wernbloom', u'Aleksandr Bukharov', u'Christoffer Remmer', u'rhiy Sydorchuk', u'stantin Bazelyuk', u'Yevhen Khacheridi', u'Marcelinho', u'Jeroen Zoet', u'Filipe Augusto', u'Paco Alccer', u'Marko Panteli?', u'rgei Ignashevich', u'Aleksandar Dragovic', u'Alaixys Romao', u'ksandr Golovin', u'Luc Castaignos', u'sier Illarramendi', u'Fabian Johnson', u'anny Amankwaa', u'Maxime Lestienne', u'ksei Berezutski', u'Henrik Mkhitaryan', u'Dino Peri?', u'At?n Nukan', u'Dmitri Mozolevski', u'Hakan alhano?lu', u'dreas Cornelius', u'Jean Marie Dongou', u'Julian Korb', u'Sandro Ramrez', u'Ramazan zcan', u'kub Czerwi?ski', u'Ron-Robert Zieler', u'Kim Kllstrm', u'Sofiane Feghouli', u'William Carvalho', u'tis Papastathopoulos', u'offroy Serey Di', u'Tranquillo Barnetta', u'Roman Kienast', u'harles Arnguiz', u'Tonel', u'Arabi Hilal Soudani', u'Dani Estrada', u'Marcin Wasilewski', u'n-Kvin Augustin', u'Jonathan Tah', u'Joaqun', u'prian T?t?ru?anu', u'Benjamin Verbi?', u'Michael Olaitan', u'nuele Giaccherini', u'aurens De Bock', u'Tom Kalas', u'osuha Guilavogui', u'Vasilis Torosidis', u'Martin Pospil', u'Francisco Soares', u'erico Santander', u'Konstantin Zyryanov', u'Javi Fuego', u'Daniel Carrio', u'Andr Castro', u'Imanol Agirretxe', u'Aderlan Santos', u'Lucas Orbn', u'Omri Ben Harush', u'xandre Lacazette', u'Andreas Samaris', u'Silvio Proto', u'Diego Buonanotte', u'Antonio Valencia', u'Jan Kova?k', u'cent Aboubakar', u'Nabil Ghilas', u'Mihai Pintilii', u'Joshua Brenet', u'Eren Derdiyok', u'Ognjen Vukojevi?', u'Pablo Armero', u'Kassim Abdallah', u'Danijel Subai?', u'Ionu? Rada', u'Steed Malbranque', u'Daniel Royer', u'Domagoj Vida', u'Sergei Ignashevich', u'oque Santa Cruz', u'Iago Falqu', u'Joe Hart', u'Papadopoulos', u'Simone Zaza', u'bzal Beysebekov', u'Asmir Begovi?', u'Maxwel Cornet', u'Geoffrey Jourdren', u'Naldo', u'Jlio Csar', u'Jano Ananidze', u'Filip Mladenovi?', u'Jos Gomes', u'Gerard Deulofeu', u'Chinedu Obasi', u'Scott Wootton', u'David Limbersk', u'Mariano Daz', u'Guilherme Siqueira', u'Bryan Ruiz', u'Josuha Guilavogui', u'lexander Bttner', u'Tino Costa', u'Yordan Minev', u'oxi Kthvoama', u'Beto', u'Moussa Doumbia', u'Jefferson', u'Serge Gnabry', u'Daniel Kol?', u'tor Nilsson Lindelf', u'David Rozehnal', u'Bruno Henrique', u'Efe Ambrose', u'Benot Pedretti', u'iampaolo Pazzini', u'David Degen', u'Marcelo Brozovi?', u'hen Makarenko', u'Patrick Mtiliga', u'Denis Cheryshev', u'Roberto Hilbert', u'Victor Wanyama', u'Pierre Bengtsson', u'Brecht Dejaegere', u'Joaqun Correa', u'Junior Kabananga', u'ario Manduki?', u'Corentin Tolisso', u'leksandr Kerzhakov', u'n-Prince Boateng', u'Sebastin Coates', u'Lucian Filip', u'Kolodziejczak', u'Memphis Depay', u'Daley Blind', u'Stefan Kiessling', u'Ral Garca', u'Artur', u'Jackson Martinez', u'Gianni Bruno', u'Craig Gordon', u'Andriy Dykan', u'Mohamed Salah', u'Ryan Babel', u'Andra porar', u'Dmitri Likhtarovich', u'Ibrahima Traor', u'Ronald Vargas', u'Albert Riera', u'Vito Mannone', u'Siem de Jong', u'Kamal Issah', u'Artem Milevskiy', u'Kai Havertz', u'Eyong Enoh', u'Franco Vzquez', u'Sardar Azmoun', u'mmanuel Ebou', u'Rubn Pardo', u'Danny da Costa', u'Filipe Luis', u'Geoffroy Serey Di', u'Jeffrey Bruma', u'alum Chambers', u'Carlo', u'Andreas Cornelius', u'ristian Gamboa', u'Mathieu Flamini', u'Son Heung-Min', u'Marco Streller', u'Jos Callejn', u'Steven Defour', u'toliy Tymoshchuk', u'Xabi Prieto', u'Chancel Mbemba', u'?ukasz Teodorczyk', u'leymane Diawara', u'Nicolas Nkoulou', u'Michael Lumb', u'Aleksandr Erokhin', u'Douglo', u'David Zurutuza', u'Dzenis Burnic', u'leksandrs Cau?a', u'Nabil Fekir', u'eldos Akhmetov', u'artosz Bereszy?ski', u'anja Maksimovi?', u'enjamin Verbi?', u'Daniel Aranzubia', u'Manuel Iturra', u'enis Terentyev', u'by Alderweireld', u'Tom Ho?ava', u'Ivan Ivanov', u'Lus Alberto', u'Boli Bolingoli', u'Aleksandrs Cau?a', u'Eliseu', u'Joel Pohjanpalo', u'Thibault Moulin', u'Marc Albrighton', u'Saa Bjelanovi?', u'Danny Rose', u'Adam Matthews', u'xandr Yakovenko', u'anat Nuserbayev', u'Atiba Hutchinson', u'Arkadiusz Milik', u'Armin Hodi?', u'Laurent Pionnier', u'Morgan De Sanctis', u'Julian Schieber', u'hristian Eriksen', u'Lucas Piazn', u'Paulo Ferreira', u'Benjamin Mendy', u'ranislav Ivanovi?', u'Camilo Ziga', u'Roman Vasilyuk', u'Anthony Martial', u'Goran Pandev', u'Saeid Ezatolahi', u'oussa Sissoko', u'Mike van der Hoorn', u'der', u'Harry Kane', u'Fernandinho', u'Jamel Saihi', u'Ragnar Sigurdsson', u'Evgeni Postnikov', u'Emiliano Insa', u'Ciprian Marica', u'driy Yarmolenko', u'Eytan Tibi', u'Augusto Fernndez', u'Dmitri Kombarov', u'Luk Hejda', u'Custdio', u'Victor Moses', u'Lukas Podolski', u'Serey Die', u'teusz Wieteska', u'Bruno Martins Indi', u'tuart Armstrong', u'Jos Rondn', u'Timofei Kalachev', u'kub B?aszczykowski', u'aume Domnech', u'Dejan Radonji?', u'Agon Mehmeti', u'Tom Wgner', u'leksei Berezutski', u'Tom Vaclk', u'Leandro Putaro', u'David Villa', u'ksandar Lukovi?', u'Predrag Rajkovi?', u'liver Torres', u'Emiliano Insua', u'Nani', u'Timm Klose', u'Fanendo Adi', u'Andrei Gorbunov', u'oby Alderweireld', u'Pablo Aimar', u'ictor Wanyama', u'Felipe Gedoz', u'Luis Ibez', u'Mat Koz?ik', u'Domagoj Pavi?i?', u'Manuel Ortlechner', u'Jo Inge Berget', u'Nikola Djurdji?', u'Eri? Durm', u'Samir Nasri', u'Alexandru M??el', u'Andrei Prepeli??', u'Nemanja Mati?', u'Andr Schrrle', u'Marco Amelia', u'Rasmus Bengtsson', u'nk Acheampong', u'Lukman Haruna', u'Kris Commons', u'Anthony Lopes', u'Evgeni Makeev', u\"Delvin N'Dinga\", u'Rafael', u'oman Weidenfeller', u'Gonalo Santos', u'ernando Torres', u'Manuel da Costa', u'Diego Lpez', u'Christian Abbiati', u'Mikael Lustig', u'Ben Chilwell', u'Sergi Darder', u'Kevin Trapp', u'Aleksei Rios', u'Mykyta Burda', u'Jon Gaztaaga', u'Leon Goretzka', u'ers Christiansen', u'Rafa Silva', u'Soudani', u'Dimitri Payet', u'kan alhano?lu', u'Paulo Machado', u'Ezequiel Schelotto', u'Fedor Kudryashov', u'ig Augustinsson', u'Paul Prvulescu', u'Heung-Min Son', u'Danny Drinkwater', u'aurzhan Dzholchiyev', u'Garry Bocaly', u'Aleksei Schetkin', u'Ruben Semedo', u'lexandr Gladkiy', u'Bojan Krki?', u'Lszl Sepsi', u'Andriy Pyatov', u'Yaroslav Rakitskiy', u'Francisco Portillo', u'Leonardo Sigali', u'Dmitri Poloz', u'Bryan Cristante', u'nuel Mammana', u'Bart Ramselaar', u'ristian Rodrguez', u'ngel Correa', u'Dany Nounkeu', u'Felipe Pardo', u'Viktor Fischer', u'Maksym Malyshev', u'oine Griezmann', u'Costel Pantilimon', u'Toms Rincn', u'oussa Dembl', u'Gatan Bong', u'han Benalouane', u'Paul Karacan', u'Andrs Guardado', u'oussa Doumbia', u'Jordan Ayew', u'Carlos Strandberg', u'Paul Scholes', u'aleri Kazaishvili', u'Seluk ?nan', u'Edgar Olekhnovich', u'Mohamed Elneny', u'Jordy Gaspar', u'Diniyar Bilyaletdinov', u'Jaume Domnech', u'artn Demichelis', u'Giampaolo Pazzini', u'Vladimir Rodi?', u'Seba', u'Abdul Baba Rahman', u'ck Aubameyang', u'R?zvan Ra?', u'Kerim Frei', u'evhen Khacheridi', u'Thomas Delaney', u'Alberto Bota', u'ebastin Coates', u'Nikola Maksimovi?', u'olas Godemche', u'-Emerick Aubameyang', u'Chori Castro', u'Adrien Silva', u'nus Wolff Eikrem', u'Paulo Dybala', u'Adrin Ramos', u'Lucas Sasha', u'Adrin Calello', u'udonn Mbokani', u'ymen Abdennour', u'Hernn Perz', u'Nicolas Anelka', u'Admir Mehmedi', u'iroslav Radovi?', u'Clment Lenglet', u'boubakar Keita', u'Fernando Gago', u'Nikola Moro', u'Mario Surez', u'Eran Zahavi', u'Mara Gimnez', u'-Kvin Augustin', u'Igor Kireev', u'Thomas Matton', u'enjamin Mendy', u'Anders Christiansen', u'Talisca', u'Yohan Benalouane', u'Claudiu Ke?er', u'Simon Poulsen', u'Florin Gardo?', u'Nikolai Signevich', u'Vladimir Bystrov', u\"Fabrice N'Sakala\", u'tan Charbonnier', u'Cyriac', u'lexander Fransson', u'Artem Dzyuba', u'Fatos Beqiraj', u'Radja Nainggolan', u'Marko Devi?', u'ergio Escudero', u'Radim ?eznk', u'Nikita Korzun', u'Valon Behrami', u'Rafael Carioca', u'liaquim Mangala', u'Semih Kaya', u'yacheslav Shevchuk', u'Enzo Prez', u'Sabri Sar?o?lu', u'Tony Jantschke', u'Micah Richards', u'Abou Diaby', u'Cenk Tosun', u'Mario Yepes', u'ardo Quaresma', u'Alex Grimaldo', u'Rubin Okotie', u'ranois Modesto', u'de-Chamberlain', u'Brandon Mechele', u'm Hbschman', u'Rob Holding', u'Leandro Salino', u'ncent Aboubakar', u'Ivn Marcano', u'David Albelda', u'stian Ramsebner', u'Nicolas Godemche', u'Nicolai Boilesen', u'Roberto Soldado', u'Christin Bolaos', u'derico Piovaccari', u'Pavel Dolgov', u'Luiz Adriano', u'las Isimat-Mirin', u'Mario Ti?inovi?', u'Jonathan Tinhan', u'ascal Lundqvist', u'andar Dragovi?', u'ngelo Henrquez', u'Claudio Bravo', u'Vincent Kompany', u'Lionel Carole', u'Jens Hegeler', u'Francesco Totti', u'Matas Delgado', u' Mara Gimnez', u'lexandr Zinchenko', u'Fabian Sporkslede', u'der Balanta', u'Wendell', u'Andrea Raggi', u'Antonio Adn', u'Marat Izmailov', u'Nordin Amrabat', u'Javi Manquillo', u'Miguel Britos', u'ostas Mitroglou', u'ou Yanga-Mbiwa', u'runo Martins Indi', u'John Stones', u'Emanuel Herrera', u'Jorginho', u'Gary Hooper', u'Luca Zuffi', u'leksandr Golovin', u'Federico Macheda', u'Salomon Kalou', u'ndreas Christensen', u'Philipp Hosiner', u'Thorgan Hazard', u'Aleksei Berezutski', u'orgi Schennikov', u'ambou Yatabar', u'Tiago', u'Angelo Ogbonna', u'Duje ?op', u'Marvin Zeegelaar', u'Patrick Twumasi', u'Adrian Cristea', u'lexandru Chipciu', u'rby Emanuelson', u'ampalys Mendy', u'Jody Lukoki', u'issam Ben Yedder', u'Cristian Rodrguez', u'Aleksei Ionov', u'Franois Modesto', u'Ante Rukavina', u'Cheikhou Kouyat', u'Jannik Vestergaard', u'Thomas Murg', u'Moise Kean', u'Pantelis Kapetanos', u'Christopher Nkunku', u'Ivan Cavaleiro', u'bastian Boenisch', u'Manolo Gabbiadini', u'iralem Sulejmani', u'Moussa Sissoko', u'Sergio Rico', u'uciano Narsingh', u'Bernard', u'Zoumana Camara', u'as-Jan Huntelaar', u'randon Mechele', u'Alexandre Lacazette', u'Mikhail Sivakov', u'os Mara Gimnez', u'audio Marchisio', u'ojciech Szcz?sny', u'Joshua King', u'aroslav Rakitskiy', u'the Kolodziejczak', u'Evgeni Yablonski', u'David Beckham', u'reas Christensen', u'James Holland', u'Theo Walcott', u'Anthony Mounier', u'Kalifa Coulibaly', u'Giovanni Sio', u'Aleksandr Pavlov', u'Micha? Kucharczyk', u'annick Carrasco', u'Morten Nordstrand', u'Granit Xhaka', u'Sebastian Boenisch', u'Raffael', u'ed Elyounoussi', u'Dmitri Bogaev', u'Guillermo Celis', u'Aiden McGeady', u'Nolito', u'Juanmi', u'Cris', u'Oleh Gusev', u'Moussa Dembl', u'Carlos Martins', u'Zoran Toi?', u'Juan Muoz', u'Artem Kontsevoi', u'ristoph Metzelder', u'Andr', u'Seydou Doumbia', u'aksim Bordachev', u'Christian Eriksen', u'Modou Sougou', u'Csar Navas', u'Erik Johansson', u'Salih Uan', u'Max Kruse', u'Izet Hajrovic', u'Nilsson Lindelf', u'Mrio Felgueiras', u'Marco Estrada', u'Juan Manuel Iturbe', u'Rrik Gslason', u'Kylian Mbapp', u'Jos Izquierdo', u'Marek Such', u'Roque Santa Cruz', u'dm Szalai', u'Thomas Foket', u'Paulo Oliveira', u'Tomasz Jod?owiec', u'xandr Shovkovskiy', u'Antonio Barragn', u'eksandr Yurevich', u'Olcay ?ahan', u'Diego Costa', u'Fraser Forster', u'Ander Herrera', u'Mickal Landreau', u'ny Vanden Borre', u'Mihail Alexandrov', u'r-Pierre Gignac', u'Djibril Sidib', u'Blerim Dzemaili', u'Ionu? Neagu', u'Yevhen Makarenko', u'Victor Andrade', u'Daniele De Rossi', u'Lcio', u'Ral Albiol', u'Dentinho', u'unior Fernandes', u'Jamie Vardy', u'aouzi Ghoulam', u'Filip Benkovi?', u'Elas', u'Maicon', u'Danny Hoesen', u'sz Bereszy?ski', u'Gkhan Inler', u'Viorel Nicoar?', u'ordon Schildenfeld', u'Pavel Horvth', u'Giulio Donati', u'Serhiy Sydorchuk', u'illiam Carvalho', u'Matija Nastasi?', u'Luiso', u'Srdan Spiridonovic', u'adja Nainggolan', u'Gervinho', u'cas Hernndez', u'Ante Pulji?', u'Kevin De Bruyne', u'Miguel Veloso', u'Caner Erkin', u'Hvard Nordtveit', u'akan alhano?lu', u'Vitali Rodionov', u'Thibaut Courtois', u'Hlder Barbosa', u'Ben Hamer', u'Omar Gaber', u'David de Gea', u'Thomas Lemar', u'Jesse Lingard', u'hristoph Kramer', u'domenico Mesto', u'Bernd Leno', u'John Utaka', u'Eden Ben Basat', u'Arthur Masuaku', u'Franco Cervi', u'Aleksandr Karnitski', u'Darijo Srna', u'Rod Fanni', u'icols Otamendi', u'Marcelo Daz', u'Ceyhun Glselam', u'Gareth Barry', u'Davide Call', u'Maximilian Arnold', u'rantiek Rajtoral', u'Artem Radkov', u'Fernando Varela', u'lian Baumgartlinger', u'arvin Zeegelaar', u'Robinho', u'Necip Uysal', u'Gorka Elustondo', u'Laurent Depoitre', u'Shlomy Azulay', u'John Obi Mikel', u'Aaron Ramsey', u'Kasper Lorentzen', u'Cicinho', u'Eliaquim Mangala', u'Robbie Kruse', u'Artur Rudko', u'tefan Kiessling', u'Florian Thauvin', u'aksym Malyshev', u'Tal Ben Chaim', u'etoslav Dyakov', u'Maxym Koval', u'athieu Deplagne', u\"Kvin N'Doram\", u'Gabriel Mercado', u'ciano Narsingh', u'Sergei Bryzgalov', u'Kostas Manolas', u'Ben Davies', u'vier Hernndez', u'Alan', u'nolo Gabbiadini', u'anquillo Barnetta', u'Toby Alderweireld', u'bi Hilal Soudani', u'Thomas Partey', u'lberto de la Bella', u'Ralf Fhrmann', u'Ismaily', u'Giannis Maniatis', u'asper Lorentzen', u'aniel Schwaab', u'Miha Mevlja', u'Dor Miha', u'Carcela-Gonzlez', u'os Manuel Pinto', u'Henrik Kildentoft', u'Emre Can', u'Duvn Zapata', u'Paulo Vincius', u'Christian Clemens', u'Serhiy Rybalka', u'Ousmane Dembl', u'Vitolo', u'Harry Winks', u'Lucas Prez', u'Viktor Tsygankov', u'Lucas Tousart', u'Oscar Wendt', u'Jetro Willems', u'Mahmoud Dahoud', u'Nir Bitton', u'smus Bengtsson', u'Georg Margreitter', u'hristin Bolaos', u'Kelechi Iheanacho', u'Cristin Zapata', u'Aleksandar Prijovic', u'Faouzi Ghoulam', u'Artem Kravets', u'Marcel Schfer', u'Benjamin Henrichs', u'lechi Iheanacho', u'evhen Konoplyanka', u'Mouctar Diakhaby', u'eoffrey Jourdren', u'Vincent Janssen', u'Jakub Czerwi?ski', u'hristian Poulsen', u'u Yanga-Mbiwa', u'Nabil Dirar', u'Francesco Acerbi', u'Junior Fernandes', u'bos Lykogiannis', u'Mario Balotelli', u'Anton Tinnerholm', u'Luciano Vietto', u'Nicolai Stokholm', u'Bakaye Traor', u'Daniel Caligiuri', u'Iigo Martnez', u'ade-Chamberlain', u'Marko Baa', u'gar Olekhnovich', u'Coke', u'Kenneth Vermeer', u'orten Nordstrand', u'Dmitri Shomko', u'eorgi Schennikov', u'Virgil Misidjan', u'ime Vrsaljko', u'per Schmeichel', u'gorz Krychowiak', u'Tomas imkovi?', u'Jason Denayer', u'Ricardo Esgaio', u'Mikhail Gordeichuk', u'hen Khacheridi', u'Andreas Laudrup', u'Tin Jedvaj', u'Martn Demichelis', u'Dries Mertens', u'Renan Bressan', u'Maxime Gonalons', u'asmin Latovlevici', u'incent Janssen', u'Yasin ztekin', u'Florian Mader', u'Teemu Pukki', u'Cad', u'Charlie Mulgrew', u'heikhou Kouyat', u'Iker Casillas', u'ton Kanibolotskiy', u'an Manuel Iturbe', u'Joel Campbell', u'Tosin Adarabioyo', u'Igor Akinfeev', u'Youns Belhanda', u'Nigel de Jong', u'Nikola Mitrovi?', u'aheem Sterling', u'Joo Moutinho', u'Mousa Dembl', u'ksandar Kolarov', u'Gabriel Mure?an', u'agnus Wolff Eikrem', u'Burak Y?lmaz', u'Guillermo Molins', u'Lo Baptisto', u'Gary Cahill', u'Robin van Persie', u'Romain Pitau', u'ikael Antonsson', u'Vassilis Torossidis', u'arcin Wasilewski', u'Kieran Gibbs', u'Vicente Iborra', u'William Vainqueur', u'emanja Milunovi?', u'Munir El Haddadi', u'Jonathan Caf', u'Dmitri Baga', u'tas Kranevitter', u'Klber', u'Sinan Gms', u'Philipp Degen', u'Ariel Ibagaza', u'Tom De Sutter', u'atrick Herrmann', u'Gianluigi Buffon', u'Frank Acheampong', u'adwo Asamoah', u'Roman Brki', u'Lars Jacobsen', u'Massimo Ambrosini', u'Rasmus Falk', u'Alen Halilovi?', u'Eduardo', u'aurent Koscielny', u'Juan Cmara', u'Bram Nuytinck', u'njamin Henrichs', u'Kevin Volland', u'Erik Sviatchenko', u'Jos Rodrguez', u'Leonardo Ulloa', u'Danilo Barbosa', u'Bojan Kneevi?', u'ou Bakayoko', u'Mark Gonzlez', u'uzhan zyakup', u'sandr Kerzhakov', u'Esteban Cambiasso', u'livier Deschacht', u'Igor Plastun', u'Roman Hubnk', u'Jonas Hofmann', u'Lima', u'Diego', u'Ciro Immobile', u'Leroy San', u'Andrija Pavlovi?', u'Kay Voser', u'Alexandru Chipciu', u'Yaya Sanogo', u'madou Diawara', u'Adam Hlouek', u' Manuel Jurado', u'Laurent Bonnart', u'Wayne Rooney', u'Slvio', u'Stefan Savi?', u'eas Christensen', u'Joris Marveaux', u'Valeri Kazaishvili', u'laudio Marchisio', u'Oguchi Onyewu', u'eksandr Karnitski', u'Rafael Mir', u'arouane Fellaini', u'Diego Godn', u'Amido Bald', u'Denis Polyakov', u'ichael Parkhurst', u'Elderson', u'Santos', u'Marko Rog', u\"ghan O'Connell\", u'red Finnbogason', u'Shinji Okazaki', u'clav Prochzka', u'Danilo Silva', u'eyhun Glselam', u'Kamil Glik', u'Eric Dier', u'Daniel Hoesen', u'Ashley Cole', u'Antonio Nocerino', u'toine Griezmann', u'Nuno Andr Coelho', u'Ricardo Carvalho', u'Leon Bailey', u'Ivan Kelava', u'Islam Slimani', u'apou Yanga-Mbiwa', u'Stefano Denswil', u'Danny Amankwaa', u'Alex Iwobi', u'mer Toprak', u'Thomas Rogne', u'Virgil van Dijk', u'oman Eremenko', u'Alexander Bttner', u'Juan Cuadrado', u'Fabian Frei', u'Mark Schwarzer', u'oslan Dzhanaev', u'Anthony Stokes', u'Andreas Pereira', u'iandomenico Mesto', u'iorgos Samaras', u'kub Rze?niczak', u'Aleksandar Mitrovi?', u'Jon Ansotegi', u'ederico Macheda', u'rcin Wasilewski', u'Adrin Lpez', u'Heinz Lindner', u'Eray ??can', u'ndrs Guardado', u'Jess Corona', u'Michael Parkhurst', u'Lior Refaelov', u'os?aw Cierzniak', u'Kevin Kampl', u'Kvin Constant', u'Carl Medjani', u'Taye Taiwo', u'Anicet Abel', u'Beram Kayal', u'Jes Rodrguez', u'Daniel Amartey', u'Mario Gomez', u'Mackay-Steven', u'Bernardo Silva', u'Vctor Valds', u'Ricardo Costa', u'lvaro Domnguez', u'Andrea Poli', u'han Lichtsteiner', u'Jan Kirchhoff', u'Martin Angha', u'Nicols Fedor', u'minik Livakovi?', u'Gonalo Guedes', u'Adnan Januzaj', u'Hatem Ben Arfa', u'Loc Rmy', u'ouleymane Camara', u'ntonio Barragn', u'Branislav Ivanovi?', u'Stanislav Tecl', u'Philipp Wollscheid', u'Demy de Zeeuw', u'Cristian Tello', u'Franck Bria', u'aniel Georgievski', u'Nicklas Bendtner', u'Artem Rebrov', u'Micha? Kopczy?ski', u'Diogo Valente', u'Peter Ankersen', u'Maxi Pereira', u'Marlos', u'Sergio Escudero', u'einn Sigthrsson', u'emir Gordyushenko', u'dor Kudryashov', u'Wilfried Bony', u'Javi Garca', u'Laurens De Bock', u'Steve Mandanda', u'Demba Ba', u'Kevin Wimmer', u'Tim Hoogland', u'Dominik Livakovi?', u'Drissa Diakit', u'Nico Elvedi', u'Saber Khalifa', u'ederico Santander', u'Jasper Cillessen', u'Erdal Rakip', u'Dorus de Vries', u'Benoit Poulain', u'?ukasz Fabia?ski', u'Rafael Bastos', u'Csar Azpilicueta', u'Karim Bellarabi', u'Nikos Vergos', u'Erik Lamela', u'Toms Pina', u'Tiemou Bakayoko', u'andr Zinchenko', u'Adil Rami', u'Gabriel Iancu', u'Ivan Fioli?', u'Emre Mor', u'Bilal Kisa', u'ounes Belhanda', u'Sulley Muntari', u'Maksim Volodko', u'Christian Poulsen', u'kasz Teodorczyk', u'Mario itum', u'Djamel Mesbah', u'Darren Fletcher', u'Eli Dasa', u'tiba Hutchinson', u'Enoch Adu', u'Willy Boly', u'Tom Cleverley', u'Ral Jimnez', u'Rmy Cabella', u'Willy Caballero', u'Joleon Lescott', u'Eliazer Dasa', u'Stuart Armstrong', u'Marco Andreolli', u'ders Lindegaard', u'Youssef Toutouh', u'teed Malbranque', u'Aymen Abdennour', u'ahmoud Dahoud', u'Luka Milivojevi?', u'Adama Traor', u'Gabi', u'riy Yarmolenko', u'Joo Pereira', u'iktor Tsygankov', u'Emir Dilaver', u'orthwick-Jackson', u'Ashley Young', u'Gabriel Boschilia', u'ilherme Siqueira', u'Quim', u\"Kvin N'Koudou\", u'Shkodran Mustafi', u'Simon Rolfes', u'Kieran Trippier', u'Miku', u'smane Dembele', u'Federico Fernndez', u'Jess Gmez', u'Artem Besedin', u'icolas Nkoulou', u'Jos Sosa', u'Johan Elmander', u'Pablo Maffeo', u'homas Delaney', u'ykola Morozyuk', u'Adel Taarabt', u'Jordy De Wijs', u'erhiy Sydorchuk', u'Amer Gojak', u'rik Sviatchenko', u'assilis Torossidis', u'Mohamed Sissoko', u'Duko Toi?', u'Haris Seferovic', u'Abdul Rahman Baba', u'Emilio Izaguirre', u'Pepe Reina', u'Daniel Parejo', u'incent Kompany', u'Marin Ani?i?', u'Andriy Bogdanov', u'Abdoulaye Ba', u'manuel Emenike', u'Kieran Tierney', u'Hakan Balta', u'Andr Santos', u'hilipp Wollscheid', u'ssimo Ambrosini', u'Carl Jenkinson', u'xlade-Chamberlain', u'Ruben Amorim', u'Gal Alberman', u'Mrio Fernandes', u'Igor Vetokele', u'Soslan Dzhanaev', u'Pablo Zabaleta', u'Behrang Safari', u'Rmi Cabella', u'Kasper Kusk', u'Patric Gabarron', u'Miroslav Radovi?', u'lejandro Domnguez', u'Andy Najar', u'Bacary Sagna', u'Alberto de la Bella', u'icardo van Rhijn', u'Aleksandr Volodko', u'Sambou Yatabar', u'Bruma', u'Bakary Kon', u'Tolga Zengin', u'Mikhail Kerzhakov', u'Pontus Wernbloom', u'uillaume Hoarau', u'Djamal', u'Aleksandr Kokorin', u'Mikel Gonzlez', u'Oscar Lewicki', u'Hernni', u'Sacha Kljestan', u'Joo Cancelo', u'Morgan Schneiderlin', u'Felipe Carvalho', u'Tal Ben Haim II', u'Alex Teixeira', u'Andr Ramalho', u'alidou Koulibaly', u'Nicols Pareja']\n"
     ]
    }
   ],
   "source": [
    "print clubbings[0]"
   ]
  },
  {
   "cell_type": "code",
   "execution_count": 316,
   "metadata": {},
   "outputs": [],
   "source": [
    "for x in edgedict:\n",
    "    G[x[0]][x[1]]['weight'] = G[x[0]][x[1]]['weight']/int(edgedict[x])"
   ]
  },
  {
   "cell_type": "code",
   "execution_count": null,
   "metadata": {},
   "outputs": [],
   "source": []
  },
  {
   "cell_type": "code",
   "execution_count": null,
   "metadata": {
    "collapsed": true
   },
   "outputs": [],
   "source": []
  }
 ],
 "metadata": {
  "kernelspec": {
   "display_name": "Python 2",
   "language": "python",
   "name": "python2"
  },
  "language_info": {
   "codemirror_mode": {
    "name": "ipython",
    "version": 2
   },
   "file_extension": ".py",
   "mimetype": "text/x-python",
   "name": "python",
   "nbconvert_exporter": "python",
   "pygments_lexer": "ipython2",
   "version": "2.7.13"
  }
 },
 "nbformat": 4,
 "nbformat_minor": 2
}
