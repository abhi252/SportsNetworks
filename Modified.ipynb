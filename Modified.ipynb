{
 "cells": [
  {
   "cell_type": "markdown",
   "metadata": {},
   "source": [
    "# Football Passing Distributions  - Champions League 2012,2013,2015,2016"
   ]
  },
  {
   "cell_type": "code",
   "execution_count": 1,
   "metadata": {
    "collapsed": true
   },
   "outputs": [],
   "source": [
    "import networkx as nx\n",
    "import matplotlib.pyplot as plt\n",
    "import csv\n",
    "import re\n",
    "import os\n",
    "from networkx.drawing.nx_agraph import graphviz_layout\n",
    "from bs4 import BeautifulSoup\n",
    "import urllib2\n",
    "import pickle\n",
    "from pyPdf import PdfFileWriter, PdfFileReader\n",
    "from collections import defaultdict\n",
    "import numpy as np\n",
    "from sklearn.linear_model import Ridge\n",
    "from sklearn.metrics import mean_squared_error\n",
    "from sklearn.metrics import mean_absolute_error\n",
    "from sklearn.svm import SVR\n",
    "import matplotlib.pyplot as plt\n",
    "from random import shuffle\n",
    "from sklearn.metrics import r2_score\n",
    "from sklearn.ensemble import RandomForestRegressor, GradientBoostingRegressor\n",
    "from sklearn.decomposition import NMF\n",
    "from itertools import chain\n",
    "from sklearn.cluster import KMeans\n",
    "from sklearn.preprocessing import scale"
   ]
  },
  {
   "cell_type": "code",
   "execution_count": null,
   "metadata": {
    "collapsed": true
   },
   "outputs": [],
   "source": [
    "# with open('player.pickle', 'wb') as handle:\n",
    "#     pickle.dump(playerdict, handle, protocol=pickle.HIGHEST_PROTOCOL)"
   ]
  },
  {
   "cell_type": "code",
   "execution_count": 2,
   "metadata": {
    "collapsed": true
   },
   "outputs": [],
   "source": [
    "with open('player.pickle', 'rb') as handle:\n",
    "    playerdict =  pickle.load(handle)"
   ]
  },
  {
   "cell_type": "code",
   "execution_count": 3,
   "metadata": {},
   "outputs": [
    {
     "name": "stdout",
     "output_type": "stream",
     "text": [
      "{'closeness': 1.1070858166775097, 'height': 5.583333333333333, 'pagerank': 0.09973258861607952, 'Medium PC': 967, 'position': ['Forward'], 'Long PA': 138, 'Short PC': 618, 'Long PC': 100, 'Short PA': 779, 'betweeness': 0.0, 'Medium PA': 1157}\n"
     ]
    }
   ],
   "source": [
    "print playerdict['Lionel Messi']"
   ]
  },
  {
   "cell_type": "markdown",
   "metadata": {},
   "source": [
    "## Construct Rankings"
   ]
  },
  {
   "cell_type": "code",
   "execution_count": 4,
   "metadata": {
    "collapsed": true
   },
   "outputs": [],
   "source": [
    "season2012,season2013,season2015,season2016 = defaultdict(),defaultdict(),defaultdict(),defaultdict()\n",
    "csvs = ['2012.csv','2013.csv','2015.csv','2016.csv']\n",
    "for x in csvs :\n",
    "    with open(x,'rb') as csvfile :\n",
    "        reader = csv.reader(csvfile, delimiter=',')\n",
    "        for row in reader :\n",
    "            if x == '2012.csv':\n",
    "                try :\n",
    "                    season2012[row[1]] = int(row[0])\n",
    "                except ValueError :\n",
    "                    pass\n",
    "            elif x == '2013.csv':\n",
    "                try :\n",
    "                    season2013[row[1]] = int(row[0])\n",
    "                except ValueError :\n",
    "                    pass\n",
    "            elif x == '2015.csv':\n",
    "                try :\n",
    "                    season2015[row[1]] = int(row[0])\n",
    "                except ValueError :\n",
    "                    pass\n",
    "            else :\n",
    "                try :\n",
    "                    season2016[row[1]] = int(row[0])\n",
    "                except ValueError:\n",
    "                    pass"
   ]
  },
  {
   "cell_type": "markdown",
   "metadata": {},
   "source": [
    "## Bulding Player Statistics"
   ]
  },
  {
   "cell_type": "markdown",
   "metadata": {},
   "source": [
    "## Constructing the matrix - Baseline Model\n",
    "###  Initial Feature Set to be used for link prediction\n",
    "Player Height, Player Position, Receiver Position, Short Passes Accuracy, Medium Passes Accuracy, Long Passes Accuracy\n",
    "Team Rank, Opposition Team Rank, Home or Away, Receiver Height, Time Player, Receiver Time Played"
   ]
  },
  {
   "cell_type": "code",
   "execution_count": 5,
   "metadata": {
    "collapsed": true
   },
   "outputs": [],
   "source": [
    "def playertype(a,b):\n",
    "    if b in a:\n",
    "        return 1\n",
    "    else :\n",
    "        return 0"
   ]
  },
  {
   "cell_type": "code",
   "execution_count": 60,
   "metadata": {},
   "outputs": [
    {
     "name": "stderr",
     "output_type": "stream",
     "text": [
      "C:\\Users\\abhna\\Anaconda2\\lib\\site-packages\\ipykernel\\__main__.py:31: UnicodeWarning: Unicode equal comparison failed to convert both arguments to Unicode - interpreting them as being unequal\n",
      "C:\\Users\\abhna\\Anaconda2\\lib\\site-packages\\ipykernel\\__main__.py:27: UnicodeWarning: Unicode equal comparison failed to convert both arguments to Unicode - interpreting them as being unequal\n"
     ]
    },
    {
     "name": "stdout",
     "output_type": "stream",
     "text": [
      "2009488_tpdteam0.csv 1 0\n",
      "2009488_tpdteam1.csv 2 210\n",
      "2009489_tpdteam0.csv 3 420\n",
      "2009489_tpdteam1.csv 4 602\n",
      "2009490_tpdteam0.csv 5 812\n",
      "2009490_tpdteam1.csv 6 1022\n",
      "2009491_tpdteam0.csv 7 1232\n",
      "2009491_tpdteam1.csv 8 1442\n",
      "2009492_tpdteam0.csv 9 1652\n",
      "2009492_tpdteam1.csv 10 1862\n",
      "2009493_tpdteam0.csv 11 2072\n",
      "2009493_tpdteam1.csv 12 2254\n",
      "2009494_tpdteam0.csv 13 2464\n",
      "2009494_tpdteam1.csv 14 2674\n",
      "2009496_tpdteam0.csv 15 2884\n",
      "2009496_tpdteam1.csv 16 3094\n",
      "2009497_tpdteam0.csv 17 3304\n",
      "2009497_tpdteam1.csv 18 3514\n",
      "2009498_tpdteam0.csv 19 3724\n",
      "2009498_tpdteam1.csv 20 3934\n",
      "2009499_tpdteam0.csv 21 4144\n",
      "2009499_tpdteam1.csv 22 4354\n",
      "2009500_tpdteam0.csv 23 4564\n",
      "2009500_tpdteam1.csv 24 4774\n",
      "2009501_tpdteam0.csv 25 4984\n",
      "2009501_tpdteam1.csv 26 5194\n",
      "2009502_tpdteam0.csv 27 5404\n",
      "2009502_tpdteam1.csv 28 5614\n",
      "2009503_tpdteam0.csv 29 5796\n",
      "2009503_tpdteam1.csv 30 6006\n",
      "2009504_tpdteam0.csv 31 6216\n",
      "2009504_tpdteam1.csv 32 6426\n",
      "2009505_tpdteam0.csv 33 6636\n",
      "2009505_tpdteam1.csv 34 6846\n",
      "2009506_tpdteam0.csv 35 7042\n",
      "2009506_tpdteam1.csv 36 7252\n",
      "2009507_tpdteam0.csv 37 7462\n",
      "2009507_tpdteam1.csv 38 7672\n",
      "2009508_tpdteam0.csv 39 7882\n",
      "2009508_tpdteam1.csv 40 8064\n",
      "2009509_tpdteam0.csv 41 8274\n",
      "2009509_tpdteam1.csv 42 8484\n",
      "2009510_tpdteam0.csv 43 8694\n",
      "2009510_tpdteam1.csv 44 8904\n",
      "2009511_tpdteam0.csv 45 9114\n",
      "2009511_tpdteam1.csv 46 9324\n",
      "2009512_tpdteam0.csv 47 9534\n",
      "2009512_tpdteam1.csv 48 9744\n",
      "2009513_tpdteam0.csv 49 9900\n",
      "2009513_tpdteam1.csv 50 10110\n",
      "2009514_tpdteam0.csv 51 10292\n",
      "2009514_tpdteam1.csv 52 10502\n",
      "2009515_tpdteam0.csv 53 10712\n",
      "2009515_tpdteam1.csv 54 10922\n",
      "2009516_tpdteam0.csv 55 11132\n",
      "2009516_tpdteam1.csv 56 11342\n",
      "2009517_tpdteam0.csv 57 11552\n",
      "2009517_tpdteam1.csv 58 11762\n",
      "2009518_tpdteam0.csv 59 11944\n",
      "2009518_tpdteam1.csv 60 12154\n",
      "2009519_tpdteam0.csv 61 12336\n",
      "2009519_tpdteam1.csv 62 12546\n",
      "2009520_tpdteam0.csv 63 12756\n",
      "2009520_tpdteam1.csv 64 12966\n",
      "2009521_tpdteam0.csv 65 13122\n",
      "2009521_tpdteam1.csv 66 13332\n",
      "2009522_tpdteam0.csv 67 13542\n",
      "2009522_tpdteam1.csv 68 13752\n",
      "2009523_tpdteam0.csv 69 13962\n",
      "2009523_tpdteam1.csv 70 14172\n",
      "2009524_tpdteam0.csv 71 14382\n",
      "2009524_tpdteam1.csv 72 14592\n",
      "2009525_tpdteam0.csv 73 14774\n",
      "2009525_tpdteam1.csv 74 14984\n",
      "2009526_tpdteam0.csv 75 15166\n",
      "2009526_tpdteam1.csv 76 15348\n",
      "2009527_tpdteam0.csv 77 15558\n",
      "2009527_tpdteam1.csv 78 15768\n",
      "2009528_tpdteam0.csv 79 15950\n",
      "2009528_tpdteam1.csv 80 16160\n",
      "2009529_tpdteam0.csv 81 16370\n",
      "2009529_tpdteam1.csv 82 16552\n",
      "2009530_tpdteam0.csv 83 16734\n",
      "2009530_tpdteam1.csv 84 16944\n",
      "2009531_tpdteam0.csv 85 17154\n",
      "2009531_tpdteam1.csv 86 17364\n",
      "2009532_tpdteam0.csv 87 17574\n",
      "2009532_tpdteam1.csv 88 17784\n",
      "2009533_tpdteam0.csv 89 17994\n",
      "2009533_tpdteam1.csv 90 18176\n",
      "2009534_tpdteam0.csv 91 18386\n",
      "2009534_tpdteam1.csv 92 18596\n",
      "2009535_tpdteam0.csv 93 18806\n",
      "2009535_tpdteam1.csv 94 18988\n",
      "2009536_tpdteam0.csv 95 19198\n",
      "2009536_tpdteam1.csv 96 19408\n",
      "2009537_tpdteam0.csv 97 19618\n",
      "2009537_tpdteam1.csv 98 19800\n",
      "2009538_tpdteam0.csv 99 19956\n",
      "2009538_tpdteam1.csv 100 20166\n",
      "2009539_tpdteam0.csv 101 20376\n",
      "2009539_tpdteam1.csv 102 20586\n",
      "2009540_tpdteam0.csv 103 20796\n",
      "2009540_tpdteam1.csv 104 21006\n",
      "2009541_tpdteam0.csv 105 21216\n",
      "2009541_tpdteam1.csv 106 21398\n",
      "2009542_tpdteam0.csv 107 21608\n",
      "2009542_tpdteam1.csv 108 21818\n",
      "2009543_tpdteam0.csv 109 22028\n",
      "2009543_tpdteam1.csv 110 22238\n",
      "2009544_tpdteam0.csv 111 22448\n",
      "2009544_tpdteam1.csv 112 22658\n",
      "2009545_tpdteam0.csv 113 22868\n",
      "2009545_tpdteam1.csv 114 23078\n",
      "2009546_tpdteam0.csv 115 23288\n",
      "2009546_tpdteam1.csv 116 23484\n",
      "2009547_tpdteam0.csv 117 23666\n",
      "2009547_tpdteam1.csv 118 23876\n",
      "2009548_tpdteam0.csv 119 24086\n",
      "2009548_tpdteam1.csv 120 24268\n",
      "2009549_tpdteam0.csv 121 24478\n",
      "2009549_tpdteam1.csv 122 24688\n",
      "2009550_tpdteam0.csv 123 24898\n",
      "2009550_tpdteam1.csv 124 25108\n",
      "2009551_tpdteam0.csv 125 25318\n",
      "2009551_tpdteam1.csv 126 25528\n",
      "2009552_tpdteam0.csv 127 25738\n",
      "2009552_tpdteam1.csv 128 25948\n",
      "2009553_tpdteam0.csv 129 26158\n",
      "2009553_tpdteam1.csv 130 26368\n",
      "2009554_tpdteam0.csv 131 26578\n",
      "2009554_tpdteam1.csv 132 26788\n",
      "2009555_tpdteam0.csv 133 26998\n",
      "2009555_tpdteam1.csv 134 27208\n",
      "2009556_tpdteam0.csv 135 27418\n",
      "2009556_tpdteam1.csv 136 27587\n",
      "2009557_tpdteam0.csv 137 27797\n",
      "2009557_tpdteam1.csv 138 28007\n",
      "2009558_tpdteam0.csv 139 28217\n",
      "2009558_tpdteam1.csv 140 28427\n",
      "2009559_tpdteam0.csv 141 28637\n",
      "2009559_tpdteam1.csv 142 28847\n",
      "2009560_tpdteam0.csv 143 29057\n",
      "2009560_tpdteam1.csv 144 29267\n",
      "2009561_tpdteam0.csv 145 29477\n",
      "2009561_tpdteam1.csv 146 29687\n",
      "2009562_tpdteam0.csv 147 29869\n",
      "2009562_tpdteam1.csv 148 30079\n",
      "2009563_tpdteam0.csv 149 30289\n",
      "2009563_tpdteam1.csv 150 30499\n",
      "2009564_tpdteam0.csv 151 30709\n",
      "2009564_tpdteam1.csv 152 30919\n",
      "2009565_tpdteam0.csv 153 31129\n",
      "2009565_tpdteam1.csv 154 31339\n",
      "2009566_tpdteam0.csv 155 31549\n",
      "2009566_tpdteam1.csv 156 31759\n",
      "2009567_tpdteam0.csv 157 31969\n",
      "2009567_tpdteam1.csv 158 32179\n",
      "2009568_tpdteam0.csv 159 32389\n",
      "2009568_tpdteam1.csv 160 32571\n",
      "2009569_tpdteam0.csv 161 32753\n",
      "2009569_tpdteam1.csv 162 32963\n",
      "2009570_tpdteam0.csv 163 33173\n",
      "2009570_tpdteam1.csv 164 33383\n",
      "2009571_tpdteam0.csv 165 33593\n",
      "2009571_tpdteam1.csv 166 33803\n",
      "2009572_tpdteam0.csv 167 34013\n",
      "2009572_tpdteam1.csv 168 34223\n",
      "2009573_tpdteam0.csv 169 34433\n",
      "2009573_tpdteam1.csv 170 34643\n",
      "2009574_tpdteam0.csv 171 34799\n",
      "2009574_tpdteam1.csv 172 35009\n",
      "2009575_tpdteam0.csv 173 35219\n",
      "2009575_tpdteam1.csv 174 35401\n",
      "2009577_tpdteam0.csv 175 35611\n",
      "2009577_tpdteam1.csv 176 35821\n",
      "2009578_tpdteam0.csv 177 36031\n",
      "2009578_tpdteam1.csv 178 36241\n",
      "2009579_tpdteam0.csv 179 36451\n",
      "2009579_tpdteam1.csv 180 36661\n",
      "2009580_tpdteam0.csv 181 36843\n",
      "2009580_tpdteam1.csv 182 37053\n",
      "2009581_tpdteam0.csv 183 37235\n",
      "2009581_tpdteam1.csv 184 37445\n",
      "2009582_tpdteam0.csv 185 37655\n",
      "2009582_tpdteam1.csv 186 37865\n",
      "2009583_tpdteam0.csv 187 38075\n",
      "2009583_tpdteam1.csv 188 38285\n",
      "2009584_tpdteam0.csv 189 38495\n",
      "2009584_tpdteam1.csv 190 38705\n",
      "2009585_tpdteam0.csv 191 38887\n",
      "2009585_tpdteam1.csv 192 39097\n",
      "2009586_tpdteam0.csv 193 39307\n",
      "2009586_tpdteam1.csv 194 39517\n",
      "2009587_tpdteam0.csv 195 39727\n",
      "2009587_tpdteam1.csv 196 39937\n",
      "2009588_tpdteam0.csv 197 40147\n",
      "2009588_tpdteam1.csv 198 40329\n",
      "2009589_tpdteam0.csv 199 40539\n",
      "2009589_tpdteam1.csv 200 40721\n",
      "2009590_tpdteam0.csv 201 40903\n",
      "2009590_tpdteam1.csv 202 41085\n",
      "2009591_tpdteam0.csv 203 41267\n",
      "2009591_tpdteam1.csv 204 41477\n",
      "2009592_tpdteam0.csv 205 41687\n",
      "2009592_tpdteam1.csv 206 41897\n",
      "2009593_tpdteam0.csv 207 42107\n",
      "2009593_tpdteam1.csv 208 42317\n",
      "2009594_tpdteam0.csv 209 42527\n",
      "2009594_tpdteam1.csv 210 42737\n",
      "2009595_tpdteam0.csv 211 42947\n",
      "2009595_tpdteam1.csv 212 43157\n",
      "2009596_tpdteam0.csv 213 43367\n",
      "2009596_tpdteam1.csv 214 43577\n",
      "2009597_tpdteam0.csv 215 43787\n",
      "2009597_tpdteam1.csv 216 43997\n",
      "2009598_tpdteam0.csv 217 44207\n",
      "2009598_tpdteam1.csv 218 44389\n",
      "2009599_tpdteam0.csv 219 44571\n",
      "2009599_tpdteam1.csv 220 44781\n",
      "2009600_tpdteam0.csv 221 44963\n",
      "2009600_tpdteam1.csv 222 45173\n",
      "2009601_tpdteam0.csv 223 45383\n",
      "2009601_tpdteam1.csv 224 45593\n",
      "2009602_tpdteam0.csv 225 45803\n",
      "2009602_tpdteam1.csv 226 46013\n",
      "2009603_tpdteam0.csv 227 46223\n",
      "2009603_tpdteam1.csv 228 46433\n",
      "2009604_tpdteam0.csv 229 46643\n",
      "2009604_tpdteam1.csv 230 46853\n",
      "2009605_tpdteam0.csv 231 47063\n",
      "2009605_tpdteam1.csv 232 47273\n",
      "2009606_tpdteam0.csv 233 47483\n",
      "2009606_tpdteam1.csv 234 47693\n",
      "2009607_tpdteam0.csv 235 47903\n",
      "2009607_tpdteam1.csv 236 48113\n",
      "2009608_tpdteam0.csv 237 48323\n",
      "2009608_tpdteam1.csv 238 48533\n",
      "2009609_tpdteam0.csv 239 48743\n",
      "2009609_tpdteam1.csv 240 48953\n",
      "2009610_tpdteam0.csv 241 49109\n",
      "2009610_tpdteam1.csv 242 49319\n",
      "2009611_tpdteam0.csv 243 49529\n",
      "2009611_tpdteam1.csv 244 49739\n",
      "2009612_tpdteam0.csv 245 49949\n",
      "2009612_tpdteam1.csv 246 50131\n",
      "2011759_tpdteam0.csv 247 50313\n",
      "2011759_tpdteam1.csv 248 50523\n",
      "2011760_tpdteam0.csv 249 50733\n",
      "2011760_tpdteam1.csv 250 50943\n",
      "2011761_tpdteam0.csv 251 51153\n",
      "2011761_tpdteam1.csv 252 51363\n",
      "2011762_tpdteam0.csv 253 51545\n",
      "2011762_tpdteam1.csv 254 51755\n",
      "2011763_tpdteam0.csv 255 51965\n",
      "2011763_tpdteam1.csv 256 52175\n",
      "2011764_tpdteam0.csv 257 52385\n",
      "2011764_tpdteam1.csv 258 52595\n",
      "2011765_tpdteam0.csv 259 52805\n",
      "2011765_tpdteam1.csv 260 53015\n",
      "2011766_tpdteam0.csv 261 53225\n",
      "2011766_tpdteam1.csv 262 53435\n",
      "2011767_tpdteam0.csv 263 53645\n",
      "2011767_tpdteam1.csv 264 53855\n",
      "2011768_tpdteam0.csv 265 54065\n",
      "2011768_tpdteam1.csv 266 54275\n",
      "2011769_tpdteam0.csv 267 54485\n",
      "2011769_tpdteam1.csv 268 54695\n",
      "2011770_tpdteam0.csv 269 54905\n",
      "2011770_tpdteam1.csv 270 55115\n",
      "2011771_tpdteam0.csv 271 55325\n",
      "2011771_tpdteam1.csv 272 55535\n",
      "2011772_tpdteam0.csv 273 55745\n",
      "2011772_tpdteam1.csv 274 55955\n",
      "2011773_tpdteam0.csv 275 56165\n",
      "2011773_tpdteam1.csv 276 56375\n",
      "2011774_tpdteam0.csv 277 56585\n",
      "2011774_tpdteam1.csv 278 56795\n",
      "2011775_tpdteam0.csv 279 57005\n",
      "2011775_tpdteam1.csv 280 57215\n",
      "2011776_tpdteam0.csv 281 57397\n",
      "2011776_tpdteam1.csv 282 57607\n",
      "2011777_tpdteam0.csv 283 57817\n",
      "2011777_tpdteam1.csv 284 58027\n",
      "2011778_tpdteam0.csv 285 58237\n",
      "2011778_tpdteam1.csv 286 58447\n",
      "2011779_tpdteam0.csv 287 58657\n",
      "2011779_tpdteam1.csv 288 58867\n",
      "2011780_tpdteam0.csv 289 59077\n",
      "2011780_tpdteam1.csv 290 59233\n",
      "2011781_tpdteam0.csv 291 59443\n",
      "2011781_tpdteam1.csv 292 59653\n",
      "2011782_tpdteam0.csv 293 59863\n"
     ]
    },
    {
     "name": "stdout",
     "output_type": "stream",
     "text": [
      "2011782_tpdteam1.csv 294 60073\n",
      "2011783_tpdteam0.csv 295 60283\n",
      "2011783_tpdteam1.csv 296 60493\n",
      "2011784_tpdteam0.csv 297 60703\n",
      "2011784_tpdteam1.csv 298 60913\n",
      "2011785_tpdteam0.csv 299 61123\n",
      "2011785_tpdteam1.csv 300 61333\n",
      "2011786_tpdteam0.csv 301 61543\n",
      "2011786_tpdteam1.csv 302 61725\n",
      "2011787_tpdteam0.csv 303 61935\n",
      "2011787_tpdteam1.csv 304 62145\n",
      "2011788_tpdteam0.csv 305 62355\n",
      "2011788_tpdteam1.csv 306 62565\n",
      "2011789_tpdteam0.csv 307 62775\n",
      "2011789_tpdteam1.csv 308 62985\n",
      "2011790_tpdteam0.csv 309 63167\n",
      "2011790_tpdteam1.csv 310 63377\n",
      "2011791_tpdteam0.csv 311 63587\n",
      "2011791_tpdteam1.csv 312 63797\n",
      "2011792_tpdteam0.csv 313 64007\n",
      "2011792_tpdteam1.csv 314 64189\n",
      "2011793_tpdteam0.csv 315 64399\n",
      "2011793_tpdteam1.csv 316 64609\n",
      "2011794_tpdteam0.csv 317 64819\n",
      "2011794_tpdteam1.csv 318 65029\n",
      "2011795_tpdteam0.csv 319 65239\n",
      "2011795_tpdteam1.csv 320 65449\n",
      "2011796_tpdteam0.csv 321 65659\n",
      "2011796_tpdteam1.csv 322 65869\n",
      "2011797_tpdteam0.csv 323 66079\n",
      "2011797_tpdteam1.csv 324 66261\n",
      "2011798_tpdteam0.csv 325 66471\n",
      "2011798_tpdteam1.csv 326 66681\n",
      "2011799_tpdteam0.csv 327 66891\n",
      "2011799_tpdteam1.csv 328 67101\n",
      "2011800_tpdteam0.csv 329 67311\n",
      "2011800_tpdteam1.csv 330 67521\n",
      "2011801_tpdteam0.csv 331 67731\n",
      "2011801_tpdteam1.csv 332 67941\n",
      "2011802_tpdteam0.csv 333 68151\n",
      "2011802_tpdteam1.csv 334 68361\n",
      "2011803_tpdteam0.csv 335 68571\n",
      "2011803_tpdteam1.csv 336 68781\n",
      "2011804_tpdteam0.csv 337 68991\n",
      "2011804_tpdteam1.csv 338 69201\n",
      "2011805_tpdteam0.csv 339 69411\n",
      "2011805_tpdteam1.csv 340 69621\n",
      "2011806_tpdteam0.csv 341 69831\n",
      "2011806_tpdteam1.csv 342 70041\n",
      "2011807_tpdteam0.csv 343 70223\n",
      "2011807_tpdteam1.csv 344 70433\n",
      "2011808_tpdteam0.csv 345 70643\n",
      "2011808_tpdteam1.csv 346 70853\n",
      "2011809_tpdteam0.csv 347 71063\n",
      "2011809_tpdteam1.csv 348 71273\n",
      "2011810_tpdteam0.csv 349 71483\n",
      "2011810_tpdteam1.csv 350 71693\n",
      "2011811_tpdteam0.csv 351 71903\n",
      "2011811_tpdteam1.csv 352 72113\n",
      "2011812_tpdteam0.csv 353 72295\n",
      "2011812_tpdteam1.csv 354 72505\n",
      "2011813_tpdteam0.csv 355 72715\n",
      "2011813_tpdteam1.csv 356 72925\n",
      "2011814_tpdteam0.csv 357 73135\n",
      "2011814_tpdteam1.csv 358 73345\n",
      "2011815_tpdteam0.csv 359 73555\n",
      "2011815_tpdteam1.csv 360 73765\n",
      "2011816_tpdteam0.csv 361 73975\n",
      "2011816_tpdteam1.csv 362 74185\n",
      "2011817_tpdteam0.csv 363 74395\n",
      "2011817_tpdteam1.csv 364 74577\n",
      "2011818_tpdteam0.csv 365 74787\n",
      "2011818_tpdteam1.csv 366 74997\n",
      "2011819_tpdteam0.csv 367 75207\n",
      "2011819_tpdteam1.csv 368 75417\n",
      "2011820_tpdteam0.csv 369 75627\n",
      "2011820_tpdteam1.csv 370 75837\n",
      "2011821_tpdteam0.csv 371 76047\n",
      "2011821_tpdteam1.csv 372 76257\n",
      "2011822_tpdteam0.csv 373 76467\n",
      "2011822_tpdteam1.csv 374 76677\n",
      "2011823_tpdteam0.csv 375 76887\n",
      "2011823_tpdteam1.csv 376 77097\n",
      "2011824_tpdteam0.csv 377 77307\n",
      "2011824_tpdteam1.csv 378 77517\n",
      "2011825_tpdteam0.csv 379 77727\n",
      "2011825_tpdteam1.csv 380 77937\n",
      "2011826_tpdteam0.csv 381 78147\n",
      "2011826_tpdteam1.csv 382 78357\n",
      "2011827_tpdteam0.csv 383 78567\n",
      "2011827_tpdteam1.csv 384 78749\n",
      "2011828_tpdteam0.csv 385 78959\n",
      "2011828_tpdteam1.csv 386 79169\n",
      "2011829_tpdteam0.csv 387 79379\n",
      "2011829_tpdteam1.csv 388 79589\n",
      "2011830_tpdteam0.csv 389 79799\n",
      "2011830_tpdteam1.csv 390 80009\n",
      "2011831_tpdteam0.csv 391 80219\n",
      "2011831_tpdteam1.csv 392 80429\n",
      "2011832_tpdteam0.csv 393 80611\n",
      "2011832_tpdteam1.csv 394 80821\n",
      "2011833_tpdteam0.csv 395 81031\n",
      "2011833_tpdteam1.csv 396 81241\n",
      "2011834_tpdteam0.csv 397 81451\n",
      "2011834_tpdteam1.csv 398 81661\n",
      "2011835_tpdteam0.csv 399 81871\n",
      "2011835_tpdteam1.csv 400 82081\n",
      "2011836_tpdteam0.csv 401 82291\n",
      "2011836_tpdteam1.csv 402 82473\n",
      "2011837_tpdteam0.csv 403 82629\n",
      "2011837_tpdteam1.csv 404 82839\n",
      "2011838_tpdteam0.csv 405 83049\n",
      "2011838_tpdteam1.csv 406 83259\n",
      "2011839_tpdteam0.csv 407 83469\n",
      "2011839_tpdteam1.csv 408 83679\n",
      "2011840_tpdteam0.csv 409 83889\n",
      "2011840_tpdteam1.csv 410 84099\n",
      "2011841_tpdteam0.csv 411 84309\n",
      "2011841_tpdteam1.csv 412 84519\n",
      "2011842_tpdteam0.csv 413 84729\n",
      "2011842_tpdteam1.csv 414 84885\n",
      "2011843_tpdteam0.csv 415 85067\n",
      "2011843_tpdteam1.csv 416 85277\n",
      "2011844_tpdteam0.csv 417 85487\n",
      "2011844_tpdteam1.csv 418 85697\n",
      "2011845_tpdteam0.csv 419 85907\n",
      "2011845_tpdteam1.csv 420 86089\n",
      "2011846_tpdteam0.csv 421 86299\n",
      "2011846_tpdteam1.csv 422 86509\n",
      "2011847_tpdteam0.csv 423 86719\n",
      "2011847_tpdteam1.csv 424 86929\n",
      "2011848_tpdteam0.csv 425 87139\n",
      "2011848_tpdteam1.csv 426 87349\n",
      "2011849_tpdteam0.csv 427 87559\n",
      "2011849_tpdteam1.csv 428 87741\n",
      "2011850_tpdteam0.csv 429 87923\n",
      "2011850_tpdteam1.csv 430 88133\n",
      "2011851_tpdteam0.csv 431 88343\n",
      "2011851_tpdteam1.csv 432 88553\n",
      "2011852_tpdteam0.csv 433 88735\n",
      "2011852_tpdteam1.csv 434 88945\n",
      "2011853_tpdteam0.csv 435 89155\n",
      "2011853_tpdteam1.csv 436 89337\n",
      "2011854_tpdteam0.csv 437 89547\n",
      "2011854_tpdteam1.csv 438 89757\n",
      "2011855_tpdteam0.csv 439 89967\n",
      "2011855_tpdteam1.csv 440 90177\n",
      "2011856_tpdteam0.csv 441 90359\n",
      "2011856_tpdteam1.csv 442 90569\n",
      "2011857_tpdteam0.csv 443 90751\n",
      "2011857_tpdteam1.csv 444 90961\n",
      "2011858_tpdteam0.csv 445 91171\n",
      "2011858_tpdteam1.csv 446 91381\n",
      "2011859_tpdteam0.csv 447 91591\n",
      "2011859_tpdteam1.csv 448 91801\n",
      "2011860_tpdteam0.csv 449 91983\n",
      "2011860_tpdteam1.csv 450 92193\n",
      "2011861_tpdteam0.csv 451 92375\n",
      "2011861_tpdteam1.csv 452 92585\n",
      "2011862_tpdteam0.csv 453 92795\n",
      "2011862_tpdteam1.csv 454 93005\n",
      "2011863_tpdteam0.csv 455 93215\n",
      "2011863_tpdteam1.csv 456 93425\n",
      "2011864_tpdteam0.csv 457 93635\n",
      "2011864_tpdteam1.csv 458 93817\n",
      "2011865_tpdteam0.csv 459 94027\n",
      "2011865_tpdteam1.csv 460 94209\n",
      "2011866_tpdteam0.csv 461 94419\n",
      "2011866_tpdteam1.csv 462 94629\n",
      "2011867_tpdteam0.csv 463 94839\n",
      "2011867_tpdteam1.csv 464 95049\n",
      "2011868_tpdteam0.csv 465 95259\n",
      "2011868_tpdteam1.csv 466 95469\n",
      "2011869_tpdteam0.csv 467 95679\n",
      "2011869_tpdteam1.csv 468 95889\n",
      "2011870_tpdteam0.csv 469 96099\n",
      "2011870_tpdteam1.csv 470 96309\n",
      "2011871_tpdteam0.csv 471 96519\n",
      "2011871_tpdteam1.csv 472 96701\n",
      "2011872_tpdteam0.csv 473 96911\n",
      "2011872_tpdteam1.csv 474 97121\n",
      "2011873_tpdteam0.csv 475 97331\n",
      "2011873_tpdteam1.csv 476 97541\n",
      "2011874_tpdteam0.csv 477 97723\n",
      "2011874_tpdteam1.csv 478 97933\n",
      "2011875_tpdteam0.csv 479 98115\n",
      "2011875_tpdteam1.csv 480 98325\n",
      "2011876_tpdteam0.csv 481 98535\n",
      "2011876_tpdteam1.csv 482 98717\n",
      "2011877_tpdteam0.csv 483 98899\n",
      "2011877_tpdteam1.csv 484 99081\n",
      "2011878_tpdteam0.csv 485 99263\n",
      "2011878_tpdteam1.csv 486 99419\n",
      "2011879_tpdteam0.csv 487 99629\n",
      "2011879_tpdteam1.csv 488 99839\n",
      "2011880_tpdteam0.csv 489 100049\n",
      "2011880_tpdteam1.csv 490 100259\n",
      "2011881_tpdteam0.csv 491 100469\n",
      "2011881_tpdteam1.csv 492 100679\n",
      "2011882_tpdteam0.csv 493 100889\n",
      "2011882_tpdteam1.csv 494 101099\n",
      "2011883_tpdteam0.csv 495 101309\n",
      "2011883_tpdteam1.csv 496 101519\n",
      "2015665_tpdteam0.csv 497 101729\n",
      "2015665_tpdteam1.csv 498 101911\n",
      "2015666_tpdteam0.csv 499 102093\n",
      "2015666_tpdteam1.csv 500 102303\n",
      "2015667_tpdteam0.csv 501 102513\n",
      "2015667_tpdteam1.csv 502 102723\n",
      "2015668_tpdteam0.csv 503 102905\n",
      "2015668_tpdteam1.csv 504 103087\n",
      "2015669_tpdteam0.csv 505 103297\n",
      "2015669_tpdteam1.csv 506 103507\n",
      "2015670_tpdteam0.csv 507 103717\n",
      "2015670_tpdteam1.csv 508 103927\n",
      "2015671_tpdteam0.csv 509 104137\n",
      "2015671_tpdteam1.csv 510 104347\n",
      "2015672_tpdteam0.csv 511 104529\n",
      "2015672_tpdteam1.csv 512 104739\n",
      "2015673_tpdteam0.csv 513 104949\n",
      "2015673_tpdteam1.csv 514 105159\n",
      "2015674_tpdteam0.csv 515 105369\n",
      "2015674_tpdteam1.csv 516 105579\n",
      "2015675_tpdteam0.csv 517 105761\n",
      "2015675_tpdteam1.csv 518 105971\n",
      "2015676_tpdteam0.csv 519 106181\n",
      "2015676_tpdteam1.csv 520 106391\n",
      "2015677_tpdteam0.csv 521 106601\n",
      "2015677_tpdteam1.csv 522 106811\n",
      "2015678_tpdteam0.csv 523 107021\n",
      "2015678_tpdteam1.csv 524 107231\n",
      "2015679_tpdteam0.csv 525 107441\n",
      "2015679_tpdteam1.csv 526 107651\n",
      "2015680_tpdteam0.csv 527 107861\n",
      "2015680_tpdteam1.csv 528 108071\n",
      "2015681_tpdteam0.csv 529 108281\n",
      "2015681_tpdteam1.csv 530 108491\n",
      "2015682_tpdteam0.csv 531 108701\n",
      "2015682_tpdteam1.csv 532 108911\n",
      "2015683_tpdteam0.csv 533 109121\n",
      "2015683_tpdteam1.csv 534 109331\n",
      "2015684_tpdteam0.csv 535 109541\n",
      "2015684_tpdteam1.csv 536 109751\n",
      "2015685_tpdteam0.csv 537 109961\n",
      "2015685_tpdteam1.csv 538 110171\n",
      "2015686_tpdteam0.csv 539 110381\n",
      "2015686_tpdteam1.csv 540 110591\n",
      "2015687_tpdteam0.csv 541 110801\n",
      "2015687_tpdteam1.csv 542 111011\n",
      "2015688_tpdteam0.csv 543 111221\n",
      "2015688_tpdteam1.csv 544 111431\n",
      "2015689_tpdteam0.csv 545 111641\n",
      "2015689_tpdteam1.csv 546 111851\n",
      "2015690_tpdteam0.csv 547 112061\n",
      "2015690_tpdteam1.csv 548 112243\n",
      "2015691_tpdteam0.csv 549 112453\n",
      "2015691_tpdteam1.csv 550 112663\n",
      "2015692_tpdteam0.csv 551 112873\n",
      "2015692_tpdteam1.csv 552 113083\n",
      "2015693_tpdteam0.csv 553 113293\n",
      "2015693_tpdteam1.csv 554 113503\n",
      "2015694_tpdteam0.csv 555 113713\n",
      "2015694_tpdteam1.csv 556 113923\n",
      "2015695_tpdteam0.csv 557 114133\n",
      "2015695_tpdteam1.csv 558 114343\n"
     ]
    },
    {
     "name": "stdout",
     "output_type": "stream",
     "text": [
      "2015696_tpdteam0.csv 559 114553\n",
      "2015696_tpdteam1.csv 560 114763\n",
      "2015697_tpdteam0.csv 561 114973\n",
      "2015697_tpdteam1.csv 562 115183\n",
      "2015698_tpdteam0.csv 563 115393\n",
      "2015698_tpdteam1.csv 564 115603\n",
      "2015699_tpdteam0.csv 565 115813\n",
      "2015699_tpdteam1.csv 566 116023\n",
      "2015700_tpdteam0.csv 567 116205\n",
      "2015700_tpdteam1.csv 568 116415\n",
      "2015701_tpdteam0.csv 569 116625\n",
      "2015701_tpdteam1.csv 570 116835\n",
      "2015702_tpdteam0.csv 571 117045\n",
      "2015702_tpdteam1.csv 572 117227\n",
      "2015703_tpdteam0.csv 573 117383\n",
      "2015703_tpdteam1.csv 574 117593\n",
      "2015704_tpdteam0.csv 575 117803\n",
      "2015704_tpdteam1.csv 576 118013\n",
      "2015705_tpdteam0.csv 577 118169\n",
      "2015705_tpdteam1.csv 578 118351\n",
      "2015706_tpdteam0.csv 579 118533\n",
      "2015706_tpdteam1.csv 580 118743\n",
      "2015707_tpdteam0.csv 581 118925\n",
      "2015707_tpdteam1.csv 582 119135\n",
      "2015708_tpdteam0.csv 583 119345\n",
      "2015708_tpdteam1.csv 584 119555\n",
      "2015709_tpdteam0.csv 585 119765\n",
      "2015709_tpdteam1.csv 586 119975\n",
      "2015710_tpdteam0.csv 587 120185\n",
      "2015710_tpdteam1.csv 588 120395\n",
      "2015711_tpdteam0.csv 589 120605\n",
      "2015711_tpdteam1.csv 590 120815\n",
      "2015712_tpdteam0.csv 591 121025\n",
      "2015712_tpdteam1.csv 592 121235\n",
      "2015713_tpdteam0.csv 593 121445\n",
      "2015713_tpdteam1.csv 594 121655\n",
      "2015714_tpdteam0.csv 595 121865\n",
      "2015714_tpdteam1.csv 596 122075\n",
      "2015715_tpdteam0.csv 597 122257\n",
      "2015715_tpdteam1.csv 598 122467\n",
      "2015716_tpdteam0.csv 599 122677\n",
      "2015716_tpdteam1.csv 600 122887\n",
      "2015717_tpdteam0.csv 601 123097\n",
      "2015717_tpdteam1.csv 602 123307\n",
      "2015718_tpdteam0.csv 603 123517\n",
      "2015718_tpdteam1.csv 604 123727\n",
      "2015719_tpdteam0.csv 605 123937\n",
      "2015719_tpdteam1.csv 606 124093\n",
      "2015720_tpdteam0.csv 607 124303\n",
      "2015720_tpdteam1.csv 608 124513\n",
      "2015721_tpdteam0.csv 609 124723\n",
      "2015721_tpdteam1.csv 610 124933\n",
      "2015722_tpdteam0.csv 611 125143\n",
      "2015722_tpdteam1.csv 612 125353\n",
      "2015723_tpdteam0.csv 613 125563\n",
      "2015723_tpdteam1.csv 614 125773\n",
      "2015724_tpdteam0.csv 615 125983\n",
      "2015724_tpdteam1.csv 616 126193\n",
      "2015725_tpdteam0.csv 617 126403\n",
      "2015725_tpdteam1.csv 618 126613\n",
      "2015726_tpdteam0.csv 619 126823\n",
      "2015726_tpdteam1.csv 620 127033\n",
      "2015727_tpdteam0.csv 621 127215\n",
      "2015727_tpdteam1.csv 622 127425\n",
      "2015728_tpdteam0.csv 623 127635\n",
      "2015728_tpdteam1.csv 624 127845\n",
      "2015729_tpdteam0.csv 625 128055\n",
      "2015729_tpdteam1.csv 626 128265\n",
      "2015730_tpdteam0.csv 627 128447\n",
      "2015730_tpdteam1.csv 628 128657\n",
      "2015731_tpdteam0.csv 629 128867\n",
      "2015731_tpdteam1.csv 630 129077\n",
      "2015732_tpdteam0.csv 631 129287\n",
      "2015732_tpdteam1.csv 632 129497\n",
      "2015733_tpdteam0.csv 633 129707\n",
      "2015733_tpdteam1.csv 634 129917\n",
      "2015734_tpdteam0.csv 635 130127\n",
      "2015734_tpdteam1.csv 636 130337\n",
      "2015735_tpdteam0.csv 637 130547\n",
      "2015735_tpdteam1.csv 638 130757\n",
      "2015736_tpdteam0.csv 639 130967\n",
      "2015736_tpdteam1.csv 640 131177\n",
      "2015737_tpdteam0.csv 641 131387\n",
      "2015737_tpdteam1.csv 642 131597\n",
      "2015738_tpdteam0.csv 643 131807\n",
      "2015738_tpdteam1.csv 644 132017\n",
      "2015739_tpdteam0.csv 645 132227\n",
      "2015739_tpdteam1.csv 646 132437\n",
      "2015740_tpdteam0.csv 647 132647\n",
      "2015740_tpdteam1.csv 648 132857\n",
      "2015741_tpdteam0.csv 649 133039\n",
      "2015741_tpdteam1.csv 650 133249\n",
      "2015742_tpdteam0.csv 651 133459\n",
      "2015742_tpdteam1.csv 652 133669\n",
      "2015743_tpdteam0.csv 653 133879\n",
      "2015743_tpdteam1.csv 654 134089\n",
      "2015744_tpdteam0.csv 655 134299\n",
      "2015744_tpdteam1.csv 656 134509\n",
      "2015745_tpdteam0.csv 657 134719\n",
      "2015745_tpdteam1.csv 658 134929\n",
      "2015746_tpdteam0.csv 659 135139\n",
      "2015746_tpdteam1.csv 660 135349\n",
      "2015747_tpdteam0.csv 661 135559\n",
      "2015747_tpdteam1.csv 662 135769\n",
      "2015748_tpdteam0.csv 663 135979\n",
      "2015748_tpdteam1.csv 664 136135\n",
      "2015749_tpdteam0.csv 665 136267\n",
      "2015749_tpdteam1.csv 666 136449\n",
      "2015750_tpdteam0.csv 667 136659\n",
      "2015750_tpdteam1.csv 668 136869\n",
      "2015751_tpdteam0.csv 669 137079\n",
      "2015751_tpdteam1.csv 670 137289\n",
      "2015752_tpdteam0.csv 671 137499\n",
      "2015752_tpdteam1.csv 672 137709\n",
      "2015753_tpdteam0.csv 673 137865\n",
      "2015753_tpdteam1.csv 674 138075\n",
      "2015754_tpdteam0.csv 675 138257\n",
      "2015754_tpdteam1.csv 676 138439\n",
      "2015755_tpdteam0.csv 677 138649\n",
      "2015755_tpdteam1.csv 678 138859\n",
      "2015756_tpdteam0.csv 679 139069\n",
      "2015756_tpdteam1.csv 680 139279\n",
      "2015757_tpdteam0.csv 681 139489\n",
      "2015757_tpdteam1.csv 682 139699\n",
      "2015758_tpdteam0.csv 683 139909\n",
      "2015758_tpdteam1.csv 684 140119\n",
      "2015759_tpdteam0.csv 685 140329\n",
      "2015759_tpdteam1.csv 686 140539\n",
      "2015760_tpdteam0.csv 687 140749\n",
      "2015760_tpdteam1.csv 688 140959\n",
      "2015761_tpdteam0.csv 689 141169\n",
      "2015761_tpdteam1.csv 690 141379\n",
      "2015762_tpdteam0.csv 691 141589\n",
      "2015762_tpdteam1.csv 692 141799\n",
      "2015763_tpdteam0.csv 693 142009\n",
      "2015763_tpdteam1.csv 694 142191\n",
      "2015764_tpdteam0.csv 695 142401\n",
      "2015764_tpdteam1.csv 696 142611\n",
      "2015765_tpdteam0.csv 697 142767\n",
      "2015765_tpdteam1.csv 698 142977\n",
      "2015766_tpdteam0.csv 699 143133\n",
      "2015766_tpdteam1.csv 700 143343\n",
      "2015767_tpdteam0.csv 701 143475\n",
      "2015767_tpdteam1.csv 702 143685\n",
      "2015768_tpdteam0.csv 703 143867\n",
      "2015768_tpdteam1.csv 704 144077\n",
      "2015769_tpdteam0.csv 705 144259\n",
      "2015769_tpdteam1.csv 706 144469\n",
      "2015770_tpdteam0.csv 707 144679\n",
      "2015770_tpdteam1.csv 708 144889\n",
      "2015771_tpdteam0.csv 709 145099\n",
      "2015771_tpdteam1.csv 710 145309\n",
      "2015772_tpdteam0.csv 711 145519\n",
      "2015772_tpdteam1.csv 712 145729\n",
      "2015773_tpdteam0.csv 713 145939\n",
      "2015773_tpdteam1.csv 714 146149\n",
      "2015774_tpdteam0.csv 715 146359\n",
      "2015774_tpdteam1.csv 716 146569\n",
      "2015775_tpdteam0.csv 717 146779\n",
      "2015775_tpdteam1.csv 718 146961\n",
      "2015776_tpdteam0.csv 719 147171\n",
      "2015776_tpdteam1.csv 720 147353\n",
      "2015777_tpdteam0.csv 721 147563\n",
      "2015777_tpdteam1.csv 722 147773\n",
      "2015778_tpdteam0.csv 723 147983\n",
      "2015778_tpdteam1.csv 724 148193\n",
      "2015779_tpdteam0.csv 725 148403\n",
      "2015779_tpdteam1.csv 726 148613\n",
      "2015780_tpdteam0.csv 727 148823\n",
      "2015780_tpdteam1.csv 728 149005\n",
      "2015781_tpdteam0.csv 729 149215\n",
      "2015781_tpdteam1.csv 730 149425\n",
      "2015782_tpdteam0.csv 731 149607\n",
      "2015782_tpdteam1.csv 732 149817\n",
      "2015783_tpdteam0.csv 733 149999\n",
      "2015783_tpdteam1.csv 734 150181\n",
      "2015784_tpdteam0.csv 735 150391\n",
      "2015784_tpdteam1.csv 736 150601\n",
      "2015785_tpdteam0.csv 737 150811\n",
      "2015785_tpdteam1.csv 738 150993\n",
      "2015786_tpdteam0.csv 739 151175\n",
      "2015786_tpdteam1.csv 740 151331\n",
      "2015787_tpdteam0.csv 741 151541\n",
      "2015787_tpdteam1.csv 742 151697\n",
      "2015788_tpdteam0.csv 743 151907\n",
      "2015788_tpdteam1.csv 744 152117\n",
      "2015789_tpdteam0.csv 745 152327\n",
      "2015789_tpdteam1.csv 746 152537\n",
      "2019282_tpdteam0.csv 747 152747\n",
      "2019282_tpdteam1.csv 748 152957\n",
      "2019283_tpdteam0.csv 749 153167\n",
      "2019283_tpdteam1.csv 750 153377\n",
      "2019284_tpdteam0.csv 751 153587\n",
      "2019284_tpdteam1.csv 752 153797\n",
      "2019285_tpdteam0.csv 753 154007\n",
      "2019285_tpdteam1.csv 754 154189\n",
      "2019286_tpdteam0.csv 755 154399\n",
      "2019286_tpdteam1.csv 756 154581\n",
      "2019287_tpdteam0.csv 757 154791\n",
      "2019287_tpdteam1.csv 758 155001\n",
      "2019288_tpdteam0.csv 759 155211\n",
      "2019288_tpdteam1.csv 760 155421\n",
      "2019289_tpdteam0.csv 761 155603\n",
      "2019289_tpdteam1.csv 762 155813\n",
      "2019290_tpdteam0.csv 763 156023\n",
      "2019290_tpdteam1.csv 764 156233\n",
      "2019291_tpdteam0.csv 765 156443\n",
      "2019291_tpdteam1.csv 766 156653\n",
      "2019292_tpdteam0.csv 767 156835\n",
      "2019292_tpdteam1.csv 768 157045\n",
      "2019293_tpdteam0.csv 769 157255\n",
      "2019293_tpdteam1.csv 770 157465\n",
      "2019294_tpdteam0.csv 771 157675\n",
      "2019294_tpdteam1.csv 772 157885\n",
      "2019295_tpdteam0.csv 773 158095\n",
      "2019295_tpdteam1.csv 774 158305\n",
      "2019296_tpdteam0.csv 775 158515\n",
      "2019296_tpdteam1.csv 776 158725\n",
      "2019297_tpdteam0.csv 777 158935\n",
      "2019297_tpdteam1.csv 778 159145\n",
      "2019298_tpdteam0.csv 779 159355\n",
      "2019298_tpdteam1.csv 780 159565\n",
      "2019299_tpdteam0.csv 781 159775\n",
      "2019299_tpdteam1.csv 782 159957\n",
      "2019300_tpdteam0.csv 783 160139\n",
      "2019300_tpdteam1.csv 784 160349\n",
      "2019301_tpdteam0.csv 785 160531\n",
      "2019301_tpdteam1.csv 786 160741\n",
      "2019302_tpdteam0.csv 787 160951\n",
      "2019302_tpdteam1.csv 788 161161\n",
      "2019303_tpdteam0.csv 789 161371\n",
      "2019303_tpdteam1.csv 790 161581\n",
      "2019304_tpdteam0.csv 791 161791\n",
      "2019304_tpdteam1.csv 792 162001\n",
      "2019305_tpdteam0.csv 793 162211\n",
      "2019305_tpdteam1.csv 794 162421\n",
      "2019306_tpdteam0.csv 795 162631\n",
      "2019306_tpdteam1.csv 796 162813\n",
      "2019307_tpdteam0.csv 797 163023\n",
      "2019307_tpdteam1.csv 798 163233\n",
      "2019308_tpdteam0.csv 799 163443\n",
      "2019308_tpdteam1.csv 800 163653\n",
      "2019309_tpdteam0.csv 801 163863\n",
      "2019309_tpdteam1.csv 802 164073\n",
      "2019310_tpdteam0.csv 803 164283\n",
      "2019310_tpdteam1.csv 804 164493\n",
      "2019311_tpdteam0.csv 805 164675\n",
      "2019311_tpdteam1.csv 806 164885\n",
      "2019312_tpdteam0.csv 807 165067\n",
      "2019312_tpdteam1.csv 808 165277\n",
      "2019313_tpdteam0.csv 809 165487\n",
      "2019313_tpdteam1.csv 810 165669\n",
      "2019314_tpdteam0.csv 811 165851\n",
      "2019314_tpdteam1.csv 812 166061\n",
      "2019315_tpdteam0.csv 813 166271\n",
      "2019315_tpdteam1.csv 814 166481\n",
      "2019316_tpdteam0.csv 815 166691\n",
      "2019316_tpdteam1.csv 816 166901\n",
      "2019317_tpdteam0.csv 817 167111\n",
      "2019317_tpdteam1.csv 818 167321\n",
      "2019318_tpdteam0.csv 819 167531\n",
      "2019318_tpdteam1.csv 820 167741\n",
      "2019319_tpdteam0.csv 821 167951\n",
      "2019319_tpdteam1.csv 822 168161\n",
      "2019320_tpdteam0.csv 823 168371\n",
      "2019320_tpdteam1.csv 824 168581\n",
      "2019321_tpdteam0.csv 825 168763\n",
      "2019321_tpdteam1.csv 826 168973\n",
      "2019322_tpdteam0.csv 827 169183\n",
      "2019322_tpdteam1.csv 828 169393\n",
      "2019323_tpdteam0.csv 829 169575\n",
      "2019323_tpdteam1.csv 830 169785\n",
      "2019324_tpdteam0.csv 831 169995\n",
      "2019324_tpdteam1.csv 832 170205\n",
      "2019325_tpdteam0.csv 833 170415\n",
      "2019325_tpdteam1.csv 834 170625\n",
      "2019326_tpdteam0.csv 835 170835\n",
      "2019326_tpdteam1.csv 836 171045\n",
      "2019327_tpdteam0.csv 837 171227\n",
      "2019327_tpdteam1.csv 838 171437\n",
      "2019328_tpdteam0.csv 839 171647\n",
      "2019328_tpdteam1.csv 840 171829\n",
      "2019329_tpdteam0.csv 841 172039\n",
      "2019329_tpdteam1.csv 842 172249\n",
      "2019330_tpdteam0.csv 843 172459\n",
      "2019330_tpdteam1.csv 844 172615\n",
      "2019331_tpdteam0.csv 845 172825\n",
      "2019331_tpdteam1.csv 846 173035\n"
     ]
    },
    {
     "name": "stdout",
     "output_type": "stream",
     "text": [
      "2019332_tpdteam0.csv 847 173245\n",
      "2019332_tpdteam1.csv 848 173427\n",
      "2019333_tpdteam0.csv 849 173637\n",
      "2019333_tpdteam1.csv 850 173847\n",
      "2019334_tpdteam0.csv 851 174057\n",
      "2019334_tpdteam1.csv 852 174267\n",
      "2019335_tpdteam0.csv 853 174477\n",
      "2019335_tpdteam1.csv 854 174687\n",
      "2019336_tpdteam0.csv 855 174869\n",
      "2019336_tpdteam1.csv 856 175051\n",
      "2019337_tpdteam0.csv 857 175261\n",
      "2019337_tpdteam1.csv 858 175471\n",
      "2019338_tpdteam0.csv 859 175681\n",
      "2019338_tpdteam1.csv 860 175891\n",
      "2019339_tpdteam0.csv 861 176101\n",
      "2019339_tpdteam1.csv 862 176311\n",
      "2019340_tpdteam0.csv 863 176521\n",
      "2019340_tpdteam1.csv 864 176731\n",
      "2019341_tpdteam0.csv 865 176941\n",
      "2019341_tpdteam1.csv 866 177151\n",
      "2019342_tpdteam0.csv 867 177361\n",
      "2019342_tpdteam1.csv 868 177543\n",
      "2019343_tpdteam0.csv 869 177699\n",
      "2019343_tpdteam1.csv 870 177909\n",
      "2019344_tpdteam0.csv 871 178119\n",
      "2019344_tpdteam1.csv 872 178329\n",
      "2019345_tpdteam0.csv 873 178539\n",
      "2019345_tpdteam1.csv 874 178749\n",
      "2019346_tpdteam0.csv 875 178931\n",
      "2019346_tpdteam1.csv 876 179113\n",
      "2019347_tpdteam0.csv 877 179323\n",
      "2019347_tpdteam1.csv 878 179533\n",
      "2019348_tpdteam0.csv 879 179743\n",
      "2019348_tpdteam1.csv 880 179953\n",
      "2019349_tpdteam0.csv 881 180163\n",
      "2019349_tpdteam1.csv 882 180373\n",
      "2019350_tpdteam0.csv 883 180583\n",
      "2019350_tpdteam1.csv 884 180793\n",
      "2019351_tpdteam0.csv 885 181003\n",
      "2019351_tpdteam1.csv 886 181185\n",
      "2019352_tpdteam0.csv 887 181367\n",
      "2019352_tpdteam1.csv 888 181577\n",
      "2019353_tpdteam0.csv 889 181787\n",
      "2019353_tpdteam1.csv 890 181969\n",
      "2019354_tpdteam0.csv 891 182179\n",
      "2019354_tpdteam1.csv 892 182389\n",
      "2019355_tpdteam0.csv 893 182571\n",
      "2019355_tpdteam1.csv 894 182781\n",
      "2019356_tpdteam0.csv 895 182991\n",
      "2019356_tpdteam1.csv 896 183201\n",
      "2019357_tpdteam0.csv 897 183411\n",
      "2019357_tpdteam1.csv 898 183621\n",
      "2019358_tpdteam0.csv 899 183831\n",
      "2019358_tpdteam1.csv 900 184041\n",
      "2019359_tpdteam0.csv 901 184251\n",
      "2019359_tpdteam1.csv 902 184461\n",
      "2019360_tpdteam0.csv 903 184617\n",
      "2019360_tpdteam1.csv 904 184827\n",
      "2019361_tpdteam0.csv 905 185009\n",
      "2019361_tpdteam1.csv 906 185191\n",
      "2019362_tpdteam0.csv 907 185401\n",
      "2019362_tpdteam1.csv 908 185611\n",
      "2019363_tpdteam0.csv 909 185821\n",
      "2019363_tpdteam1.csv 910 186031\n",
      "2019364_tpdteam0.csv 911 186241\n",
      "2019364_tpdteam1.csv 912 186451\n",
      "2019365_tpdteam0.csv 913 186661\n",
      "2019365_tpdteam1.csv 914 186871\n",
      "2019366_tpdteam0.csv 915 187081\n",
      "2019366_tpdteam1.csv 916 187263\n",
      "2019367_tpdteam0.csv 917 187473\n",
      "2019367_tpdteam1.csv 918 187629\n",
      "2019368_tpdteam0.csv 919 187811\n",
      "2019368_tpdteam1.csv 920 188021\n",
      "2019369_tpdteam0.csv 921 188231\n",
      "2019369_tpdteam1.csv 922 188441\n",
      "2019370_tpdteam0.csv 923 188651\n",
      "2019370_tpdteam1.csv 924 188861\n",
      "2019371_tpdteam0.csv 925 189071\n",
      "2019371_tpdteam1.csv 926 189281\n",
      "2019372_tpdteam0.csv 927 189491\n",
      "2019372_tpdteam1.csv 928 189673\n",
      "2019373_tpdteam0.csv 929 189883\n",
      "2019373_tpdteam1.csv 930 190093\n",
      "2019374_tpdteam0.csv 931 190303\n",
      "2019374_tpdteam1.csv 932 190485\n",
      "2019375_tpdteam0.csv 933 190695\n",
      "2019375_tpdteam1.csv 934 190905\n",
      "2019376_tpdteam0.csv 935 191115\n",
      "2019376_tpdteam1.csv 936 191325\n",
      "2019377_tpdteam0.csv 937 191507\n",
      "2019377_tpdteam1.csv 938 191717\n",
      "2019613_tpdteam0.csv 939 191927\n",
      "2019613_tpdteam1.csv 940 192137\n",
      "2019614_tpdteam0.csv 941 192347\n",
      "2019614_tpdteam1.csv 942 192557\n",
      "2019615_tpdteam0.csv 943 192739\n",
      "2019615_tpdteam1.csv 944 192949\n",
      "2019616_tpdteam0.csv 945 193131\n",
      "2019616_tpdteam1.csv 946 193313\n",
      "2019617_tpdteam0.csv 947 193495\n",
      "2019617_tpdteam1.csv 948 193705\n",
      "2019618_tpdteam0.csv 949 193915\n",
      "2019618_tpdteam1.csv 950 194125\n",
      "2019619_tpdteam0.csv 951 194335\n",
      "2019619_tpdteam1.csv 952 194545\n",
      "2019620_tpdteam0.csv 953 194755\n",
      "2019620_tpdteam1.csv 954 194965\n",
      "2019621_tpdteam0.csv 955 195175\n",
      "2019621_tpdteam1.csv 956 195385\n",
      "2019622_tpdteam0.csv 957 195595\n",
      "2019622_tpdteam1.csv 958 195777\n",
      "2019623_tpdteam0.csv 959 195987\n",
      "2019623_tpdteam1.csv 960 196197\n",
      "2019624_tpdteam0.csv 961 196353\n",
      "2019624_tpdteam1.csv 962 196563\n",
      "2019625_tpdteam0.csv 963 196773\n",
      "2019625_tpdteam1.csv 964 196983\n",
      "2019626_tpdteam0.csv 965 197193\n",
      "2019626_tpdteam1.csv 966 197375\n",
      "2019627_tpdteam0.csv 967 197585\n",
      "2019627_tpdteam1.csv 968 197795\n",
      "2019628_tpdteam0.csv 969 198005\n",
      "2019628_tpdteam1.csv 970 198215\n",
      "2019629_tpdteam0.csv 971 198425\n",
      "2019629_tpdteam1.csv 972 198607\n",
      "2019630_tpdteam0.csv 973 198789\n",
      "2019630_tpdteam1.csv 974 198971\n",
      "2019631_tpdteam0.csv 975 199153\n",
      "2019631_tpdteam1.csv 976 199363\n",
      "2019632_tpdteam0.csv 977 199573\n",
      "2019632_tpdteam1.csv 978 199783\n",
      "2019633_tpdteam0.csv 979 199939\n",
      "2019633_tpdteam1.csv 980 200149\n",
      "2019634_tpdteam0.csv 981 200359\n",
      "2019634_tpdteam1.csv 982 200541\n",
      "2019635_tpdteam0.csv 983 200751\n",
      "2019635_tpdteam1.csv 984 200961\n",
      "2019636_tpdteam0.csv 985 201171\n",
      "2019636_tpdteam1.csv 986 201381\n"
     ]
    }
   ],
   "source": [
    "files = os.listdir('CSVS')\n",
    "teamdir = defaultdict()\n",
    "playerpasses = {}\n",
    "buildgraphs = {}\n",
    "out =[]\n",
    "count = 0\n",
    "for x in files :\n",
    "    count+=1\n",
    "    filename = 'CSVS\\\\'+ x\n",
    "    pdfname = re.sub(\"team[0-1].csv\",\".pdf\",x)\n",
    "    pdfpath = 'Data\\\\'+pdfname\n",
    "    with open(pdfpath,'rb') as f:\n",
    "        temp = PdfFileReader(f)\n",
    "        team = temp.getDocumentInfo().title\n",
    "    buildgraphs[x] = []\n",
    "    #Team Creation\n",
    "    if 'team0' in x and team!=None:\n",
    "        my_team = team.split(\"_\")[2]\n",
    "        opp_team = team.split(\"_\")[3]\n",
    "        homeoraway = 1\n",
    "    elif team!=None :\n",
    "        my_team = team.split(\"_\")[3]\n",
    "        opp_team = team.split(\"_\")[2]\n",
    "        homeoraway = 0\n",
    "    #Rank Selection\n",
    "    if '2009' in x :\n",
    "        if my_team in season2012 :\n",
    "            my_rank = season2012[my_team]\n",
    "        else :\n",
    "            my_rank = 100\n",
    "        if opp_team in season2012 :\n",
    "            opp_rank = season2012[opp_team]\n",
    "        else :\n",
    "            opp_rank = 100\n",
    "    elif '2011' in x :\n",
    "        if my_team in season2013 :\n",
    "            my_rank = season2013[my_team]\n",
    "        else :\n",
    "            my_rank = 100\n",
    "        if opp_team in season2013 :\n",
    "            opp_rank = season2013[opp_team]\n",
    "        else :\n",
    "            opp_rank = 100\n",
    "    elif '2015' in x :\n",
    "        if my_team in season2015 :\n",
    "            my_rank = season2015[my_team]\n",
    "        else :\n",
    "            my_rank = 100\n",
    "        if opp_team in season2015 :\n",
    "            opp_rank = season2015[opp_team]\n",
    "        else :\n",
    "            opp_rank = 100\n",
    "    elif '2019' in x :\n",
    "        if my_team in season2016 :\n",
    "            my_rank = season2016[my_team]\n",
    "        else :\n",
    "            my_rank = 100\n",
    "        if opp_team in season2016 :\n",
    "            opp_rank = season2016[opp_team]\n",
    "        else :\n",
    "            opp_rank = 100\n",
    "    \n",
    "    ptcount = 0\n",
    "    tplayers = []\n",
    "    \n",
    "    #Using 1 hot encoding\n",
    "    isdefender, isinfielder, isforward,ismidfielder,isgoalkeeper,iswinger =[],[],[],[],[],[]\n",
    "    timeplayed = []\n",
    "    passheight = []\n",
    "    with open(filename,'rb') as csvfile :\n",
    "        reader = csv.reader(csvfile, delimiter=',')\n",
    "        for row in reader :\n",
    "            if row[0] != 'Total passes received:':\n",
    "                name = re.sub(\"[0-9]\", \" \", row[0]).strip().decode('utf-8',\"ignore\")\n",
    "                tplayers.append(name)\n",
    "                isdefender.append(playertype(playerdict[name]['position'],'Defender'))\n",
    "                isforward.append(playertype(playerdict[name]['position'],'Forward'))\n",
    "                ismidfielder.append(playertype(playerdict[name]['position'],'Midfielder'))\n",
    "                isgoalkeeper.append(playertype(playerdict[name]['position'],'Goalkeeper'))\n",
    "                isinfielder.append(playertype(playerdict[name]['position'],'Infielder'))\n",
    "                iswinger.append(playertype(playerdict[name]['position'],'Winger'))\n",
    "                passheight.append(playerdict[name]['height'])\n",
    "                try :\n",
    "                    timeplayed.append(int(re.split(r\"\\'\",row[1])[0]))\n",
    "                except ValueError:\n",
    "                    timeplayed.append(1)\n",
    "                    \n",
    "    print x,count,len(out)\n",
    "    \n",
    "    with open(filename,'rb') as csvfile :\n",
    "        reader = csv.reader(csvfile, delimiter=',')\n",
    "        partial_out = []\n",
    "        for row in reader :\n",
    "            if row[0] != 'Total passes received:' and row[0]!=None:\n",
    "                playerlist = [tplayers[ptcount]]*len(tplayers)\n",
    "                try :\n",
    "                    mytimeplayed = [int(re.split(r\"\\'\",row[1])[0])]*len(tplayers)\n",
    "                except ValueError:\n",
    "                    mytimeplayed = [0]*len(tplayers)\n",
    "                my_teamlist = [my_team]*len(tplayers)\n",
    "                oppteamlist = [opp_team]*len(tplayers)\n",
    "                mydefender = [playertype(playerdict[tplayers[ptcount]]['position'],'Defender')]*len(tplayers)\n",
    "                mymidfielder = [playertype(playerdict[tplayers[ptcount]]['position'],'Midfielder')]*len(tplayers)\n",
    "                mywinger = [playertype(playerdict[tplayers[ptcount]]['position'],'Winger')]*len(tplayers)\n",
    "                myforward = [playertype(playerdict[tplayers[ptcount]]['position'],'Forward')]*len(tplayers)\n",
    "                myinfielder = [playertype(playerdict[tplayers[ptcount]]['position'],'Infielder')]*len(tplayers)\n",
    "                mygoalkeeper = [playertype(playerdict[tplayers[ptcount]]['position'],'Goalkeeper')]*len(tplayers)\n",
    "                my_ranklist = [my_rank]*len(tplayers)\n",
    "                opp_ranklist = [opp_rank]*len(tplayers)\n",
    "                height_list = [playerdict[tplayers[ptcount]]['height']]*len(tplayers)\n",
    "                prlist = [playerdict[tplayers[ptcount]]['pagerank']]*len(tplayers)\n",
    "                cllist = [playerdict[tplayers[ptcount]]['closeness']]*len(tplayers)\n",
    "                btlist = [playerdict[tplayers[ptcount]]['betweeness']]*len(tplayers)\n",
    "                homeoraway_list = [homeoraway]*len(tplayers)\n",
    "                shortpa_accuracy = float(float(playerdict[tplayers[ptcount]]['Short PC'])/float(playerdict[tplayers[ptcount]]['Short PA']))\n",
    "                mediumpa_accuracy = float(float(playerdict[tplayers[ptcount]]['Medium PC'])/float(playerdict[tplayers[ptcount]]['Medium PA']))\n",
    "                longpa_accuracy = float(float(playerdict[tplayers[ptcount]]['Long PC'])/float(playerdict[tplayers[ptcount]]['Long PA']))\n",
    "                percentlong = float(playerdict[tplayers[ptcount]]['Long PC'])/(float(playerdict[tplayers[ptcount]]['Long PC']) + float(playerdict[tplayers[ptcount]]['Medium PC']) + float(playerdict[tplayers[ptcount]]['Short PC']))\n",
    "                percentmedium = float(playerdict[tplayers[ptcount]]['Medium PC'])/(float(playerdict[tplayers[ptcount]]['Long PC']) + float(playerdict[tplayers[ptcount]]['Medium PC']) + float(playerdict[tplayers[ptcount]]['Short PC']))\n",
    "                percentshort = float(playerdict[tplayers[ptcount]]['Short PC'])/(float(playerdict[tplayers[ptcount]]['Long PC']) + float(playerdict[tplayers[ptcount]]['Medium PC']) + float(playerdict[tplayers[ptcount]]['Short PC']))\n",
    "                shortpa_list = [shortpa_accuracy]*len(tplayers)\n",
    "                mediumpa_list = [mediumpa_accuracy]*len(tplayers)\n",
    "                longpa_list = [longpa_accuracy]*len(tplayers)\n",
    "                plonglist = [percentlong]*len(tplayers)\n",
    "                pmediumlist = [percentmedium]*len(tplayers)\n",
    "                pshortlist = [percentshort]*len(tplayers)\n",
    "#                 playerfeatures = list(playerdata[tplayers[ptcount]]['totals'][0])\n",
    "#                 myteamfeatures = list(teamdata[my_team]['features'][0])\n",
    "#                 oppteamfeatures = list(teamdata[opp_team]['features'][0])\n",
    "                for q in range(len(row)) :\n",
    "                    if row[q] == '-' or row[q] == '' :\n",
    "                        row[q] = 0\n",
    "                if tplayers[ptcount] in playerpasses :\n",
    "                    summer = row[3:len(tplayers)+3]\n",
    "                    summer = [int(g) for g in summer]\n",
    "                    playerpasses[tplayers[ptcount]].append((sum(summer),mytimeplayed[0],x.split('_')[0]))\n",
    "                else :\n",
    "                    summer = row[3:len(tplayers)+3]\n",
    "                    summer = [int(g) for g in summer]\n",
    "                    playerpasses[tplayers[ptcount]] = [(sum(summer),mytimeplayed[0],x.split('_')[0])]\n",
    "                buildgraphs[x].extend(zip(playerlist,tplayers,row[3:len(tplayers)+3],my_ranklist,opp_ranklist,mytimeplayed,my_teamlist,oppteamlist,homeoraway_list))\n",
    "                temp_out = zip(shortpa_list,mediumpa_list,longpa_list,plonglist,pshortlist,pmediumlist,mydefender,mymidfielder,mywinger,myforward,myinfielder,mygoalkeeper,my_ranklist,mytimeplayed,timeplayed,opp_ranklist,height_list,passheight,homeoraway_list,isdefender,isinfielder,ismidfielder,isgoalkeeper,iswinger,isforward,prlist,cllist,btlist,row[3:len(tplayers)+3])\n",
    "#                 temp1_out = []\n",
    "#                 for x in temp_out :\n",
    "#                     x = list(x)\n",
    "#                     x[-2:-2] = playerdict[tplayers[ptcount]]['features']\n",
    "#                     #x[-2:-2] = myteamfeatures\n",
    "#                     #x[-2:-2] = oppteamfeatures\n",
    "#                     temp1_out.append(x)\n",
    "            ptcount+=1\n",
    "            partial_out += temp_out\n",
    "    out += partial_out\n",
    "        "
   ]
  },
  {
   "cell_type": "code",
   "execution_count": null,
   "metadata": {
    "collapsed": true
   },
   "outputs": [],
   "source": [
    "# with open('matrixdata', 'wb') as handle:\n",
    "#     pickle.dump(out, handle, protocol=pickle.HIGHEST_PROTOCOL)\n",
    "# # with open('buildgraphs', 'wb') as handle:\n",
    "# #     pickle.dump(buildgraphs, handle, protocol=pickle.HIGHEST_PROTOCOL)"
   ]
  },
  {
   "cell_type": "code",
   "execution_count": null,
   "metadata": {
    "collapsed": true
   },
   "outputs": [],
   "source": [
    "with open('matrixdata', 'rb') as handle:\n",
    "    out = pickle.load(handle)\n",
    "with open('buildgraphs', 'rb') as handle:\n",
    "    buildgraphs = pickle.load(handle)"
   ]
  },
  {
   "cell_type": "code",
   "execution_count": 33,
   "metadata": {},
   "outputs": [
    {
     "name": "stdout",
     "output_type": "stream",
     "text": [
      "201591\n"
     ]
    }
   ],
   "source": [
    "shuffle(out)\n",
    "print len(out)"
   ]
  },
  {
   "cell_type": "code",
   "execution_count": 38,
   "metadata": {},
   "outputs": [
    {
     "name": "stderr",
     "output_type": "stream",
     "text": [
      "C:\\Users\\abhna\\Anaconda2\\lib\\site-packages\\sklearn\\utils\\validation.py:429: DataConversionWarning: Data with input dtype |S32 was converted to float64 by the scale function.\n",
      "  warnings.warn(msg, _DataConversionWarning)\n"
     ]
    }
   ],
   "source": [
    "from sklearn.preprocessing import scale\n",
    "trial = scale(np.matrix(out[:160000]))\n",
    "test = scale(np.matrix(out[160000:]))"
   ]
  },
  {
   "cell_type": "code",
   "execution_count": 39,
   "metadata": {},
   "outputs": [
    {
     "data": {
      "text/plain": [
       "(160000L, 29L)"
      ]
     },
     "execution_count": 39,
     "metadata": {},
     "output_type": "execute_result"
    }
   ],
   "source": [
    "trial.shape"
   ]
  },
  {
   "cell_type": "code",
   "execution_count": 40,
   "metadata": {},
   "outputs": [
    {
     "name": "stdout",
     "output_type": "stream",
     "text": [
      "0.261693785082\n"
     ]
    }
   ],
   "source": [
    "print trial[0][0]"
   ]
  },
  {
   "cell_type": "code",
   "execution_count": 41,
   "metadata": {},
   "outputs": [
    {
     "name": "stdout",
     "output_type": "stream",
     "text": [
      "[ 0.26169379 -0.21832803  2.2521071  -0.16602842  1.13663322 -1.18914707\n",
      " -0.66572041 -0.90161406 -0.02236627  1.72621045 -0.00829185 -0.25419581\n",
      " -0.10068426 -1.99084013 -0.03233854  0.62401477 -0.14811813 -0.15294514\n",
      "  1.05776582 -0.68145686 -0.00968291 -0.88246598 -0.26404343 -0.02015974\n",
      "  1.76599042  0.37659146  0.40243672  0.        ]\n",
      "[-0.6343217]\n"
     ]
    }
   ],
   "source": [
    "x,y = np.split(trial,[28],axis=1)\n",
    "x = x.astype('float')\n",
    "y = y.astype('float')\n",
    "print x[0]\n",
    "print y[0]"
   ]
  },
  {
   "cell_type": "code",
   "execution_count": null,
   "metadata": {
    "collapsed": true
   },
   "outputs": [],
   "source": [
    "with open('matrixX', 'wb') as handle:\n",
    "    pickle.dump(x, handle, protocol=pickle.HIGHEST_PROTOCOL)\n",
    "with open('matrixY', 'wb') as handle:\n",
    "    pickle.dump(y, handle, protocol=pickle.HIGHEST_PROTOCOL)"
   ]
  },
  {
   "cell_type": "code",
   "execution_count": 42,
   "metadata": {
    "collapsed": true
   },
   "outputs": [],
   "source": [
    "theta,residuals,rank,s = np.linalg.lstsq(x, y)"
   ]
  },
  {
   "cell_type": "code",
   "execution_count": 43,
   "metadata": {},
   "outputs": [
    {
     "name": "stdout",
     "output_type": "stream",
     "text": [
      "[[  5.19138884e-02   3.84920891e-02   4.43907196e-02   5.40955814e+08\n",
      "    6.45091428e+08   5.41075467e+08  -1.92402545e-03   2.41278441e-02\n",
      "   -1.57613133e-03  -4.76637483e-02   2.06181034e-03  -8.32005590e-02\n",
      "   -5.04124761e-02   2.77736306e-01   2.58671924e-01   4.23973575e-02\n",
      "    1.62568763e-02   1.12639889e-02   8.11190903e-03  -2.24369727e-02\n",
      "    5.22301719e-03   4.79124635e-02  -1.40911827e-01  -1.49475783e-03\n",
      "   -4.86577917e-02   2.00700998e-01  -7.39058256e-02   0.00000000e+00]]\n"
     ]
    }
   ],
   "source": [
    "print theta.transpose()\n",
    "#Features - mydefender,mymidfielder,mywinger,myforward,myinfielder,mygoalkeeper,my_ranklist,mytimeplayed,timeplayed,opp_ranklist,height_list,passheight,homeoraway_list,shortpa_list,mediumpa_list,longpa_list,isdefender,isinfielder,ismidfielder,isgoalkeeper,iswinger,isforward"
   ]
  },
  {
   "cell_type": "code",
   "execution_count": 44,
   "metadata": {},
   "outputs": [
    {
     "name": "stdout",
     "output_type": "stream",
     "text": [
      "[]\n"
     ]
    }
   ],
   "source": [
    "print residuals"
   ]
  },
  {
   "cell_type": "code",
   "execution_count": 45,
   "metadata": {},
   "outputs": [
    {
     "name": "stdout",
     "output_type": "stream",
     "text": [
      "1.0\n",
      "1.0\n",
      "-5.71875539401e+12\n",
      "0.0\n",
      "0.0\n"
     ]
    }
   ],
   "source": [
    "testx,testy = np.split(test,[28],axis=1)\n",
    "testx = testx.astype('float')\n",
    "testy = testy.astype('float')\n",
    "predicttesty = np.matmul(testx,theta)\n",
    "mean_squared_error(testy,predicttesty)\n",
    "zero = np.zeros((41591,1))\n",
    "mean_squared_error(testy,zero)\n",
    "total = float(sum(y)*1.0/len(y))\n",
    "total = [total]*len(predicttesty)\n",
    "print mean_squared_error(total,testy)\n",
    "print mean_squared_error(zero,testy)\n",
    "print r2_score(testy,predicttesty)\n",
    "print r2_score(testy,total)\n",
    "print r2_score(testy,zero)"
   ]
  },
  {
   "cell_type": "code",
   "execution_count": 46,
   "metadata": {},
   "outputs": [
    {
     "name": "stderr",
     "output_type": "stream",
     "text": [
      "C:\\Users\\abhna\\Anaconda2\\lib\\site-packages\\sklearn\\utils\\validation.py:526: DataConversionWarning: A column-vector y was passed when a 1d array was expected. Please change the shape of y to (n_samples, ), for example using ravel().\n",
      "  y = column_or_1d(y, warn=True)\n"
     ]
    },
    {
     "name": "stdout",
     "output_type": "stream",
     "text": [
      "1.0\n"
     ]
    }
   ],
   "source": [
    "gbr = GradientBoostingRegressor()\n",
    "gbr.fit(x,y)\n",
    "gbrpredict = gbr.predict(testx)\n",
    "for a in gbrpredict:\n",
    "    if a<0 :\n",
    "        a=0\n",
    "print gbr.score(testx,gbrpredict)"
   ]
  },
  {
   "cell_type": "code",
   "execution_count": 48,
   "metadata": {},
   "outputs": [
    {
     "name": "stdout",
     "output_type": "stream",
     "text": [
      "0.301793327795\n",
      "0.698206672205\n"
     ]
    }
   ],
   "source": [
    "print r2_score(testy,gbrpredict)\n",
    "print mean_squared_error(testy,gbrpredict)"
   ]
  },
  {
   "cell_type": "code",
   "execution_count": 50,
   "metadata": {},
   "outputs": [
    {
     "name": "stdout",
     "output_type": "stream",
     "text": [
      "[ 0.0266604   0.04636808  0.02276374  0.00719352  0.04063146  0.0400617\n",
      "  0.02259123  0.00819679  0.          0.00639933  0.          0.\n",
      "  0.06371062  0.15031317  0.14512499  0.05311307  0.01092286  0.02482758\n",
      "  0.          0.02664662  0.          0.02156571  0.05362538  0.\n",
      "  0.03377156  0.12651368  0.0689985   0.        ]\n"
     ]
    }
   ],
   "source": [
    "print gbr.feature_importances_"
   ]
  },
  {
   "cell_type": "code",
   "execution_count": null,
   "metadata": {
    "collapsed": true
   },
   "outputs": [],
   "source": [
    "rf = RandomForestRegressor()\n",
    "rf.fit(x,y)\n",
    "rfpredict = rf.predict(testx)\n",
    "for a in rfpredict :\n",
    "    if a<0 :\n",
    "        a=0\n",
    "print rf.score(testx,rfpredict)\n",
    "print r2_score(testy,rfpredict)\n",
    "print mean_squared_error(testy,rfpredict)"
   ]
  },
  {
   "cell_type": "code",
   "execution_count": null,
   "metadata": {
    "collapsed": true
   },
   "outputs": [],
   "source": [
    "baselinex,throw = np.split(x,[6],axis=1)\n",
    "baselinetestx,throw = np.split(testx,[6],axis=1)\n",
    "gbrbase = GradientBoostingRegressor()\n",
    "gbrbase.fit(baselinex,y)\n",
    "gbrbasepredict = gbrbase.predict(baselinetestx)\n",
    "for a in gbrbasepredict:\n",
    "    if a<0 :\n",
    "        a=0\n",
    "print gbrbase.score(baselinetestx,gbrbasepredict)\n",
    "print r2_score(testy,gbrbasepredict)\n",
    "print mean_squared_error(testy,gbrbasepredict)"
   ]
  },
  {
   "cell_type": "code",
   "execution_count": null,
   "metadata": {
    "collapsed": true
   },
   "outputs": [],
   "source": [
    "np.var(y)"
   ]
  },
  {
   "cell_type": "code",
   "execution_count": 26,
   "metadata": {},
   "outputs": [],
   "source": [
    "# Build Graphs and get Centralities\n",
    "playergraphdata = {}\n",
    "playerdata = {}\n",
    "playerfeat = {}\n",
    "teamdata = {}\n",
    "count = 0\n",
    "edgedict = {}\n",
    "teameigen = {}\n",
    "for x in playerdict:\n",
    "    playergraphdata[x] = []\n",
    "    playerdata[x] = {}\n",
    "    playerdata[x]['totals'] = np.zeros((1,4))\n",
    "    playerdata[x]['length'] = 0\n",
    "    playerfeat[x] = {}\n",
    "for x in buildgraphs:\n",
    "    G = nx.DiGraph()\n",
    "    timepl = {}\n",
    "    mrank = {}\n",
    "    orank = {}\n",
    "    for a in buildgraphs[x] :\n",
    "#         if G.has_edge(a[0],a[1]):\n",
    "#             G[a[0]][a[1]]['weight']+=int(a[2])\n",
    "#             edgedict[(a[0],a[1])] +=1\n",
    "#         else :\n",
    "        G.add_edge(a[0],a[1],weight=int(a[2]))\n",
    "#             edgedict[(a[0],a[1])] =1\n",
    "        count+=int(a[2])\n",
    "        timepl[a[0]] = int(a[5])\n",
    "        mrank[a[0]] = int(a[3])\n",
    "        orank[a[0]] = int(a[4])\n",
    "        my_team = a[6]\n",
    "        opp_team = a[7]\n",
    "        ha = a[8]\n",
    "    pgc = nx.pagerank(G)\n",
    "    closec = nx.closeness_centrality(G)\n",
    "    betweenc = nx.betweenness_centrality(G)\n",
    "    players = G.nodes()\n",
    "    adj = nx.to_numpy_matrix(G)\n",
    "    model = NMF(n_components=4)\n",
    "    W = model.fit_transform(adj)\n",
    "    if ha == 1 :\n",
    "        my_team = my_team + \" Home\"\n",
    "    else :\n",
    "        my_team = my_team + \" Away\"\n",
    "    if my_team in teameigen :\n",
    "        teameigen[my_team][x.split('_')[0]] = sorted(list(np.linalg.eigvals(adj)),reverse=True)\n",
    "    else :\n",
    "        teameigen[my_team] = {}\n",
    "        teameigen[my_team][x.split('_')[0]] = sorted(list(np.linalg.eigvals(adj)),reverse=True)\n",
    "#     teamf.fit(adj)\n",
    "#     features = list(teamf.components_[0])[:14]\n",
    "#     print len(features)\n",
    "#     if len(features)<14 :\n",
    "#         while len(features)<14:\n",
    "#             features.extend([0])\n",
    "#         print \"After Correction\", len(features)\n",
    "    for m in range(len(players)) :\n",
    "        playergraphdata[players[m]].append((pgc[players[m]],closec[players[m]],betweenc[players[m]],timepl[players[m]],mrank[players[m]],orank[players[m]],int(x.split('_')[0])))\n",
    "        playerfeat[players[m]][x.split('_')[0]] = list(W[:][m])\n",
    "        \n",
    "#         playerdata[players[m]]['totals'] = np.add(playerdata[players[m]]['totals'],W[m])\n",
    "#         playerdata[players[m]]['length']+=1\n",
    "#     if my_team in teamdata :\n",
    "#         teamdata[my_team]['features'] = np.add(teamdata[my_team]['features'],features)\n",
    "#         teamdata[my_team]['length'] +=1\n",
    "#     else :\n",
    "#         teamdata[my_team] = {}\n",
    "#         teamdata[my_team]['features'] = np.add(np.zeros((1,14)),features)\n",
    "#         teamdata[my_team]['length'] =1        "
   ]
  },
  {
   "cell_type": "code",
   "execution_count": null,
   "metadata": {
    "collapsed": true
   },
   "outputs": [],
   "source": [
    "for x in teamdata:\n",
    "    teamdata[x]['features'] = teamdata[x]['features']/teamdata[x]['length']\n",
    "    teamdata[x]['length'] = 1\n",
    "for x in playerdata :\n",
    "    playerdata[x]['totals'] = playerdata[x]['totals']/playerdata[x]['length']\n",
    "    playerdata[x]['length'] = 1"
   ]
  },
  {
   "cell_type": "markdown",
   "metadata": {},
   "source": [
    "## Refined Player Data"
   ]
  },
  {
   "cell_type": "code",
   "execution_count": 31,
   "metadata": {
    "collapsed": true
   },
   "outputs": [],
   "source": [
    "for x in playergraphdata :\n",
    "    b,c,p = 0,0,0\n",
    "    for a in playergraphdata[x]:\n",
    "        try :\n",
    "            p+= a[0]*1.0*92.0/a[3]\n",
    "            c+= a[1]*1.0*92.0/a[3]\n",
    "            b+= a[2]*1.0*92.0/a[3]\n",
    "        except ZeroDivisionError :\n",
    "            p+= a[0]*1.0*92.0/1.0\n",
    "            c+= a[1]*1.0*92.0/1.0\n",
    "            b+= a[2]*1.0*92.0/1.0\n",
    "    p = p*1.0/len(playergraphdata[x])\n",
    "    c = c*1.0/len(playergraphdata[x])\n",
    "    b = b*1.0/len(playergraphdata[x])\n",
    "    playerdict[x]['pagerank'] = p\n",
    "    playerdict[x]['closeness'] = c\n",
    "    playerdict[x]['betweeness'] = b"
   ]
  },
  {
   "cell_type": "code",
   "execution_count": 32,
   "metadata": {},
   "outputs": [
    {
     "name": "stdout",
     "output_type": "stream",
     "text": [
      "[(0.08505538908161939, 1.0, 0.0, 95, 1, 58, 2009492), (0.07614321940360068, 1.0, 0.0, 96, 1, 9, 2009516), (0.0937788155466496, 1.0, 0.0, 96, 1, 62, 2009533), (0.1027740354060679, 1.0, 0.0, 94, 1, 62, 2009541), (0.07902662208866665, 1.0, 0.0, 94, 1, 58, 2009564), (0.030514411291768705, 1.0, 0.0, 37, 1, 9, 2009572), (0.08191913208878229, 1.0, 0.0, 95, 27, 4, 2009590), (0.10670174686653369, 1.0, 0.0, 94, 27, 4, 2009596), (0.06703038208259171, 1.0, 0.0, 46, 27, 4, 2009602), (0.037439627641363334, 1.0, 0.0, 32, 27, 4, 2009604), (0.09624530843944411, 1.0, 0.0, 93, 27, 4, 2009609), (0.07771574643458783, 1.0, 0.0, 94, 2, 30, 2011766), (0.11598206994205469, 1.0, 0.0, 93, 2, 11, 2011806), (0.11059975294194807, 1.0, 0.0, 92, 2, 11, 2011814), (0.10303486048196261, 1.0, 0.0, 93, 2, 22, 2011855), (0.08466698434990308, 1.0, 0.0, 93, 2, 22, 2011865), (0.09295229216947203, 1.0, 0.0, 96, 2, 7, 2011871), (0.08003076586947525, 1.0, 0.0, 94, 2, 7, 2011877), (0.1401410947190021, 1.0, 0.0, 96, 3, 51, 2015674), (0.10440394868404522, 1.0, 0.0, 90, 3, 51, 2015730), (0.10693037417311767, 1.0, 0.0, 95, 3, 18, 2015753), (0.12321290592165778, 1.0, 0.0, 94, 3, 10, 2015766), (0.1314108013578303, 1.0, 0.0, 93, 3, 10, 2015776), (0.1422374479685924, 1.0, 0.0, 97, 3, 4, 2015779), (0.08249506391724423, 1.0, 0.0, 96, 3, 4, 2015781), (0.11866182350123007, 1.0, 0.0, 92, 3, 47, 2019286), (0.11598645017806959, 1.0, 0.0, 95, 3, 12, 2019327), (0.09561057035252771, 1.0, 0.0, 93, 3, 12, 2019335), (0.10635742037831687, 1.0, 0.0, 95, 3, 47, 2019358), (0.08988782151611313, 1.0, 0.0, 91, 3, 100, 2019366), (0.08202303558048367, 1.0, 0.0, 94, 3, 100, 2019615), (0.1040756570652846, 1.0, 0.0, 100, 3, 100, 2019621), (0.08738117395574765, 1.0, 0.0, 94, 3, 5, 2019632), (0.1293571873215685, 1.0, 0.0, 94, 3, 5, 2019634)]\n"
     ]
    }
   ],
   "source": [
    "print sorted(playergraphdata['Lionel Messi'],key = lambda x :x[-1])\n",
    "# print playerdict['Lionel Messi']"
   ]
  },
  {
   "cell_type": "code",
   "execution_count": 12,
   "metadata": {},
   "outputs": [
    {
     "data": {
      "image/png": "[encoded data removed]",
      "text/plain": [
       "<matplotlib.figure.Figure at 0x1271c1d0>"
      ]
     },
     "metadata": {},
     "output_type": "display_data"
    }
   ],
   "source": [
    "cont = 0\n",
    "p = ['Lionel Messi','Cristiano Ronaldo']\n",
    "for x in p:\n",
    "    tmp = sorted(playergraphdata[x],key=lambda x:x[-1])\n",
    "    tmp2 = map(lambda x : x[0]*95.0/(x[3]+1.0),tmp)\n",
    "    plt.plot(range(len(tmp2)),tmp2,label=str(x))\n",
    "    cont+=1\n",
    "    if cont > 100 :\n",
    "        break\n",
    "plt.legend()\n",
    "plt.ylim(0,0.5)\n",
    "plt.title(\"PageRank vs Time\")\n",
    "plt.ylabel(\"PageRank\")\n",
    "plt.xlabel(\"Games\")\n",
    "plt.show()"
   ]
  },
  {
   "cell_type": "code",
   "execution_count": 13,
   "metadata": {},
   "outputs": [
    {
     "data": {
      "image/png": "[encoded data removed]",
      "text/plain": [
       "<matplotlib.figure.Figure at 0x1273c048>"
      ]
     },
     "metadata": {},
     "output_type": "display_data"
    }
   ],
   "source": [
    "tmp = sorted(playergraphdata['Lionel Messi'],key = lambda x :x[-1])\n",
    "tmp2 = map(lambda x : x[0],tmp)\n",
    "plt.plot(range(len(tmp2)),tmp2)\n",
    "plt.show()"
   ]
  },
  {
   "cell_type": "code",
   "execution_count": 14,
   "metadata": {
    "collapsed": true
   },
   "outputs": [],
   "source": [
    "degree_sequence=sorted(nx.degree(G).values(),reverse=True) # degree sequence"
   ]
  },
  {
   "cell_type": "code",
   "execution_count": 15,
   "metadata": {},
   "outputs": [
    {
     "data": {
      "image/png": "[encoded data removed]",
      "text/plain": [
       "<matplotlib.figure.Figure at 0x12735828>"
      ]
     },
     "metadata": {},
     "output_type": "display_data"
    }
   ],
   "source": [
    "helpplot = {}\n",
    "for x in degree_sequence :\n",
    "    if x in helpplot:\n",
    "        helpplot[x]+=1\n",
    "    else :\n",
    "        helpplot[x]=1\n",
    "lists = sorted(helpplot.items())\n",
    "x, y = zip(*lists)\n",
    "plt.ylabel('Number of Players')\n",
    "plt.xlabel('In Degree + Out Degree')\n",
    "plt.title('Power Law!')\n",
    "plt.loglog(x,y,'ro')\n",
    "plt.show()"
   ]
  },
  {
   "cell_type": "code",
   "execution_count": 16,
   "metadata": {},
   "outputs": [
    {
     "data": {
      "text/plain": [
       "196"
      ]
     },
     "execution_count": 16,
     "metadata": {},
     "output_type": "execute_result"
    }
   ],
   "source": [
    "G.number_of_edges()"
   ]
  },
  {
   "cell_type": "code",
   "execution_count": null,
   "metadata": {
    "collapsed": true
   },
   "outputs": [],
   "source": [
    "page = nx.pagerank(G)\n",
    "bet = nx.betweenness_centrality(G)\n",
    "close = nx.closeness_centrality(G)\n",
    "for x in playerdict:\n",
    "    playerdict[x]['pagerank'] = page[x]\n",
    "    playerdict[x]['closeness'] = close[x]\n",
    "    playerdict[x]['betweeness'] = bet[x]"
   ]
  },
  {
   "cell_type": "code",
   "execution_count": null,
   "metadata": {
    "collapsed": true
   },
   "outputs": [],
   "source": [
    "player = G.nodes()\n",
    "adj = nx.to_numpy_matrix(G)\n",
    "ind = player.index('Lionel Messi')"
   ]
  },
  {
   "cell_type": "code",
   "execution_count": null,
   "metadata": {
    "collapsed": true
   },
   "outputs": [],
   "source": [
    "adj = nx.to_numpy_matrix(G)\n",
    "model = NMF(n_components=4)\n",
    "W = model.fit_transform(adj)"
   ]
  },
  {
   "cell_type": "code",
   "execution_count": null,
   "metadata": {
    "collapsed": true
   },
   "outputs": [],
   "source": [
    "count = 0\n",
    "for x in player:\n",
    "    playerdict[x]['features'] = list(W[count])\n",
    "    count+=1"
   ]
  },
  {
   "cell_type": "code",
   "execution_count": null,
   "metadata": {
    "collapsed": true
   },
   "outputs": [],
   "source": [
    "playerdict['Lionel Messi']"
   ]
  },
  {
   "cell_type": "code",
   "execution_count": null,
   "metadata": {
    "collapsed": true
   },
   "outputs": [],
   "source": [
    "okay = KMeans(n_clusters=10)\n",
    "okay = okay.fit_predict(W)"
   ]
  },
  {
   "cell_type": "code",
   "execution_count": null,
   "metadata": {
    "collapsed": true
   },
   "outputs": [],
   "source": [
    "clubbings = {}\n",
    "for x in range(len(player)):\n",
    "    if okay[x] in clubbings :\n",
    "        name = player[x]\n",
    "        clubbings[okay[x]].append(name)\n",
    "    else :\n",
    "        clubbings[okay[x]] = []"
   ]
  },
  {
   "cell_type": "code",
   "execution_count": null,
   "metadata": {
    "collapsed": true
   },
   "outputs": [],
   "source": [
    "for x in clubbings:\n",
    "    print len(clubbings[x])"
   ]
  },
  {
   "cell_type": "code",
   "execution_count": null,
   "metadata": {
    "collapsed": true
   },
   "outputs": [],
   "source": [
    "# for x in clubbings :\n",
    "#     print len(clubbings[x])"
   ]
  },
  {
   "cell_type": "code",
   "execution_count": null,
   "metadata": {
    "collapsed": true
   },
   "outputs": [],
   "source": [
    "print clubbings[0]"
   ]
  },
  {
   "cell_type": "code",
   "execution_count": null,
   "metadata": {
    "collapsed": true
   },
   "outputs": [],
   "source": [
    "for x in edgedict:\n",
    "    G[x[0]][x[1]]['weight'] = G[x[0]][x[1]]['weight']/int(edgedict[x])"
   ]
  },
  {
   "cell_type": "code",
   "execution_count": 17,
   "metadata": {},
   "outputs": [
    {
     "name": "stdout",
     "output_type": "stream",
     "text": [
      "{'2009604': [0.5074353427763918, 0.504391701147194, 0.57047274537135517, 0.014239372529590812], '2009602': [0.43214837675881068, 1.2211317378544566, 1.0343668465415143, 0.70491301688091068], '2009516': [1.1153418588562225, 1.8576408287463151, 0.27713786942351931, 0.47900031417383293], '2015766': [0.0, 1.9323931803052974, 2.9535867612236624, 0.30366519755079191], '2009609': [1.1292552979400459, 0.59294008265158493, 0.14662678362437212, 2.1990177683975536], '2009596': [0.0087598512998662541, 2.6125880755476616, 0.7693163819017087, 1.4884247200467731], '2009492': [0.18886830665045587, 2.4996242016935928, 1.3122042913467047, 0.78788842595298225], '2009590': [1.0526894517474157, 2.0675647771500483, 0.34702284055126664, 0.0], '2011814': [2.4434144573175969, 0.48078318155398453, 1.0803913595077672, 1.2448918950609182], '2011865': [2.132534143488146, 0.706718958258023, 0.46725441001836349, 0.38679110635382585], '2019327': [0.27898465502992748, 0.0, 0.41351149743128124, 1.627585680462567], '2015781': [1.3138778882167836, 0.87224979428658178, 0.68424347837363397, 0.46832893084351584], '2019286': [0.4123742788685747, 2.8304624871345085, 1.4183216806170211, 0.43638245695668981], '2019366': [1.0766777405537094, 1.1425591613272188, 1.5255137454286258, 0.42885366390976343], '2019634': [0.39019974103693927, 0.097010444150795516, 2.1228984081197182, 1.7494161438417284], '2011806': [2.2678215645471855, 2.5682459438570997, 0.42045782454620034, 0.0], '2009541': [1.4358766784228962, 2.6729975597879467, 0.0, 3.2551618114547529], '2019632': [0.76647236035820032, 1.4653040482759023, 0.69497648112681742, 0.20049223245703257], '2009564': [1.4689079111589218, 0.31769601337002584, 0.94840633620798043, 1.4262895480570337], '2019615': [0.13009498289019375, 0.0, 1.4771909167315029, 0.93430393243192], '2015753': [0.80843190022211253, 0.0, 1.6642848561818031, 0.83643736039086181], '2015779': [0.070936268276631201, 1.4933502737927133, 3.9688378635468409, 0.0], '2015776': [2.7738306785388867, 0.0, 3.5935631368645544, 0.0], '2015730': [0.0, 1.1527724439658595, 1.4559604910319122, 2.0482099728197505], '2015674': [1.9669485929559012, 0.74671585595944234, 3.5916270493236997, 0.0], '2011871': [1.1051001876095141, 0.022597612613020835, 0.57277472573796973, 1.2970715683307341], '2011877': [0.81426472000505845, 0.464585722094008, 0.76288168526442068, 0.063497011964627786], '2019358': [0.42008047524967806, 1.0791537777027449, 2.4762595637404008, 0.84109712404540837], '2011766': [0.57225167107286057, 1.6883272654220367, 0.87932322670850638, 0.054752550770435365], '2009533': [0.33826304515779071, 0.17894617005326838, 2.8857653315420158, 1.6933210700159191], '2019621': [0.63901676314306788, 1.665009715260314, 0.56391319043169974, 0.0], '2009572': [0.031700372029271069, 0.42699591650154828, 0.0, 0.0], '2019335': [1.5007797473427045, 0.16534458895461387, 0.049175854844836241, 1.8651587345876814], '2011855': [2.9633966715979665, 0.88206416073256932, 1.7407414666693612, 0.0]}\n"
     ]
    }
   ],
   "source": [
    "print playerfeat['Lionel Messi']"
   ]
  },
  {
   "cell_type": "code",
   "execution_count": 104,
   "metadata": {
    "collapsed": true
   },
   "outputs": [],
   "source": [
    "t1,t2= [],[]\n",
    "for x in sorted(playerfeat['Lionel Messi']):\n",
    "    t1.append(playerfeat['Lionel Messi'][x][0])\n",
    "    t2.append(playerfeat['Lionel Messi'][x][1])"
   ]
  },
  {
   "cell_type": "code",
   "execution_count": 103,
   "metadata": {},
   "outputs": [
    {
     "name": "stdout",
     "output_type": "stream",
     "text": [
      "[0.50743534277639102, 0.50439170114719423, 0.57047274537135728, 0.014239372529590731]\n"
     ]
    }
   ],
   "source": [
    "print playerfeat['Lionel Messi']['2009604']"
   ]
  },
  {
   "cell_type": "code",
   "execution_count": 106,
   "metadata": {},
   "outputs": [
    {
     "data": {
      "text/plain": [
       "[<matplotlib.lines.Line2D at 0x17d6c4e0>]"
      ]
     },
     "execution_count": 106,
     "metadata": {},
     "output_type": "execute_result"
    }
   ],
   "source": [
    "plt.plot(range(len(t1)),t1)\n",
    "plt.plot(range(len(t2)),t2)"
   ]
  },
  {
   "cell_type": "code",
   "execution_count": 107,
   "metadata": {},
   "outputs": [
    {
     "data": {
      "image/png": "[encoded data removed]",
      "text/plain": [
       "<matplotlib.figure.Figure at 0x133bd940>"
      ]
     },
     "metadata": {},
     "output_type": "display_data"
    }
   ],
   "source": [
    "plt.show()"
   ]
  },
  {
   "cell_type": "code",
   "execution_count": 18,
   "metadata": {},
   "outputs": [
    {
     "name": "stdout",
     "output_type": "stream",
     "text": [
      "(64.948057972+0j)\n",
      "(72.6910635075+0j)\n",
      "(92.2999075051+0j)\n",
      "(93.3210646667+0j)\n",
      "(66.8274276497+0j)\n",
      "(43.6292562612+0j)\n",
      "(50.8332633249+0j)\n",
      "(78.6356176311+0j)\n",
      "(75.2423777969+0j)\n",
      "(69.9710586343+0j)\n",
      "(53.1979351458+0j)\n",
      "(76.2694509135+0j)\n",
      "(84.7732639266+0j)\n",
      "(61.0821462569+0j)\n",
      "(70.8704255022+0j)\n",
      "(59.1085547806+0j)\n",
      "(65.6050582546+0j)\n",
      "(59.711785916+0j)\n",
      "(66.6374639615+0j)\n",
      "(65.3475740886+0j)\n",
      "(58.6343859613+0j)\n",
      "(40.9746200154+0j)\n",
      "(63.2858382389+0j)\n",
      "(61.5835099828+0j)\n",
      "(59.4850052981+0j)\n",
      "(60.7269270604+0j)\n",
      "(67.9122844567+0j)\n",
      "(67.1259816515+0j)\n",
      "(32.4003712776+0j)\n",
      "(46.6646570228+0j)\n",
      "(57.6136743906+0j)\n",
      "(96.287395839+0j)\n",
      "(52.6251399206+0j)\n",
      "(46.6012593681+0j)\n",
      "(52.5143369438+0j)\n",
      "(45.3023921009+0j)\n"
     ]
    }
   ],
   "source": [
    "for x in sorted(teameigen['Barcelona']) :\n",
    "    print teameigen['Barcelona'][x][0]"
   ]
  },
  {
   "cell_type": "code",
   "execution_count": 120,
   "metadata": {},
   "outputs": [
    {
     "name": "stdout",
     "output_type": "stream",
     "text": [
      "(34.8357873384+0j)\n",
      "(47.5786297525+0j)\n",
      "(30.8924720185+0j)\n",
      "(23.9964825407+0j)\n",
      "(37.146912875+0j)\n",
      "(39.6872353027+0j)\n",
      "(44.2128673015+0j)\n",
      "(49.8499414226+0j)\n",
      "(37.5461574106+0j)\n",
      "(56.6150132658+0j)\n",
      "(34.5440485498+0j)\n",
      "(64.1143844005+0j)\n",
      "(27.5798239025+0j)\n",
      "(37.4796586097+0j)\n",
      "(34.0588389509+0j)\n",
      "(34.2137129039+0j)\n",
      "(17.7270418133+0j)\n",
      "(34.9301116017+0j)\n",
      "(52.911718296+0j)\n",
      "(33.2334868112+0j)\n",
      "(26.5711283565+0j)\n",
      "(34.5582117685+0j)\n",
      "(52.1250273343+0j)\n",
      "(23.5776944719+0j)\n",
      "(33.4346116484+0j)\n",
      "(38.6577677709+0j)\n"
     ]
    }
   ],
   "source": [
    "for x in sorted(teameigen['Chelsea']) :\n",
    "    print teameigen['Chelsea'][x][0]"
   ]
  },
  {
   "cell_type": "code",
   "execution_count": 93,
   "metadata": {},
   "outputs": [],
   "source": [
    "teamstopeigen = {}\n",
    "for x in teameigen :\n",
    "    teamstopeigen[x] = []\n",
    "    for a in sorted(teameigen[x]) :\n",
    "        teameigen[x][a] = [int(np.real(teameigen[x][a][y])) for y in range(len(teameigen[x][a]))]\n",
    "        teamstopeigen[x].append(teameigen[x][a])"
   ]
  },
  {
   "cell_type": "code",
   "execution_count": 76,
   "metadata": {},
   "outputs": [
    {
     "data": {
      "image/png": "[encoded data removed]",
      "text/plain": [
       "<matplotlib.figure.Figure at 0x11203ba8>"
      ]
     },
     "metadata": {},
     "output_type": "display_data"
    }
   ],
   "source": [
    "count = 0\n",
    "t1 = ['Real Madrid Home','Real Madrid Away']\n",
    "t2 = ['Barcelona Home','Barcelona Away']\n",
    "for x in t2 :\n",
    "    plt.plot(range(len(teamstopeigen[x])),teamstopeigen[x],label=x)\n",
    "plt.legend()\n",
    "plt.xlabel(\"Games\")\n",
    "plt.ylabel(\"Top Eigenvalue\")\n",
    "plt.title(\"Top Eigenvalue vs Time\")\n",
    "plt.show()"
   ]
  },
  {
   "cell_type": "code",
   "execution_count": 71,
   "metadata": {},
   "outputs": [
    {
     "name": "stdout",
     "output_type": "stream",
     "text": [
      "[[46, 95, '2009492'], [48, 96, '2009516'], [67, 96, '2009533'], [81, 94, '2009541'], [54, 94, '2009564'], [31, 37, '2009572'], [44, 95, '2009590'], [54, 94, '2009596'], [122, 46, '2009602'], [124, 32, '2009604'], [48, 93, '2009609'], [40, 94, '2011766'], [67, 93, '2011806'], [63, 92, '2011814'], [76, 93, '2011855'], [46, 93, '2011865'], [44, 96, '2011871'], [27, 94, '2011877'], [71, 96, '2015674'], [61, 90, '2015730'], [36, 95, '2015753'], [63, 94, '2015766'], [75, 93, '2015776'], [63, 97, '2015779'], [35, 96, '2015781'], [70, 92, '2019286'], [20, 95, '2019327'], [41, 93, '2019335'], [59, 95, '2019358'], [72, 91, '2019366'], [30, 94, '2019615'], [35, 100, '2019621'], [35, 94, '2019632'], [46, 94, '2019634']]\n"
     ]
    }
   ],
   "source": [
    "for x in playerpasses:\n",
    "    playerpasses[x] = list(sorted(playerpasses[x],key =lambda x:x[-1]))\n",
    "    for a in range(len(playerpasses[x])) :\n",
    "        playerpasses[x][a] = list(playerpasses[x][a])\n",
    "        playerpasses[x][a][0] = int(float(playerpasses[x][a][0])*95.0/(playerpasses[x][a][1]+1.0))\n",
    "print playerpasses['Lionel Messi']"
   ]
  },
  {
   "cell_type": "code",
   "execution_count": 74,
   "metadata": {},
   "outputs": [
    {
     "name": "stdout",
     "output_type": "stream",
     "text": [
      "[46, 48, 67, 81, 54, 31, 44, 54, 122, 124, 48, 40, 67, 63, 76, 46, 44, 27, 71, 61, 36, 63, 75, 63, 35, 70, 20, 41, 59, 72, 30, 35, 35, 46]\n",
      "[38, 37, 17, 16, 34, 21, 48, 31, 32, 36, 16, 25, 39, 27, 33, 31, 23, 19, 16, 28, 39, 27, 29, 12]\n"
     ]
    },
    {
     "data": {
      "image/png": "[encoded data removed]",
      "text/plain": [
       "<matplotlib.figure.Figure at 0x128fdac8>"
      ]
     },
     "metadata": {},
     "output_type": "display_data"
    }
   ],
   "source": [
    "cont = 0\n",
    "p = ['Lionel Messi','Cristiano Ronaldo']\n",
    "for x in p:\n",
    "    tmp2 = map(lambda x:x[0],playerpasses[x])\n",
    "    print tmp2\n",
    "    plt.plot(range(len(tmp2)),tmp2,label=str(x))\n",
    "    cont+=1\n",
    "    if cont > 100 :\n",
    "        break\n",
    "plt.legend()\n",
    "plt.title(\"PlayerPasses vs Games\")\n",
    "plt.ylabel(\"PlayerPasses\")\n",
    "plt.xlabel(\"Games\")\n",
    "plt.show()"
   ]
  },
  {
   "cell_type": "code",
   "execution_count": 98,
   "metadata": {},
   "outputs": [],
   "source": [
    "for r in range(len(teamstopeigen['Barcelona Home'])) :\n",
    "    okay = teamstopeigen['Barcelona Home'][r]\n",
    "    teamstopeigen['Barcelona Home'][r] = [x*1.0/okay[0] for x in okay]"
   ]
  },
  {
   "cell_type": "code",
   "execution_count": 96,
   "metadata": {},
   "outputs": [
    {
     "name": "stdout",
     "output_type": "stream",
     "text": [
      "[[1.0, 0.16666666666666666, 0.09722222222222222, 0.013888888888888888, 0.013888888888888888, 0.0, -0.027777777777777776, -0.06944444444444445, -0.06944444444444445, -0.1388888888888889, -0.18055555555555555, -0.25, -0.2777777777777778, -0.2777777777777778], [1.0, 0.21505376344086022, 0.053763440860215055, 0.010752688172043012, 0.0, -0.010752688172043012, -0.03225806451612903, -0.03225806451612903, -0.03225806451612903, -0.06451612903225806, -0.10752688172043011, -0.24731182795698925, -0.3118279569892473, -0.43010752688172044], [1.0, 0.16666666666666666, 0.15151515151515152, 0.0, 0.0, 0.0, -0.015151515151515152, -0.09090909090909091, -0.15151515151515152, -0.15151515151515152, -0.16666666666666666, -0.16666666666666666, -0.2727272727272727, -0.2727272727272727], [1.0, 0.14102564102564102, 0.14102564102564102, 0.0, 0.0, 0.0, -0.02564102564102564, -0.0641025641025641, -0.0641025641025641, -0.14102564102564102, -0.14102564102564102, -0.21794871794871795, -0.3076923076923077, -0.3076923076923077], [1.0, 0.25333333333333335, 0.14666666666666667, 0.0, 0.0, -0.02666666666666667, -0.02666666666666667, -0.12, -0.12, -0.16, -0.29333333333333333, -0.29333333333333333, -0.29333333333333333], [1.0, 0.22641509433962265, 0.09433962264150944, 0.0, 0.0, 0.0, -0.07547169811320754, -0.07547169811320754, -0.07547169811320754, -0.07547169811320754, -0.16981132075471697, -0.16981132075471697, -0.24528301886792453, -0.41509433962264153], [1.0, 0.2619047619047619, 0.09523809523809523, 0.011904761904761904, 0.0, -0.011904761904761904, -0.05952380952380952, -0.10714285714285714, -0.15476190476190477, -0.15476190476190477, -0.23809523809523808, -0.2976190476190476, -0.2976190476190476], [1.0, 0.22033898305084745, 0.11864406779661017, 0.0, 0.0, -0.03389830508474576, -0.03389830508474576, -0.0847457627118644, -0.0847457627118644, -0.1694915254237288, -0.1694915254237288, -0.3559322033898305, -0.3728813559322034], [1.0, 0.35384615384615387, 0.15384615384615385, 0.0, 0.0, 0.0, -0.015384615384615385, -0.1076923076923077, -0.1076923076923077, -0.15384615384615385, -0.24615384615384617, -0.35384615384615387, -0.49230769230769234], [1.0, 0.2878787878787879, 0.19696969696969696, 0.015151515151515152, 0.0, 0.0, -0.030303030303030304, -0.030303030303030304, -0.06060606060606061, -0.16666666666666666, -0.22727272727272727, -0.2878787878787879, -0.2878787878787879, -0.4090909090909091], [1.0, 0.4, 0.3, 0.05, -0.025, -0.05, -0.075, -0.1, -0.175, -0.225, -0.225, -0.25, -0.575], [1.0, 0.3333333333333333, 0.2857142857142857, 0.031746031746031744, -0.09523809523809523, -0.09523809523809523, -0.20634920634920634, -0.20634920634920634, -0.2857142857142857, -0.2857142857142857, -0.49206349206349204], [1.0, 0.3333333333333333, 0.2, 0.05, -0.016666666666666666, -0.03333333333333333, -0.05, -0.05, -0.06666666666666667, -0.18333333333333332, -0.26666666666666666, -0.31666666666666665, -0.5666666666666667], [1.0, 0.16417910447761194, 0.16417910447761194, 0.0, 0.0, 0.0, -0.014925373134328358, -0.014925373134328358, -0.08955223880597014, -0.16417910447761194, -0.22388059701492538, -0.22388059701492538, -0.5671641791044776], [1.0, 0.2826086956521739, 0.21739130434782608, 0.0, 0.0, 0.0, 0.0, -0.10869565217391304, -0.10869565217391304, -0.15217391304347827, -0.2826086956521739, -0.30434782608695654, -0.45652173913043476], [1.0, 0.43859649122807015, 0.19298245614035087, 0.10526315789473684, 0.0, -0.03508771929824561, -0.03508771929824561, -0.07017543859649122, -0.15789473684210525, -0.19298245614035087, -0.19298245614035087, -0.21052631578947367, -0.3508771929824561, -0.45614035087719296], [1.0, 0.23076923076923078, 0.23076923076923078, 0.0, 0.0, -0.019230769230769232, -0.019230769230769232, -0.09615384615384616, -0.1346153846153846, -0.21153846153846154, -0.21153846153846154, -0.2692307692307692, -0.46153846153846156], [1.0, 0.25, 0.25, 0.0, -0.019230769230769232, -0.07692307692307693, -0.07692307692307693, -0.1346153846153846, -0.1346153846153846, -0.25, -0.25, -0.46153846153846156]]\n"
     ]
    }
   ],
   "source": [
    "print teamstopeigen['Barcelona Away']"
   ]
  },
  {
   "cell_type": "code",
   "execution_count": 99,
   "metadata": {},
   "outputs": [
    {
     "name": "stdout",
     "output_type": "stream",
     "text": [
      "[0.23788429013176426, 0.22437377845777715, 0.24627764235262825, 0.21730684349602, 0.2564429771123849, 0.212808445026824, 0.14175100613232275, 0.2527061004831388, 0.25681149228448363, 0.24532826544661426, 0.21177830591689037, 0.19302742236221446, 0.21266195866207988, 0.2723097796943314, 0.27282918445226656, 0.26785340774643474, 0.19349921783645782]\n"
     ]
    }
   ],
   "source": [
    "from math import sqrt\n",
    "Home = []\n",
    "for r in range(len(teamstopeigen['Barcelona Home'])-1):\n",
    "    subtractor = [a_i - b_i for a_i, b_i in zip(teamstopeigen['Barcelona Home'][r+1], teamstopeigen['Barcelona Home'][r])]\n",
    "    subtractor = sqrt(sum([u*u for u in subtractor]))\n",
    "    Home.append(subtractor)\n",
    "print Home"
   ]
  },
  {
   "cell_type": "code",
   "execution_count": 100,
   "metadata": {},
   "outputs": [
    {
     "name": "stdout",
     "output_type": "stream",
     "text": [
      "[0.2063238930029302, 0.2719378098520647, 0.12279869838184597, 0.22147850565712485, 0.2247009888572322, 0.19776655428426043, 0.15149197863506972, 0.20493213915175604, 0.24805928387509527, 0.36708122069854193, 0.3574788983442251, 0.419336871069847, 0.21812019937573068, 0.22033848329194547, 0.2683960049084032, 0.27166305315921035, 0.22178004989751535] [0.23788429013176426, 0.22437377845777715, 0.24627764235262825, 0.21730684349602, 0.2564429771123849, 0.212808445026824, 0.14175100613232275, 0.2527061004831388, 0.25681149228448363, 0.24532826544661426, 0.21177830591689037, 0.19302742236221446, 0.21266195866207988, 0.2723097796943314, 0.27282918445226656, 0.26785340774643474, 0.19349921783645782]\n"
     ]
    }
   ],
   "source": [
    "print Away,Home"
   ]
  },
  {
   "cell_type": "code",
   "execution_count": 106,
   "metadata": {},
   "outputs": [
    {
     "data": {
      "image/png": "[encoded data removed]",
      "text/plain": [
       "<matplotlib.figure.Figure at 0x13a28a20>"
      ]
     },
     "metadata": {},
     "output_type": "display_data"
    }
   ],
   "source": [
    "plt.plot(range(1,len(Home)+1),Home,label=\"Barcelona Home\")\n",
    "plt.plot(range(1,len(Away)+1),Away,label=\"Barcelona Away\")\n",
    "plt.legend()\n",
    "plt.title(\"Lambda Distance vs Games\")\n",
    "plt.ylabel(\"Lambda Distance\")\n",
    "plt.xlabel(\"Games\")\n",
    "plt.show()"
   ]
  },
  {
   "cell_type": "code",
   "execution_count": 103,
   "metadata": {},
   "outputs": [
    {
     "name": "stdout",
     "output_type": "stream",
     "text": [
      "[0.23788429013176426, 0.22437377845777715, 0.24627764235262825, 0.21730684349602, 0.2564429771123849, 0.212808445026824, 0.14175100613232275, 0.2527061004831388, 0.25681149228448363, 0.24532826544661426, 0.21177830591689037, 0.19302742236221446, 0.21266195866207988, 0.2723097796943314, 0.27282918445226656, 0.26785340774643474, 0.19349921783645782]\n"
     ]
    }
   ],
   "source": [
    "print Home"
   ]
  },
  {
   "cell_type": "code",
   "execution_count": null,
   "metadata": {
    "collapsed": true
   },
   "outputs": [],
   "source": []
  }
 ],
 "metadata": {
  "kernelspec": {
   "display_name": "Python 2",
   "language": "python",
   "name": "python2"
  },
  "language_info": {
   "codemirror_mode": {
    "name": "ipython",
    "version": 2
   },
   "file_extension": ".py",
   "mimetype": "text/x-python",
   "name": "python",
   "nbconvert_exporter": "python",
   "pygments_lexer": "ipython2",
   "version": "2.7.13"
  }
 },
 "nbformat": 4,
 "nbformat_minor": 2
}
